{
 "cells": [
  {
   "cell_type": "code",
   "execution_count": 44,
   "metadata": {},
   "outputs": [],
   "source": [
    "import pandas as pd\n",
    "from sklearn.model_selection import train_test_split\n",
    "from sklearn.preprocessing import StandardScaler\n",
    "from sklearn.ensemble import RandomForestClassifier\n",
    "from sklearn.metrics import accuracy_score, classification_report, confusion_matrix\n",
    "import matplotlib.pyplot as plt\n",
    "import seaborn as sns"
   ]
  },
  {
   "cell_type": "markdown",
   "metadata": {},
   "source": [
    "1. Load and Explore Data:"
   ]
  },
  {
   "cell_type": "code",
   "execution_count": 45,
   "metadata": {},
   "outputs": [
    {
     "name": "stderr",
     "output_type": "stream",
     "text": [
      "C:\\Users\\CODECARTZ\\AppData\\Local\\Temp\\ipykernel_2736\\122489428.py:5: DtypeWarning: Columns (10,26,37,38,47,48,49,50,51,53,60,78) have mixed types. Specify dtype option on import or set low_memory=False.\n",
      "  data = pd.read_csv(\"CRM-Contacts_clean.csv\")\n"
     ]
    }
   ],
   "source": [
    "import pandas as pd\n",
    "import numpy as np\n",
    "\n",
    "# Load the main dataset\n",
    "data = pd.read_csv(\"CRM-Contacts_clean.csv\")\n",
    "\n",
    "# Function to clean 'Geburtsjahr' column\n",
    "def cleanGeburtsjahr(x):\n",
    "    if (len(str(x))) == 2 and x > 24:\n",
    "        return 1900 + x\n",
    "    if (len(str(x))) != 4:\n",
    "        return 0\n",
    "    return x\n",
    "\n",
    "# Function to transform a column to int\n",
    "def transformColumnToInt(name):\n",
    "    data[name] = pd.to_numeric(data[name], errors='coerce').fillna(0).astype('int')\n",
    "\n",
    "# Replace spaces in column values with underscores\n",
    "data = data.replace(' ', '_', regex=True)\n",
    "\n",
    "# Specify columns to convert to integers\n",
    "columnsToInt = ['Rentenbeitraege', 'Einreisejahr', 'Number_Of_Chats', 'Kinder', 'phone_pension',\n",
    "                'temporary_right_of_residence_since', 'Anzahl_Kinder_unter_25_Jahre', 'acquired_right_of_residence']\n",
    "\n",
    "# Convert specified columns to integers\n",
    "for column in columnsToInt:\n",
    "    transformColumnToInt(column)\n",
    "\n",
    "# Clean the 'Geburtsjahr' column\n",
    "data['Geburtsjahr'] = data['Geburtsjahr'].apply(cleanGeburtsjahr)\n",
    "\n",
    "# Continue to the next steps in your project.\n"
   ]
  },
  {
   "cell_type": "code",
   "execution_count": 46,
   "metadata": {},
   "outputs": [],
   "source": [
    "# Create the feature matrix (X) and target variable (y)\n",
    "selected_features = [\n",
    "    'Geburtsjahr', 'Einreisejahr', 'phone_net_income', 'receives_support_from_job_center',\n",
    "    'basis_for_naturalization_check', 'Familienstand', 'Rentenbeitraege', 'Number_Of_Chats',\n",
    "    'completed_job_training', 'Kinder', 'Rente', 'phone_pension', 'utm_campaign', 'Visitor_Score',\n",
    "    'Other_State', 'Anzahl_Kinder_unter_25_Jahre', 'acquired_right_of_residence', 'language_certificate',\n",
    "    'Minijob', 'Email_Opt_Out', 'Integrationsnachweis', 'application_permanent_right_of_residence',\n",
    "    'Was_wollen_Sie', 'basis_for_naturalization', 'graduation', 'asylum_status'\n",
    "]\n",
    "\n",
    "X = data[selected_features]\n",
    "\n",
    "\n",
    "# Preprocess the 'phone_net_income' column to extract numeric values\n",
    "X.loc[:, 'phone_net_income'] = X['phone_net_income'].str.extract('(\\d+)').astype(float)\n",
    "\n",
    "\n",
    "# Identify categorical columns\n",
    "categorical_columns = ['Familienstand', 'basis_for_naturalization_check', 'Minijob', 'asylum_status']\n",
    "\n",
    "# One-hot encode categorical columns\n",
    "X = pd.get_dummies(X, columns=categorical_columns, drop_first=True)\n",
    "\n",
    "y = data['sales']\n",
    "\n"
   ]
  },
  {
   "cell_type": "code",
   "execution_count": 61,
   "metadata": {},
   "outputs": [
    {
     "name": "stdout",
     "output_type": "stream",
     "text": [
      "Accuracy: 0.9143421664342166\n",
      "Precision: 0.8958307851037359\n",
      "Recall: 0.9143421664342166\n",
      "F1 Score: 0.9040858025143292\n",
      "\n",
      "Confusion Matrix:\n",
      " [[7664  202   11    0    1    0]\n",
      " [ 407  202    6    2    0    0]\n",
      " [  50   43    1    0    0    0]\n",
      " [   5    8    0    0    0    0]\n",
      " [   1    0    0    0    0    0]\n",
      " [   0    1    0    0    0    0]]\n",
      "\n",
      "Classification Report:\n",
      "               precision    recall  f1-score   support\n",
      "\n",
      "           0       0.94      0.97      0.96      7878\n",
      "           1       0.44      0.33      0.38       617\n",
      "           2       0.06      0.01      0.02        94\n",
      "           3       0.00      0.00      0.00        13\n",
      "           4       0.00      0.00      0.00         1\n",
      "           5       0.00      0.00      0.00         1\n",
      "\n",
      "    accuracy                           0.91      8604\n",
      "   macro avg       0.24      0.22      0.23      8604\n",
      "weighted avg       0.90      0.91      0.90      8604\n",
      "\n"
     ]
    },
    {
     "name": "stderr",
     "output_type": "stream",
     "text": [
      "c:\\Users\\CODECARTZ\\AppData\\Local\\Programs\\Python\\Python39\\lib\\site-packages\\sklearn\\metrics\\_classification.py:1344: UndefinedMetricWarning: Precision is ill-defined and being set to 0.0 in labels with no predicted samples. Use `zero_division` parameter to control this behavior.\n",
      "  _warn_prf(average, modifier, msg_start, len(result))\n",
      "c:\\Users\\CODECARTZ\\AppData\\Local\\Programs\\Python\\Python39\\lib\\site-packages\\sklearn\\metrics\\_classification.py:1344: UndefinedMetricWarning: Precision and F-score are ill-defined and being set to 0.0 in labels with no predicted samples. Use `zero_division` parameter to control this behavior.\n",
      "  _warn_prf(average, modifier, msg_start, len(result))\n",
      "c:\\Users\\CODECARTZ\\AppData\\Local\\Programs\\Python\\Python39\\lib\\site-packages\\sklearn\\metrics\\_classification.py:1344: UndefinedMetricWarning: Precision and F-score are ill-defined and being set to 0.0 in labels with no predicted samples. Use `zero_division` parameter to control this behavior.\n",
      "  _warn_prf(average, modifier, msg_start, len(result))\n",
      "c:\\Users\\CODECARTZ\\AppData\\Local\\Programs\\Python\\Python39\\lib\\site-packages\\sklearn\\metrics\\_classification.py:1344: UndefinedMetricWarning: Precision and F-score are ill-defined and being set to 0.0 in labels with no predicted samples. Use `zero_division` parameter to control this behavior.\n",
      "  _warn_prf(average, modifier, msg_start, len(result))\n"
     ]
    }
   ],
   "source": [
    "from sklearn.metrics import accuracy_score, precision_score, recall_score, f1_score, confusion_matrix, classification_report\n",
    "from sklearn.model_selection import train_test_split\n",
    "from sklearn.ensemble import RandomForestClassifier  # You can choose another classifier if needed\n",
    "\n",
    "# Split the data into training and testing sets\n",
    "X_train, X_test, y_train, y_test = train_test_split(X, y, test_size=0.2, random_state=42)\n",
    "\n",
    "# Choose a machine learning algorithm (e.g., Random Forest)\n",
    "model = RandomForestClassifier(random_state=42)\n",
    "\n",
    "# Train the model on the training data\n",
    "model.fit(X_train, y_train)\n",
    "\n",
    "# Make predictions on the test data\n",
    "y_pred = model.predict(X_test)\n",
    "\n",
    "# Evaluate the model's performance\n",
    "accuracy = accuracy_score(y_test, y_pred)\n",
    "precision = precision_score(y_test, y_pred, average='weighted')\n",
    "recall = recall_score(y_test, y_pred, average='weighted')\n",
    "f1 = f1_score(y_test, y_pred, average='weighted')\n",
    "confusion = confusion_matrix(y_test, y_pred)\n",
    "\n",
    "# Display the evaluation results\n",
    "print(\"Accuracy:\", accuracy)\n",
    "print(\"Precision:\", precision)\n",
    "print(\"Recall:\", recall)\n",
    "print(\"F1 Score:\", f1)\n",
    "print(\"\\nConfusion Matrix:\\n\", confusion)\n",
    "print(\"\\nClassification Report:\\n\", classification_report(y_test, y_pred))\n"
   ]
  },
  {
   "cell_type": "code",
   "execution_count": 62,
   "metadata": {},
   "outputs": [],
   "source": [
    "from sklearn.model_selection import GridSearchCV\n",
    "\n",
    "# Define hyperparameter grid\n",
    "param_grid = {\n",
    "    'n_estimators': [100, 200, 300],\n",
    "    'max_depth': [None, 10, 20],\n",
    "    'min_samples_split': [2, 5, 10],\n",
    "    # Add other hyperparameters as needed\n",
    "}\n",
    "\n",
    "# Create a grid search object\n",
    "grid_search = GridSearchCV(model, param_grid, cv=5, n_jobs=-1)\n",
    "\n",
    "# Fit the grid search to your data\n",
    "grid_search.fit(X_train, y_train)\n",
    "\n",
    "# Get the best parameters and best estimator\n",
    "best_params = grid_search.best_params_\n",
    "best_model = grid_search.best_estimator_\n",
    "\n",
    "# Use the best model for predictions and evaluation\n",
    "y_pred = best_model.predict(X_test)\n",
    "# Continue with evaluation as in the previous step\n"
   ]
  },
  {
   "cell_type": "code",
   "execution_count": 63,
   "metadata": {},
   "outputs": [
    {
     "name": "stdout",
     "output_type": "stream",
     "text": [
      "Accuracy: 0.91\n",
      "Precision: 0.90\n",
      "Recall: 0.91\n",
      "F1-score: 0.90\n",
      "Confusion Matrix:\n",
      "[[7664  202   11    0    1    0]\n",
      " [ 407  202    6    2    0    0]\n",
      " [  50   43    1    0    0    0]\n",
      " [   5    8    0    0    0    0]\n",
      " [   1    0    0    0    0    0]\n",
      " [   0    1    0    0    0    0]]\n",
      "Classification Report:\n",
      "              precision    recall  f1-score   support\n",
      "\n",
      "           0       0.94      0.97      0.96      7878\n",
      "           1       0.44      0.33      0.38       617\n",
      "           2       0.06      0.01      0.02        94\n",
      "           3       0.00      0.00      0.00        13\n",
      "           4       0.00      0.00      0.00         1\n",
      "           5       0.00      0.00      0.00         1\n",
      "\n",
      "    accuracy                           0.91      8604\n",
      "   macro avg       0.24      0.22      0.23      8604\n",
      "weighted avg       0.90      0.91      0.90      8604\n",
      "\n"
     ]
    },
    {
     "name": "stderr",
     "output_type": "stream",
     "text": [
      "c:\\Users\\CODECARTZ\\AppData\\Local\\Programs\\Python\\Python39\\lib\\site-packages\\sklearn\\metrics\\_classification.py:1344: UndefinedMetricWarning: Precision is ill-defined and being set to 0.0 in labels with no predicted samples. Use `zero_division` parameter to control this behavior.\n",
      "  _warn_prf(average, modifier, msg_start, len(result))\n",
      "c:\\Users\\CODECARTZ\\AppData\\Local\\Programs\\Python\\Python39\\lib\\site-packages\\sklearn\\metrics\\_classification.py:1344: UndefinedMetricWarning: Precision and F-score are ill-defined and being set to 0.0 in labels with no predicted samples. Use `zero_division` parameter to control this behavior.\n",
      "  _warn_prf(average, modifier, msg_start, len(result))\n",
      "c:\\Users\\CODECARTZ\\AppData\\Local\\Programs\\Python\\Python39\\lib\\site-packages\\sklearn\\metrics\\_classification.py:1344: UndefinedMetricWarning: Precision and F-score are ill-defined and being set to 0.0 in labels with no predicted samples. Use `zero_division` parameter to control this behavior.\n",
      "  _warn_prf(average, modifier, msg_start, len(result))\n",
      "c:\\Users\\CODECARTZ\\AppData\\Local\\Programs\\Python\\Python39\\lib\\site-packages\\sklearn\\metrics\\_classification.py:1344: UndefinedMetricWarning: Precision and F-score are ill-defined and being set to 0.0 in labels with no predicted samples. Use `zero_division` parameter to control this behavior.\n",
      "  _warn_prf(average, modifier, msg_start, len(result))\n"
     ]
    }
   ],
   "source": [
    "from sklearn.metrics import accuracy_score, precision_score, recall_score, f1_score, confusion_matrix, classification_report, roc_auc_score\n",
    "\n",
    "# Evaluate the model's performance on the test set\n",
    "y_pred = model.predict(X_test)\n",
    "\n",
    "# Accuracy\n",
    "accuracy = accuracy_score(y_test, y_pred)\n",
    "print(f'Accuracy: {accuracy:.2f}')\n",
    "\n",
    "# Precision, Recall, F1-score\n",
    "precision = precision_score(y_test, y_pred, average='weighted')\n",
    "recall = recall_score(y_test, y_pred, average='weighted')\n",
    "f1 = f1_score(y_test, y_pred, average='weighted')\n",
    "print(f'Precision: {precision:.2f}')\n",
    "print(f'Recall: {recall:.2f}')\n",
    "print(f'F1-score: {f1:.2f}')\n",
    "\n",
    "# Confusion Matrix\n",
    "confusion = confusion_matrix(y_test, y_pred)\n",
    "print('Confusion Matrix:')\n",
    "print(confusion)\n",
    "\n",
    "# Classification Report\n",
    "class_report = classification_report(y_test, y_pred)\n",
    "print('Classification Report:')\n",
    "print(class_report)\n",
    "\n",
    "# ROC-AUC Score (for binary classification)\n",
    "if len(np.unique(y_test)) == 2:\n",
    "    y_prob = model.predict_proba(X_test)[:, 1]\n",
    "    roc_auc = roc_auc_score(y_test, y_prob)\n",
    "    print(f'ROC-AUC Score: {roc_auc:.2f}')\n"
   ]
  },
  {
   "cell_type": "code",
   "execution_count": 64,
   "metadata": {},
   "outputs": [
    {
     "name": "stdout",
     "output_type": "stream",
     "text": [
      "Feature Importance:\n",
      "Visitor_Score: 0.51\n",
      "phone_pension: 0.11\n",
      "Einreisejahr: 0.07\n",
      "acquired_right_of_residence: 0.06\n",
      "Anzahl_Kinder_unter_25_Jahre: 0.04\n",
      "Minijob_kein_Minijob_vorhanden: 0.04\n",
      "Familienstand_ledig: 0.04\n",
      "Kinder: 0.04\n",
      "Rentenbeitraege: 0.03\n",
      "Familienstand_verheiratet_(anerkannt): 0.02\n",
      "asylum_status_Flüchtlingseigenschaft: 0.01\n",
      "Minijob_unbefristet: 0.01\n",
      "asylum_status_Subsidiärer_Schutz: 0.01\n",
      "Number_Of_Chats: 0.01\n",
      "Email_Opt_Out: 0.00\n",
      "basis_for_naturalization_check_9_Abs._2: 0.00\n",
      "basis_for_naturalization_check_26_Abs._4: 0.00\n",
      "basis_for_naturalization_check_26_Abs._3_Satz_1: 0.00\n",
      "Geburtsjahr: 0.00\n",
      "basis_for_naturalization_check_26_Abs._3_Satz_3: 0.00\n",
      "basis_for_naturalization_check_18c_Abs._1_Satz_1_iVm_Satz_2: 0.00\n",
      "basis_for_naturalization_check_18c_Abs._2: 0.00\n",
      "basis_for_naturalization_check_35_Abs._1_Satz_1: 0.00\n",
      "basis_for_naturalization_check_18c_Abs._3: 0.00\n",
      "basis_for_naturalization_check_35_Abs._1_Satz_2: 0.00\n",
      "basis_for_naturalization_check_28_Abs._2_Satz_1: 0.00\n",
      "basis_for_naturalization_check_31_Abs._3: 0.00\n",
      "asylum_status_Mein_Asylantrag_wurde_abgelehnt: 0.00\n",
      "basis_for_naturalization_check_18c_Abs._2_Satz_iVm_Satz_3: 0.00\n",
      "phone_net_income: 0.00\n",
      "receives_support_from_job_center: 0.00\n",
      "completed_job_training: 0.00\n",
      "Rente: 0.00\n",
      "utm_campaign: 0.00\n",
      "Other_State: 0.00\n",
      "language_certificate: 0.00\n",
      "Integrationsnachweis: 0.00\n",
      "application_permanent_right_of_residence: 0.00\n",
      "Was_wollen_Sie: 0.00\n",
      "basis_for_naturalization: 0.00\n",
      "graduation: 0.00\n"
     ]
    }
   ],
   "source": [
    "# Feature Importance Analysis (for RandomForestClassifier)\n",
    "if isinstance(model, RandomForestClassifier):\n",
    "    feature_importance = model.feature_importances_\n",
    "    feature_names = X.columns\n",
    "    importance_dict = dict(zip(feature_names, feature_importance))\n",
    "    sorted_importance = sorted(importance_dict.items(), key=lambda x: x[1], reverse=True)\n",
    "\n",
    "    # Print feature importance\n",
    "    print('Feature Importance:')\n",
    "    for feature, importance in sorted_importance:\n",
    "        print(f'{feature}: {importance:.2f}')\n"
   ]
  },
  {
   "cell_type": "code",
   "execution_count": 65,
   "metadata": {},
   "outputs": [
    {
     "data": {
      "text/html": [
       "<style>#sk-container-id-3 {color: black;background-color: white;}#sk-container-id-3 pre{padding: 0;}#sk-container-id-3 div.sk-toggleable {background-color: white;}#sk-container-id-3 label.sk-toggleable__label {cursor: pointer;display: block;width: 100%;margin-bottom: 0;padding: 0.3em;box-sizing: border-box;text-align: center;}#sk-container-id-3 label.sk-toggleable__label-arrow:before {content: \"▸\";float: left;margin-right: 0.25em;color: #696969;}#sk-container-id-3 label.sk-toggleable__label-arrow:hover:before {color: black;}#sk-container-id-3 div.sk-estimator:hover label.sk-toggleable__label-arrow:before {color: black;}#sk-container-id-3 div.sk-toggleable__content {max-height: 0;max-width: 0;overflow: hidden;text-align: left;background-color: #f0f8ff;}#sk-container-id-3 div.sk-toggleable__content pre {margin: 0.2em;color: black;border-radius: 0.25em;background-color: #f0f8ff;}#sk-container-id-3 input.sk-toggleable__control:checked~div.sk-toggleable__content {max-height: 200px;max-width: 100%;overflow: auto;}#sk-container-id-3 input.sk-toggleable__control:checked~label.sk-toggleable__label-arrow:before {content: \"▾\";}#sk-container-id-3 div.sk-estimator input.sk-toggleable__control:checked~label.sk-toggleable__label {background-color: #d4ebff;}#sk-container-id-3 div.sk-label input.sk-toggleable__control:checked~label.sk-toggleable__label {background-color: #d4ebff;}#sk-container-id-3 input.sk-hidden--visually {border: 0;clip: rect(1px 1px 1px 1px);clip: rect(1px, 1px, 1px, 1px);height: 1px;margin: -1px;overflow: hidden;padding: 0;position: absolute;width: 1px;}#sk-container-id-3 div.sk-estimator {font-family: monospace;background-color: #f0f8ff;border: 1px dotted black;border-radius: 0.25em;box-sizing: border-box;margin-bottom: 0.5em;}#sk-container-id-3 div.sk-estimator:hover {background-color: #d4ebff;}#sk-container-id-3 div.sk-parallel-item::after {content: \"\";width: 100%;border-bottom: 1px solid gray;flex-grow: 1;}#sk-container-id-3 div.sk-label:hover label.sk-toggleable__label {background-color: #d4ebff;}#sk-container-id-3 div.sk-serial::before {content: \"\";position: absolute;border-left: 1px solid gray;box-sizing: border-box;top: 0;bottom: 0;left: 50%;z-index: 0;}#sk-container-id-3 div.sk-serial {display: flex;flex-direction: column;align-items: center;background-color: white;padding-right: 0.2em;padding-left: 0.2em;position: relative;}#sk-container-id-3 div.sk-item {position: relative;z-index: 1;}#sk-container-id-3 div.sk-parallel {display: flex;align-items: stretch;justify-content: center;background-color: white;position: relative;}#sk-container-id-3 div.sk-item::before, #sk-container-id-3 div.sk-parallel-item::before {content: \"\";position: absolute;border-left: 1px solid gray;box-sizing: border-box;top: 0;bottom: 0;left: 50%;z-index: -1;}#sk-container-id-3 div.sk-parallel-item {display: flex;flex-direction: column;z-index: 1;position: relative;background-color: white;}#sk-container-id-3 div.sk-parallel-item:first-child::after {align-self: flex-end;width: 50%;}#sk-container-id-3 div.sk-parallel-item:last-child::after {align-self: flex-start;width: 50%;}#sk-container-id-3 div.sk-parallel-item:only-child::after {width: 0;}#sk-container-id-3 div.sk-dashed-wrapped {border: 1px dashed gray;margin: 0 0.4em 0.5em 0.4em;box-sizing: border-box;padding-bottom: 0.4em;background-color: white;}#sk-container-id-3 div.sk-label label {font-family: monospace;font-weight: bold;display: inline-block;line-height: 1.2em;}#sk-container-id-3 div.sk-label-container {text-align: center;}#sk-container-id-3 div.sk-container {/* jupyter's `normalize.less` sets `[hidden] { display: none; }` but bootstrap.min.css set `[hidden] { display: none !important; }` so we also need the `!important` here to be able to override the default hidden behavior on the sphinx rendered scikit-learn.org. See: https://github.com/scikit-learn/scikit-learn/issues/21755 */display: inline-block !important;position: relative;}#sk-container-id-3 div.sk-text-repr-fallback {display: none;}</style><div id=\"sk-container-id-3\" class=\"sk-top-container\"><div class=\"sk-text-repr-fallback\"><pre>RandomForestClassifier(random_state=42)</pre><b>In a Jupyter environment, please rerun this cell to show the HTML representation or trust the notebook. <br />On GitHub, the HTML representation is unable to render, please try loading this page with nbviewer.org.</b></div><div class=\"sk-container\" hidden><div class=\"sk-item\"><div class=\"sk-estimator sk-toggleable\"><input class=\"sk-toggleable__control sk-hidden--visually\" id=\"sk-estimator-id-3\" type=\"checkbox\" checked><label for=\"sk-estimator-id-3\" class=\"sk-toggleable__label sk-toggleable__label-arrow\">RandomForestClassifier</label><div class=\"sk-toggleable__content\"><pre>RandomForestClassifier(random_state=42)</pre></div></div></div></div></div>"
      ],
      "text/plain": [
       "RandomForestClassifier(random_state=42)"
      ]
     },
     "execution_count": 65,
     "metadata": {},
     "output_type": "execute_result"
    }
   ],
   "source": [
    "# Train the final model on the entire dataset (assuming you have already tuned hyperparameters)\n",
    "final_model = RandomForestClassifier(random_state=42)  # Replace with your final model\n",
    "final_model.fit(X, y)  # Use the entire dataset X and y\n"
   ]
  },
  {
   "cell_type": "code",
   "execution_count": 67,
   "metadata": {},
   "outputs": [
    {
     "name": "stdout",
     "output_type": "stream",
     "text": [
      "Accuracy: 0.91\n"
     ]
    },
    {
     "data": {
      "text/plain": [
       "['sales_prediction_model.pkl']"
      ]
     },
     "execution_count": 67,
     "metadata": {},
     "output_type": "execute_result"
    }
   ],
   "source": [
    "from sklearn.model_selection import train_test_split\n",
    "from sklearn.ensemble import RandomForestClassifier  # You can choose another classifier if needed\n",
    "import joblib  # To save the trained model\n",
    "\n",
    "# Assuming you have already prepared your dataset as X (features) and y (target labels)\n",
    "\n",
    "# Split the data into training and testing sets (at least 20% for testing)\n",
    "X_train, X_test, y_train, y_test = train_test_split(X, y, test_size=0.2, random_state=42)\n",
    "\n",
    "# Choose a machine learning algorithm (e.g., Random Forest)\n",
    "model = RandomForestClassifier(random_state=42)\n",
    "\n",
    "# Train the model on the training data\n",
    "model.fit(X_train, y_train)\n",
    "\n",
    "# Evaluate the model's performance on the test data\n",
    "accuracy = model.score(X_test, y_test)\n",
    "print(f'Accuracy: {accuracy:.2f}')\n",
    "\n",
    "# Save the trained model for future predictions\n",
    "joblib.dump(model, 'sales_prediction_model.pkl')\n"
   ]
  }
 ],
 "metadata": {
  "kernelspec": {
   "display_name": "Python 3",
   "language": "python",
   "name": "python3"
  },
  "language_info": {
   "codemirror_mode": {
    "name": "ipython",
    "version": 3
   },
   "file_extension": ".py",
   "mimetype": "text/x-python",
   "name": "python",
   "nbconvert_exporter": "python",
   "pygments_lexer": "ipython3",
   "version": "3.9.13"
  }
 },
 "nbformat": 4,
 "nbformat_minor": 2
}
