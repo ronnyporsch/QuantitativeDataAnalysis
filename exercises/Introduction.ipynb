{
 "cells": [
  {
   "cell_type": "code",
   "execution_count": 151,
   "id": "b461a694",
   "metadata": {
    "ExecuteTime": {
     "end_time": "2024-02-02T13:05:49.367264700Z",
     "start_time": "2024-02-02T13:05:48.996670500Z"
    }
   },
   "outputs": [],
   "source": [
    "import pandas as pd\n",
    "data = pd.read_csv(\"inputData/F500.csv\", index_col=0)\n",
    "data.to_excel(\"Fortune 500 2017 - Fortune 500.xlsx\")"
   ]
  },
  {
   "cell_type": "markdown",
   "id": "fd218e9a",
   "metadata": {},
   "source": [
    "# Intro"
   ]
  },
  {
   "cell_type": "code",
   "execution_count": 152,
   "id": "1cccfb73",
   "metadata": {
    "ExecuteTime": {
     "end_time": "2024-02-02T13:05:49.372263600Z",
     "start_time": "2024-02-02T13:05:49.311201300Z"
    }
   },
   "outputs": [
    {
     "name": "stdout",
     "output_type": "stream",
     "text": [
      "30\n"
     ]
    }
   ],
   "source": [
    "print(10 + 20)"
   ]
  },
  {
   "cell_type": "code",
   "execution_count": 153,
   "id": "30ab92cc",
   "metadata": {
    "ExecuteTime": {
     "end_time": "2024-02-02T13:05:49.376264400Z",
     "start_time": "2024-02-02T13:05:49.316070600Z"
    }
   },
   "outputs": [],
   "source": [
    "#print(x+y)"
   ]
  },
  {
   "cell_type": "code",
   "execution_count": 154,
   "id": "e24e46b7",
   "metadata": {
    "ExecuteTime": {
     "end_time": "2024-02-02T13:05:49.398263900Z",
     "start_time": "2024-02-02T13:05:49.321740300Z"
    }
   },
   "outputs": [
    {
     "name": "stdout",
     "output_type": "stream",
     "text": [
      "30\n"
     ]
    }
   ],
   "source": [
    "\n",
    "print (10 + 20)"
   ]
  },
  {
   "cell_type": "code",
   "execution_count": 155,
   "id": "0bc3d7b9",
   "metadata": {
    "ExecuteTime": {
     "end_time": "2024-02-02T13:05:49.487390200Z",
     "start_time": "2024-02-02T13:05:49.342360Z"
    }
   },
   "outputs": [],
   "source": [
    "# Besides blank lines, the computer also ignores any sequence of characters that comes to the right of the \"#\" symbol"
   ]
  },
  {
   "cell_type": "code",
   "execution_count": 156,
   "id": "b1409f1f",
   "metadata": {
    "ExecuteTime": {
     "end_time": "2024-02-02T13:05:49.612603100Z",
     "start_time": "2024-02-02T13:05:49.486391300Z"
    }
   },
   "outputs": [],
   "source": [
    "# Use \"#\" as code comments to ad gernal descriptions "
   ]
  },
  {
   "cell_type": "code",
   "execution_count": 157,
   "id": "0d585df9",
   "metadata": {
    "ExecuteTime": {
     "end_time": "2024-02-02T13:05:49.678196900Z",
     "start_time": "2024-02-02T13:05:49.591088900Z"
    }
   },
   "outputs": [],
   "source": [
    "# print() function in Python is used to display the output"
   ]
  },
  {
   "cell_type": "code",
   "execution_count": 157,
   "id": "b8ab9cf1",
   "metadata": {
    "ExecuteTime": {
     "end_time": "2024-02-02T13:05:49.734507100Z",
     "start_time": "2024-02-02T13:05:49.677691900Z"
    }
   },
   "outputs": [],
   "source": []
  },
  {
   "cell_type": "code",
   "execution_count": 158,
   "id": "4aa71aab",
   "metadata": {
    "ExecuteTime": {
     "end_time": "2024-02-02T13:05:49.839244200Z",
     "start_time": "2024-02-02T13:05:49.708203Z"
    }
   },
   "outputs": [
    {
     "name": "stdout",
     "output_type": "stream",
     "text": [
      "30\n",
      "40\n"
     ]
    }
   ],
   "source": [
    "print(10 + 20)\n",
    "print(10 + 30)"
   ]
  },
  {
   "cell_type": "code",
   "execution_count": 159,
   "id": "7b50e2a1",
   "metadata": {
    "ExecuteTime": {
     "end_time": "2024-02-02T13:05:49.901459500Z",
     "start_time": "2024-02-02T13:05:49.811021400Z"
    }
   },
   "outputs": [],
   "source": [
    "#Errors are not a problem and will happen frequently!\n",
    "#Use Google or ChatGPT and search for answers "
   ]
  },
  {
   "cell_type": "code",
   "execution_count": 160,
   "id": "32363802",
   "metadata": {
    "ExecuteTime": {
     "end_time": "2024-02-02T13:05:50.021194600Z",
     "start_time": "2024-02-02T13:05:49.876244500Z"
    }
   },
   "outputs": [
    {
     "name": "stdout",
     "output_type": "stream",
     "text": [
      "30\n",
      "40\n"
     ]
    }
   ],
   "source": [
    "print(10 + 20)\n",
    "print(10 + 30)"
   ]
  },
  {
   "cell_type": "code",
   "execution_count": 161,
   "id": "3029a93d",
   "metadata": {
    "ExecuteTime": {
     "end_time": "2024-02-02T13:05:50.109546100Z",
     "start_time": "2024-02-02T13:05:50.020007800Z"
    }
   },
   "outputs": [
    {
     "name": "stdout",
     "output_type": "stream",
     "text": [
      "30\n",
      "30\n"
     ]
    }
   ],
   "source": [
    "print(10 + 20)\n",
    "print(10 + 20)"
   ]
  },
  {
   "cell_type": "code",
   "execution_count": 161,
   "id": "a9a44eed",
   "metadata": {
    "ExecuteTime": {
     "end_time": "2024-02-02T13:05:50.212668400Z",
     "start_time": "2024-02-02T13:05:50.057003Z"
    }
   },
   "outputs": [],
   "source": []
  },
  {
   "cell_type": "code",
   "execution_count": 162,
   "id": "43eca557",
   "metadata": {
    "ExecuteTime": {
     "end_time": "2024-02-02T13:05:50.276083600Z",
     "start_time": "2024-02-02T13:05:50.186981600Z"
    }
   },
   "outputs": [
    {
     "name": "stdout",
     "output_type": "stream",
     "text": [
      "3.98\n",
      "2.33\n"
     ]
    }
   ],
   "source": [
    "#We can also perform multiplication and division in Python.\n",
    "print(1.99 * 2)\n",
    "print(6.99 / 3)"
   ]
  },
  {
   "cell_type": "code",
   "execution_count": 163,
   "id": "87b71f14",
   "metadata": {
    "ExecuteTime": {
     "end_time": "2024-02-02T13:05:50.404869100Z",
     "start_time": "2024-02-02T13:05:50.257249100Z"
    }
   },
   "outputs": [
    {
     "name": "stdout",
     "output_type": "stream",
     "text": [
      "16\n"
     ]
    }
   ],
   "source": [
    "#We can also perform exponentiation (raising a number to a power) by using **\n",
    "print (4**2)"
   ]
  },
  {
   "cell_type": "code",
   "execution_count": 164,
   "id": "04133469",
   "metadata": {
    "ExecuteTime": {
     "end_time": "2024-02-02T13:05:50.442404600Z",
     "start_time": "2024-02-02T13:05:50.375630900Z"
    }
   },
   "outputs": [
    {
     "name": "stdout",
     "output_type": "stream",
     "text": [
      "6.99\n",
      "69.9\n"
     ]
    }
   ],
   "source": [
    "#In Python, we follow the customary mathematical order of operations, often denoted as PEMDAS or BODMAS\n",
    "print(6.99 + 0 * 10)\n",
    "print((6.99 + 0) * 10)"
   ]
  },
  {
   "cell_type": "code",
   "execution_count": 165,
   "id": "401af88a",
   "metadata": {
    "ExecuteTime": {
     "end_time": "2024-02-02T13:05:50.592938400Z",
     "start_time": "2024-02-02T13:05:50.439401600Z"
    }
   },
   "outputs": [
    {
     "name": "stdout",
     "output_type": "stream",
     "text": [
      "30\n",
      "40\n"
     ]
    }
   ],
   "source": [
    "# Its possible to store values\n",
    "x = 10\n",
    "y = 20\n",
    "z = 30\n",
    "result = x+z\n",
    "print (x+y)\n",
    "print(result)"
   ]
  },
  {
   "cell_type": "code",
   "execution_count": 166,
   "id": "6fb00eaa",
   "metadata": {
    "ExecuteTime": {
     "end_time": "2024-02-02T13:05:50.642326600Z",
     "start_time": "2024-02-02T13:05:50.582475900Z"
    }
   },
   "outputs": [
    {
     "data": {
      "text/plain": "10"
     },
     "execution_count": 166,
     "metadata": {},
     "output_type": "execute_result"
    }
   ],
   "source": [
    "# This labeled storage location is what we call a variable. You can use any variable name\n",
    "# We need to remember to write the variable name on the left side of the \"=\" sign\n",
    "result_a = 10\n",
    "result_a"
   ]
  },
  {
   "cell_type": "code",
   "execution_count": 167,
   "id": "0b59dc9b",
   "metadata": {
    "ExecuteTime": {
     "end_time": "2024-02-02T13:05:50.761492600Z",
     "start_time": "2024-02-02T13:05:50.624942500Z"
    }
   },
   "outputs": [
    {
     "ename": "SyntaxError",
     "evalue": "cannot assign to literal here. Maybe you meant '==' instead of '='? (2254392013.py, line 1)",
     "output_type": "error",
     "traceback": [
      "\u001B[1;36m  Cell \u001B[1;32mIn[167], line 1\u001B[1;36m\u001B[0m\n\u001B[1;33m    10 = result_b\u001B[0m\n\u001B[1;37m    ^\u001B[0m\n\u001B[1;31mSyntaxError\u001B[0m\u001B[1;31m:\u001B[0m cannot assign to literal here. Maybe you meant '==' instead of '='?\n"
     ]
    }
   ],
   "source": [
    "#10 = result_b"
   ]
  },
  {
   "cell_type": "code",
   "execution_count": 168,
   "id": "202abb7b",
   "metadata": {
    "ExecuteTime": {
     "start_time": "2024-02-02T13:05:50.731330800Z"
    }
   },
   "outputs": [
    {
     "ename": "SyntaxError",
     "evalue": "invalid syntax (2067121644.py, line 2)",
     "output_type": "error",
     "traceback": [
      "\u001B[1;36m  Cell \u001B[1;32mIn[168], line 2\u001B[1;36m\u001B[0m\n\u001B[1;33m    result a = 10\u001B[0m\n\u001B[1;37m           ^\u001B[0m\n\u001B[1;31mSyntaxError\u001B[0m\u001B[1;31m:\u001B[0m invalid syntax\n"
     ]
    }
   ],
   "source": [
    "#u cant use a space for a variable\n",
    "#result a = 10"
   ]
  },
  {
   "cell_type": "code",
   "execution_count": 169,
   "id": "2feda0c8",
   "metadata": {
    "ExecuteTime": {
     "end_time": "2024-02-02T13:05:50.986017600Z",
     "start_time": "2024-02-02T13:05:50.809492Z"
    }
   },
   "outputs": [
    {
     "ename": "SyntaxError",
     "evalue": "invalid syntax (1730804616.py, line 2)",
     "output_type": "error",
     "traceback": [
      "\u001B[1;36m  Cell \u001B[1;32mIn[169], line 2\u001B[1;36m\u001B[0m\n\u001B[1;33m    price_in_$\u001B[0m\n\u001B[1;37m             ^\u001B[0m\n\u001B[1;31mSyntaxError\u001B[0m\u001B[1;31m:\u001B[0m invalid syntax\n"
     ]
    }
   ],
   "source": [
    "# dont works because of the \"$\" sign\n",
    "#price_in_$\n"
   ]
  },
  {
   "cell_type": "code",
   "execution_count": 170,
   "id": "336cc6a5",
   "metadata": {
    "ExecuteTime": {
     "end_time": "2024-02-02T13:05:51.054791900Z",
     "start_time": "2024-02-02T13:05:50.961290300Z"
    }
   },
   "outputs": [
    {
     "data": {
      "text/plain": "15"
     },
     "execution_count": 170,
     "metadata": {},
     "output_type": "execute_result"
    }
   ],
   "source": [
    "# we can update a stored variable\n",
    "result = 10\n",
    "result = result + 5\n",
    "result"
   ]
  },
  {
   "cell_type": "code",
   "execution_count": 171,
   "id": "2e629851",
   "metadata": {
    "ExecuteTime": {
     "end_time": "2024-02-02T13:05:51.185774900Z",
     "start_time": "2024-02-02T13:05:51.028051700Z"
    }
   },
   "outputs": [
    {
     "data": {
      "text/plain": "15"
     },
     "execution_count": 171,
     "metadata": {},
     "output_type": "execute_result"
    }
   ],
   "source": [
    "result = 10\n",
    "result += 5\n",
    "result\n",
    "# also possible with the other operators (-=, *=, /=, **=)"
   ]
  },
  {
   "cell_type": "markdown",
   "id": "f308e708",
   "metadata": {},
   "source": [
    "# Types"
   ]
  },
  {
   "cell_type": "code",
   "execution_count": 172,
   "id": "f015463d",
   "metadata": {
    "ExecuteTime": {
     "end_time": "2024-02-02T13:05:51.238303300Z",
     "start_time": "2024-02-02T13:05:51.168261500Z"
    }
   },
   "outputs": [],
   "source": [
    "# In computer programming, we classify values into different types — or data types.\n",
    "# The type of value offers the computer the required information about how to process that value. \n",
    "# Depending on the type, the computer will know how to store a value in memory, or what operations we can and can't perform on a value."
   ]
  },
  {
   "cell_type": "code",
   "execution_count": 173,
   "id": "780150be",
   "metadata": {
    "ExecuteTime": {
     "end_time": "2024-02-02T13:05:51.426505Z",
     "start_time": "2024-02-02T13:05:51.234783700Z"
    }
   },
   "outputs": [
    {
     "data": {
      "text/plain": "int"
     },
     "execution_count": 173,
     "metadata": {},
     "output_type": "execute_result"
    }
   ],
   "source": [
    "x = 0\n",
    "type(x)"
   ]
  },
  {
   "cell_type": "code",
   "execution_count": 174,
   "id": "8b1e27fd",
   "metadata": {
    "ExecuteTime": {
     "end_time": "2024-02-02T13:05:51.580767200Z",
     "start_time": "2024-02-02T13:05:51.401380300Z"
    }
   },
   "outputs": [
    {
     "data": {
      "text/plain": "float"
     },
     "execution_count": 174,
     "metadata": {},
     "output_type": "execute_result"
    }
   ],
   "source": [
    "y = 5.99\n",
    "type(y)"
   ]
  },
  {
   "cell_type": "code",
   "execution_count": 175,
   "id": "51411468",
   "metadata": {
    "ExecuteTime": {
     "end_time": "2024-02-02T13:05:51.734829Z",
     "start_time": "2024-02-02T13:05:51.540906900Z"
    }
   },
   "outputs": [
    {
     "data": {
      "text/plain": "float"
     },
     "execution_count": 175,
     "metadata": {},
     "output_type": "execute_result"
    }
   ],
   "source": [
    "z = x + y\n",
    "type(z)"
   ]
  },
  {
   "cell_type": "code",
   "execution_count": 176,
   "id": "f8c13535",
   "metadata": {
    "ExecuteTime": {
     "end_time": "2024-02-02T13:05:51.810689300Z",
     "start_time": "2024-02-02T13:05:51.713292600Z"
    }
   },
   "outputs": [
    {
     "data": {
      "text/plain": "float"
     },
     "execution_count": 176,
     "metadata": {},
     "output_type": "execute_result"
    }
   ],
   "source": [
    "# To change an integer into a float, we use the float() function\n",
    "x=float(x)\n",
    "type(x)"
   ]
  },
  {
   "cell_type": "code",
   "execution_count": 177,
   "id": "bf8360b8",
   "metadata": {
    "ExecuteTime": {
     "end_time": "2024-02-02T13:05:51.928498700Z",
     "start_time": "2024-02-02T13:05:51.779364900Z"
    }
   },
   "outputs": [
    {
     "data": {
      "text/plain": "1"
     },
     "execution_count": 177,
     "metadata": {},
     "output_type": "execute_result"
    }
   ],
   "source": [
    "y=1.99\n",
    "int(y)\n",
    "# int() function will always round a float down"
   ]
  },
  {
   "cell_type": "code",
   "execution_count": 178,
   "id": "9ba9363f",
   "metadata": {
    "ExecuteTime": {
     "end_time": "2024-02-02T13:05:51.995489900Z",
     "start_time": "2024-02-02T13:05:51.902275700Z"
    }
   },
   "outputs": [
    {
     "data": {
      "text/plain": "float"
     },
     "execution_count": 178,
     "metadata": {},
     "output_type": "execute_result"
    }
   ],
   "source": [
    "y=1.99\n",
    "int(y)\n",
    "type(y)\n"
   ]
  },
  {
   "cell_type": "code",
   "execution_count": 179,
   "id": "8f72cfbd",
   "metadata": {
    "ExecuteTime": {
     "end_time": "2024-02-02T13:05:52.086901600Z",
     "start_time": "2024-02-02T13:05:51.977391300Z"
    }
   },
   "outputs": [
    {
     "name": "stdout",
     "output_type": "stream",
     "text": [
      "<class 'int'>\n",
      "1\n"
     ]
    }
   ],
   "source": [
    "# updated is not stored in y -->\n",
    "y=1.99\n",
    "y = int(y)\n",
    "print(type(y))\n",
    "print(y)"
   ]
  },
  {
   "cell_type": "markdown",
   "id": "ae68660d",
   "metadata": {},
   "source": [
    "# Strings"
   ]
  },
  {
   "cell_type": "code",
   "execution_count": 180,
   "id": "b96bacb4",
   "metadata": {
    "ExecuteTime": {
     "end_time": "2024-02-02T13:05:52.201751700Z",
     "start_time": "2024-02-02T13:05:52.086393100Z"
    }
   },
   "outputs": [],
   "source": [
    "# In Python, we can create text by enclosing a sequence of characters within quotation marks"
   ]
  },
  {
   "cell_type": "code",
   "execution_count": 181,
   "id": "39e90cc0",
   "metadata": {
    "ExecuteTime": {
     "end_time": "2024-02-02T13:05:52.327559500Z",
     "start_time": "2024-02-02T13:05:52.173483900Z"
    }
   },
   "outputs": [
    {
     "name": "stdout",
     "output_type": "stream",
     "text": [
      "Facebook\n"
     ]
    }
   ],
   "source": [
    "app = \"Facebook\"\n",
    "print(app)"
   ]
  },
  {
   "cell_type": "code",
   "execution_count": 182,
   "id": "607233ba",
   "metadata": {
    "ExecuteTime": {
     "end_time": "2024-02-02T13:05:52.367073600Z",
     "start_time": "2024-02-02T13:05:52.300266900Z"
    }
   },
   "outputs": [
    {
     "data": {
      "text/plain": "str"
     },
     "execution_count": 182,
     "metadata": {},
     "output_type": "execute_result"
    }
   ],
   "source": [
    "type(app)"
   ]
  },
  {
   "cell_type": "code",
   "execution_count": 183,
   "id": "5979e3cb",
   "metadata": {
    "ExecuteTime": {
     "end_time": "2024-02-02T13:05:52.509742200Z",
     "start_time": "2024-02-02T13:05:52.365103Z"
    }
   },
   "outputs": [
    {
     "name": "stdout",
     "output_type": "stream",
     "text": [
      "Clash of Clans\n",
      "Clash of Clans is free and has an average rating of 4.5\n"
     ]
    }
   ],
   "source": [
    "# When we create strings, we can also use numbers, spaces, or other characters\n",
    "\n",
    "game = 'Clash of Clans'\n",
    "game = \"Clash of Clans\"\n",
    "game_description = \"Clash of Clans is free and has an average rating of 4.5\"\n",
    "print(game)\n",
    "print(game_description)"
   ]
  },
  {
   "cell_type": "code",
   "execution_count": 184,
   "id": "5f1eed4f",
   "metadata": {
    "ExecuteTime": {
     "end_time": "2024-02-02T13:05:52.571613100Z",
     "start_time": "2024-02-02T13:05:52.482239400Z"
    }
   },
   "outputs": [
    {
     "ename": "SyntaxError",
     "evalue": "invalid syntax (1149590828.py, line 1)",
     "output_type": "error",
     "traceback": [
      "\u001B[1;36m  Cell \u001B[1;32mIn[184], line 1\u001B[1;36m\u001B[0m\n\u001B[1;33m    game_description = \"so called \"Clash of Clans\"...\"\u001B[0m\n\u001B[1;37m                                   ^\u001B[0m\n\u001B[1;31mSyntaxError\u001B[0m\u001B[1;31m:\u001B[0m invalid syntax\n"
     ]
    }
   ],
   "source": [
    "game_description = \"so called \"Clash of Clans\"...\""
   ]
  },
  {
   "cell_type": "code",
   "execution_count": 185,
   "id": "c22f1022",
   "metadata": {
    "ExecuteTime": {
     "end_time": "2024-02-02T13:05:52.664198600Z",
     "start_time": "2024-02-02T13:05:52.544903800Z"
    }
   },
   "outputs": [
    {
     "data": {
      "text/plain": "\"so called 'Clash of Clans'...\""
     },
     "execution_count": 185,
     "metadata": {},
     "output_type": "execute_result"
    }
   ],
   "source": [
    "game_description = \"so called 'Clash of Clans'...\"\n",
    "game_description"
   ]
  },
  {
   "cell_type": "code",
   "execution_count": 186,
   "id": "a4a27be1",
   "metadata": {
    "ExecuteTime": {
     "end_time": "2024-02-02T13:05:52.761385800Z",
     "start_time": "2024-02-02T13:05:52.662201Z"
    }
   },
   "outputs": [
    {
     "data": {
      "text/plain": "'ab'"
     },
     "execution_count": 186,
     "metadata": {},
     "output_type": "execute_result"
    }
   ],
   "source": [
    "x = \"a\" + \"b\"\n",
    "x"
   ]
  },
  {
   "cell_type": "code",
   "execution_count": 187,
   "id": "ffa94df7",
   "metadata": {
    "ExecuteTime": {
     "end_time": "2024-02-02T13:05:52.876573600Z",
     "start_time": "2024-02-02T13:05:52.751361800Z"
    }
   },
   "outputs": [
    {
     "data": {
      "text/plain": "'Yes or No'"
     },
     "execution_count": 187,
     "metadata": {},
     "output_type": "execute_result"
    }
   ],
   "source": [
    "x = \"Yes\" + \" \" + \"or\" +\" \" + \"No\"\n",
    "x"
   ]
  },
  {
   "cell_type": "code",
   "execution_count": 188,
   "id": "b5ce7a07",
   "metadata": {
    "ExecuteTime": {
     "end_time": "2024-02-02T13:05:52.935856900Z",
     "start_time": "2024-02-02T13:05:52.848903Z"
    }
   },
   "outputs": [
    {
     "data": {
      "text/plain": "'aaaa'"
     },
     "execution_count": 188,
     "metadata": {},
     "output_type": "execute_result"
    }
   ],
   "source": [
    "# to repeat same string\n",
    "x = \"a\" *4\n",
    "x"
   ]
  },
  {
   "cell_type": "code",
   "execution_count": 188,
   "id": "463dedec",
   "metadata": {
    "ExecuteTime": {
     "end_time": "2024-02-02T13:05:53.076669600Z",
     "start_time": "2024-02-02T13:05:52.935351200Z"
    }
   },
   "outputs": [],
   "source": []
  },
  {
   "cell_type": "code",
   "execution_count": 245,
   "id": "ba3687c2",
   "metadata": {
    "ExecuteTime": {
     "end_time": "2024-02-02T13:07:04.643484800Z",
     "start_time": "2024-02-02T13:07:04.569533Z"
    }
   },
   "outputs": [
    {
     "ename": "TypeError",
     "evalue": "can only concatenate str (not \"int\") to str",
     "output_type": "error",
     "traceback": [
      "\u001B[1;31m---------------------------------------------------------------------------\u001B[0m",
      "\u001B[1;31mTypeError\u001B[0m                                 Traceback (most recent call last)",
      "Cell \u001B[1;32mIn[245], line 2\u001B[0m\n\u001B[0;32m      1\u001B[0m \u001B[38;5;66;03m# not possible to combine int with str\u001B[39;00m\n\u001B[1;32m----> 2\u001B[0m x \u001B[38;5;241m=\u001B[39m \u001B[38;5;124;43m\"\u001B[39;49m\u001B[38;5;124;43ma\u001B[39;49m\u001B[38;5;124;43m\"\u001B[39;49m\u001B[43m \u001B[49m\u001B[38;5;241;43m+\u001B[39;49m\u001B[43m \u001B[49m\u001B[38;5;241;43m1\u001B[39;49m\n\u001B[0;32m      3\u001B[0m x\n",
      "\u001B[1;31mTypeError\u001B[0m: can only concatenate str (not \"int\") to str"
     ]
    }
   ],
   "source": [
    "# not possible to combine int with str\n",
    "x = \"a\" + 1\n",
    "x"
   ]
  },
  {
   "cell_type": "code",
   "execution_count": 190,
   "id": "ce73ba68",
   "metadata": {
    "ExecuteTime": {
     "end_time": "2024-02-02T13:05:53.218305600Z",
     "start_time": "2024-02-02T13:05:53.108664500Z"
    }
   },
   "outputs": [
    {
     "data": {
      "text/plain": "'a1'"
     },
     "execution_count": 190,
     "metadata": {},
     "output_type": "execute_result"
    }
   ],
   "source": [
    "# transform int to str\n",
    "x = \"a\" + \"1\"\n",
    "x"
   ]
  },
  {
   "cell_type": "code",
   "execution_count": 191,
   "id": "769380d9",
   "metadata": {
    "ExecuteTime": {
     "end_time": "2024-02-02T13:05:53.306714200Z",
     "start_time": "2024-02-02T13:05:53.191436500Z"
    }
   },
   "outputs": [
    {
     "data": {
      "text/plain": "'Yes or No'"
     },
     "execution_count": 191,
     "metadata": {},
     "output_type": "execute_result"
    }
   ],
   "source": [
    "x = \"Yes\"\n",
    "y = \" or No\"\n",
    "x+y"
   ]
  },
  {
   "cell_type": "code",
   "execution_count": 192,
   "id": "7f4a2e77",
   "metadata": {
    "ExecuteTime": {
     "end_time": "2024-02-02T13:05:53.437541300Z",
     "start_time": "2024-02-02T13:05:53.286886200Z"
    }
   },
   "outputs": [
    {
     "data": {
      "text/plain": "4"
     },
     "execution_count": 192,
     "metadata": {},
     "output_type": "execute_result"
    }
   ],
   "source": [
    "# transform str to int or float\n",
    "x = \"4\"\n",
    "int(x)"
   ]
  },
  {
   "cell_type": "code",
   "execution_count": 193,
   "id": "613bd601",
   "metadata": {
    "ExecuteTime": {
     "end_time": "2024-02-02T13:05:53.510585100Z",
     "start_time": "2024-02-02T13:05:53.404264200Z"
    }
   },
   "outputs": [
    {
     "data": {
      "text/plain": "4.4"
     },
     "execution_count": 193,
     "metadata": {},
     "output_type": "execute_result"
    }
   ],
   "source": [
    "x = \"4.4\"\n",
    "float(x)"
   ]
  },
  {
   "cell_type": "code",
   "execution_count": 194,
   "id": "3ea71e39",
   "metadata": {
    "ExecuteTime": {
     "end_time": "2024-02-02T13:05:53.635187800Z",
     "start_time": "2024-02-02T13:05:53.485199900Z"
    }
   },
   "outputs": [
    {
     "ename": "ValueError",
     "evalue": "invalid literal for int() with base 10: 'Yes'",
     "output_type": "error",
     "traceback": [
      "\u001B[1;31m---------------------------------------------------------------------------\u001B[0m",
      "\u001B[1;31mValueError\u001B[0m                                Traceback (most recent call last)",
      "Cell \u001B[1;32mIn[194], line 2\u001B[0m\n\u001B[0;32m      1\u001B[0m x \u001B[38;5;241m=\u001B[39m \u001B[38;5;124m\"\u001B[39m\u001B[38;5;124mYes\u001B[39m\u001B[38;5;124m\"\u001B[39m\n\u001B[1;32m----> 2\u001B[0m \u001B[38;5;28;43mint\u001B[39;49m\u001B[43m(\u001B[49m\u001B[43mx\u001B[49m\u001B[43m)\u001B[49m\n",
      "\u001B[1;31mValueError\u001B[0m: invalid literal for int() with base 10: 'Yes'"
     ]
    }
   ],
   "source": [
    "x = \"Yes\"\n",
    "int(x)"
   ]
  },
  {
   "cell_type": "code",
   "execution_count": 195,
   "id": "4e7e654b",
   "metadata": {
    "ExecuteTime": {
     "start_time": "2024-02-02T13:05:53.606173600Z"
    }
   },
   "outputs": [
    {
     "ename": "SyntaxError",
     "evalue": "unterminated string literal (detected at line 1) (2303739954.py, line 1)",
     "output_type": "error",
     "traceback": [
      "\u001B[1;36m  Cell \u001B[1;32mIn[195], line 1\u001B[1;36m\u001B[0m\n\u001B[1;33m    \"We\u001B[0m\n\u001B[1;37m    ^\u001B[0m\n\u001B[1;31mSyntaxError\u001B[0m\u001B[1;31m:\u001B[0m unterminated string literal (detected at line 1)\n"
     ]
    }
   ],
   "source": [
    "\"We\n",
    "want \n",
    "to write \n",
    "more\""
   ]
  },
  {
   "cell_type": "code",
   "execution_count": 196,
   "id": "efa9a1a9",
   "metadata": {
    "ExecuteTime": {
     "end_time": "2024-02-02T13:05:53.845120800Z",
     "start_time": "2024-02-02T13:05:53.673701100Z"
    }
   },
   "outputs": [
    {
     "data": {
      "text/plain": "'We\\nwant \\nto write\\nmore'"
     },
     "execution_count": 196,
     "metadata": {},
     "output_type": "execute_result"
    }
   ],
   "source": [
    "\"\"\"We\n",
    "want \n",
    "to write\n",
    "more\"\"\""
   ]
  },
  {
   "cell_type": "markdown",
   "id": "8649dc90",
   "metadata": {},
   "source": [
    "# Lists"
   ]
  },
  {
   "cell_type": "code",
   "execution_count": 197,
   "id": "88948f7c",
   "metadata": {
    "ExecuteTime": {
     "end_time": "2024-02-02T13:05:53.901418100Z",
     "start_time": "2024-02-02T13:05:53.788461200Z"
    }
   },
   "outputs": [],
   "source": [
    "# A collection of data points makes up a dataset\n",
    "# Creating a variable for each data point in our dataset would be a cumbersome process \n",
    "# Fortunately, we can store data more efficiently using lists.\n",
    "# open AppleStore data"
   ]
  },
  {
   "cell_type": "code",
   "execution_count": 198,
   "id": "cb6196a3",
   "metadata": {
    "ExecuteTime": {
     "end_time": "2024-02-02T13:05:54.028995800Z",
     "start_time": "2024-02-02T13:05:53.883125500Z"
    }
   },
   "outputs": [
    {
     "data": {
      "text/plain": "['Facebook', 0.0, 'USD', 2974676, 3.5]"
     },
     "execution_count": 198,
     "metadata": {},
     "output_type": "execute_result"
    }
   ],
   "source": [
    "#To create a list, we do the following:\n",
    "# row_0 = [\"track_name\",\"price\",\"currency\",\"rating_count_tot\",\"user_rating\"]\n",
    "row_1 = ['Facebook', 0.0, 'USD', 2974676, 3.5]\n",
    "row_1"
   ]
  },
  {
   "cell_type": "code",
   "execution_count": 199,
   "id": "b8d98170",
   "metadata": {
    "ExecuteTime": {
     "end_time": "2024-02-02T13:05:54.065510900Z",
     "start_time": "2024-02-02T13:05:54.006133600Z"
    }
   },
   "outputs": [],
   "source": [
    "# A list can contain both mixed and identical data types.\n",
    "# A list like [4, 5, 6] has identical data types (only integers), \n",
    "# while the list ['Facebook', 0.0, 'USD', 2974676, 3.5] has mixed data types\n"
   ]
  },
  {
   "cell_type": "code",
   "execution_count": 200,
   "id": "55180738",
   "metadata": {
    "ExecuteTime": {
     "end_time": "2024-02-02T13:05:54.207612900Z",
     "start_time": "2024-02-02T13:05:54.063505700Z"
    }
   },
   "outputs": [
    {
     "data": {
      "text/plain": "5"
     },
     "execution_count": 200,
     "metadata": {},
     "output_type": "execute_result"
    }
   ],
   "source": [
    "# To find the length of a list, we can use the len() function\n",
    "len(row_1)"
   ]
  },
  {
   "cell_type": "code",
   "execution_count": 201,
   "id": "58b64090",
   "metadata": {
    "ExecuteTime": {
     "end_time": "2024-02-02T13:05:54.241138400Z",
     "start_time": "2024-02-02T13:05:54.171255800Z"
    }
   },
   "outputs": [
    {
     "data": {
      "text/plain": "0.0"
     },
     "execution_count": 201,
     "metadata": {},
     "output_type": "execute_result"
    }
   ],
   "source": [
    "# Each element (data point) in a list has a specific number associated with it — the index number\n",
    "# The indexing always starts at 0\n",
    "# The index numbers help us retrieve individual elements from a list\n",
    "row_1[0]\n",
    "row_1[1]"
   ]
  },
  {
   "cell_type": "code",
   "execution_count": 202,
   "id": "6b32f1fd",
   "metadata": {
    "ExecuteTime": {
     "end_time": "2024-02-02T13:05:54.338188100Z",
     "start_time": "2024-02-02T13:05:54.219638800Z"
    }
   },
   "outputs": [
    {
     "data": {
      "text/plain": "3.5"
     },
     "execution_count": 202,
     "metadata": {},
     "output_type": "execute_result"
    }
   ],
   "source": [
    "# start with the last element\n",
    "row_1[-1]"
   ]
  },
  {
   "cell_type": "code",
   "execution_count": 203,
   "id": "16523fd5",
   "metadata": {
    "ExecuteTime": {
     "end_time": "2024-02-02T13:05:54.432316300Z",
     "start_time": "2024-02-02T13:05:54.337185500Z"
    }
   },
   "outputs": [
    {
     "ename": "IndexError",
     "evalue": "list index out of range",
     "output_type": "error",
     "traceback": [
      "\u001B[1;31m---------------------------------------------------------------------------\u001B[0m",
      "\u001B[1;31mIndexError\u001B[0m                                Traceback (most recent call last)",
      "Cell \u001B[1;32mIn[203], line 1\u001B[0m\n\u001B[1;32m----> 1\u001B[0m \u001B[43mrow_1\u001B[49m\u001B[43m[\u001B[49m\u001B[38;5;241;43m6\u001B[39;49m\u001B[43m]\u001B[49m\n",
      "\u001B[1;31mIndexError\u001B[0m: list index out of range"
     ]
    }
   ],
   "source": [
    "row_1[6]"
   ]
  },
  {
   "cell_type": "code",
   "execution_count": 204,
   "id": "faf5136b",
   "metadata": {
    "ExecuteTime": {
     "end_time": "2024-02-02T13:05:54.542024700Z",
     "start_time": "2024-02-02T13:05:54.403825100Z"
    }
   },
   "outputs": [
    {
     "data": {
      "text/plain": "[0.0, 'USD', 2974676]"
     },
     "execution_count": 204,
     "metadata": {},
     "output_type": "execute_result"
    }
   ],
   "source": [
    "# List slicing\n",
    "# start and end point (end point not included!)\n",
    "row_1[1:4]"
   ]
  },
  {
   "cell_type": "code",
   "execution_count": 205,
   "id": "b4120b02",
   "metadata": {
    "ExecuteTime": {
     "end_time": "2024-02-02T13:05:54.605337600Z",
     "start_time": "2024-02-02T13:05:54.517854900Z"
    }
   },
   "outputs": [
    {
     "data": {
      "text/plain": "['Facebook', 0.0, 'USD']"
     },
     "execution_count": 205,
     "metadata": {},
     "output_type": "execute_result"
    }
   ],
   "source": [
    "# When we need to select the first or last x elements (x stands for a number), we can use even simpler syntax shortcuts:\n",
    "# [:x] when we want to select the first x elements\n",
    "row_1[:3]"
   ]
  },
  {
   "cell_type": "code",
   "execution_count": 206,
   "id": "0eaea040",
   "metadata": {
    "ExecuteTime": {
     "end_time": "2024-02-02T13:05:54.738411900Z",
     "start_time": "2024-02-02T13:05:54.585031600Z"
    }
   },
   "outputs": [
    {
     "data": {
      "text/plain": "[2974676, 3.5]"
     },
     "execution_count": 206,
     "metadata": {},
     "output_type": "execute_result"
    }
   ],
   "source": [
    "# [-x:] when we want to select the last x elements\n",
    "row_1[-2:]"
   ]
  },
  {
   "cell_type": "code",
   "execution_count": 207,
   "id": "f3711c36",
   "metadata": {
    "ExecuteTime": {
     "end_time": "2024-02-02T13:05:54.795989Z",
     "start_time": "2024-02-02T13:05:54.699884200Z"
    }
   },
   "outputs": [
    {
     "data": {
      "text/plain": "[['Facebook', 0.0, 'USD', 2974676, 3.5],\n ['Instagram', 0.0, 'USD', 2161558, 4.5],\n ['Clash of Clans', 0.0, 'USD', 2130805, 4.5],\n ['Fruit Ninja Classic', 1.99, 'USD', 698516, 4.5],\n ['Minecraft: Pocket Edition', 6.99, 'USD', 522012, 4.5]]"
     },
     "execution_count": 207,
     "metadata": {},
     "output_type": "execute_result"
    }
   ],
   "source": [
    "# To handle larger data sets, we can use a list of lists\n",
    "row_1 = ['Facebook', 0.0, 'USD', 2974676, 3.5]\n",
    "row_2 = ['Instagram', 0.0, 'USD', 2161558, 4.5]\n",
    "row_3 = ['Clash of Clans', 0.0, 'USD', 2130805, 4.5]\n",
    "row_4 = ['Fruit Ninja Classic', 1.99, 'USD', 698516, 4.5]\n",
    "row_5 = ['Minecraft: Pocket Edition', 6.99, 'USD', 522012, 4.5]\n",
    "Data = [row_1,row_2,row_3,row_4,row_5]\n",
    "Data"
   ]
  },
  {
   "cell_type": "code",
   "execution_count": 208,
   "id": "3bdf48e8",
   "metadata": {
    "ExecuteTime": {
     "end_time": "2024-02-02T13:05:54.927977Z",
     "start_time": "2024-02-02T13:05:54.795989Z"
    }
   },
   "outputs": [
    {
     "data": {
      "text/plain": "[['Instagram', 0.0, 'USD', 2161558, 4.5],\n ['Clash of Clans', 0.0, 'USD', 2130805, 4.5],\n ['Fruit Ninja Classic', 1.99, 'USD', 698516, 4.5]]"
     },
     "execution_count": 208,
     "metadata": {},
     "output_type": "execute_result"
    }
   ],
   "source": [
    "# The \"Data\" variable is a list, so we can use what we know about lists to get specific parts of it\n",
    "Data[1:4]"
   ]
  },
  {
   "cell_type": "code",
   "execution_count": 209,
   "id": "3ca1b77a",
   "metadata": {
    "ExecuteTime": {
     "end_time": "2024-02-02T13:05:54.987491700Z",
     "start_time": "2024-02-02T13:05:54.890726900Z"
    }
   },
   "outputs": [
    {
     "data": {
      "text/plain": "[['Facebook', 0.0, 'USD', 2974676, 3.5],\n ['Instagram', 0.0, 'USD', 2161558, 4.5]]"
     },
     "execution_count": 209,
     "metadata": {},
     "output_type": "execute_result"
    }
   ],
   "source": [
    "Data[:2]"
   ]
  },
  {
   "cell_type": "code",
   "execution_count": 210,
   "id": "70911668",
   "metadata": {
    "ExecuteTime": {
     "end_time": "2024-02-02T13:05:55.138828500Z",
     "start_time": "2024-02-02T13:05:54.986491200Z"
    }
   },
   "outputs": [
    {
     "data": {
      "text/plain": "['Instagram', 0.0, 'USD']"
     },
     "execution_count": 210,
     "metadata": {},
     "output_type": "execute_result"
    }
   ],
   "source": [
    "# We might want to get a specific part of a list that's inside another list\n",
    "Data[1][:3]"
   ]
  },
  {
   "cell_type": "code",
   "execution_count": 211,
   "id": "b5cae6af",
   "metadata": {
    "ExecuteTime": {
     "end_time": "2024-02-02T13:05:55.174175900Z",
     "start_time": "2024-02-02T13:05:55.106301200Z"
    }
   },
   "outputs": [
    {
     "data": {
      "text/plain": "'Clash of Clans'"
     },
     "execution_count": 211,
     "metadata": {},
     "output_type": "execute_result"
    }
   ],
   "source": [
    "Data[2][0]"
   ]
  },
  {
   "cell_type": "code",
   "execution_count": 212,
   "id": "ed6463ab",
   "metadata": {
    "ExecuteTime": {
     "end_time": "2024-02-02T13:05:55.304364600Z",
     "start_time": "2024-02-02T13:05:55.171341400Z"
    }
   },
   "outputs": [],
   "source": [
    "# Task\n",
    "# Calculate the average rating of the apps in \"Data\""
   ]
  },
  {
   "cell_type": "code",
   "execution_count": 213,
   "id": "4e90324e",
   "metadata": {
    "ExecuteTime": {
     "end_time": "2024-02-02T13:05:55.374765800Z",
     "start_time": "2024-02-02T13:05:55.286688700Z"
    }
   },
   "outputs": [
    {
     "data": {
      "text/plain": "4.3"
     },
     "execution_count": 213,
     "metadata": {},
     "output_type": "execute_result"
    }
   ],
   "source": [
    "(Data[0][-1]+Data[1][-1]+Data[2][-1]+Data[3][-1]+Data[4][-1])/5"
   ]
  },
  {
   "cell_type": "markdown",
   "id": "a565fc29-9417-4f51-a958-ca47c061e2e4",
   "metadata": {},
   "source": [
    "## Loop"
   ]
  },
  {
   "cell_type": "code",
   "execution_count": 214,
   "id": "f8511e02-f43b-4635-81a4-2cfae3ceb2e1",
   "metadata": {
    "ExecuteTime": {
     "end_time": "2024-02-02T13:05:55.483788Z",
     "start_time": "2024-02-02T13:05:55.346438700Z"
    }
   },
   "outputs": [
    {
     "name": "stdout",
     "output_type": "stream",
     "text": [
      "3.5\n",
      "4.5\n",
      "4.5\n",
      "4.5\n",
      "4.5\n"
     ]
    }
   ],
   "source": [
    "# Let's learn how to use a for loop to repeat a process. \n",
    "# Suppose we have a list [3.5, 4.5, 4.5, 4.5, 4.5] assigned to a variable app_ratings,\n",
    "# and we want to repeat the following process: for each element in the app_ratings list,\n",
    "# print the app rating. This is how we can translate that process into Python syntax:\n",
    "\n",
    "app_ratings = [3.5, 4.5, 4.5, 4.5, 4.5]\n",
    "\n",
    "for element in app_ratings:\n",
    "    print(element)"
   ]
  },
  {
   "cell_type": "code",
   "execution_count": 215,
   "id": "6d8c172d-e591-4935-918a-d071ba36e62c",
   "metadata": {
    "ExecuteTime": {
     "end_time": "2024-02-02T13:05:55.554310200Z",
     "start_time": "2024-02-02T13:05:55.466274600Z"
    }
   },
   "outputs": [],
   "source": [
    "# for i in Data: --> i = iteration variable; Data = iterable variable\n",
    "#    rating = i[-1]\n",
    "#    print(rating) --> Body of the loop\n",
    "# We call each execution of the body an \"iteration\".\n",
    "# During each iteration, the \"iteration variable\" will take on the value of the next item in the list. \n",
    "# For example, if the list is [1, 3, 5], then during the first iteration the iteration variable will be 1,\n",
    "# during the second iteration it will be 3, and during the third iteration it will be 5."
   ]
  },
  {
   "cell_type": "code",
   "execution_count": 216,
   "id": "e5d91235-356c-4d28-9384-2066972f0329",
   "metadata": {
    "ExecuteTime": {
     "end_time": "2024-02-02T13:05:55.688470700Z",
     "start_time": "2024-02-02T13:05:55.546302400Z"
    }
   },
   "outputs": [
    {
     "data": {
      "text/plain": "[['Facebook', 0.0, 'USD', 2974676, 3.5],\n ['Instagram', 0.0, 'USD', 2161558, 4.5],\n ['Clash of Clans', 0.0, 'USD', 2130805, 4.5],\n ['Fruit Ninja Classic', 1.99, 'USD', 698516, 4.5],\n ['Minecraft: Pocket Edition', 6.99, 'USD', 522012, 4.5]]"
     },
     "execution_count": 216,
     "metadata": {},
     "output_type": "execute_result"
    }
   ],
   "source": [
    "row_1 = ['Facebook', 0.0, 'USD', 2974676, 3.5]\n",
    "row_2 = ['Instagram', 0.0, 'USD', 2161558, 4.5]\n",
    "row_3 = ['Clash of Clans', 0.0, 'USD', 2130805, 4.5]\n",
    "row_4 = ['Fruit Ninja Classic', 1.99, 'USD', 698516, 4.5]\n",
    "row_5 = ['Minecraft: Pocket Edition', 6.99, 'USD', 522012, 4.5]\n",
    "Data = [row_1,row_2,row_3,row_4,row_5]\n",
    "Data"
   ]
  },
  {
   "cell_type": "code",
   "execution_count": 217,
   "id": "b0c78464-439f-40cb-8c7e-48b9d7d4a830",
   "metadata": {
    "ExecuteTime": {
     "end_time": "2024-02-02T13:05:55.748504900Z",
     "start_time": "2024-02-02T13:05:55.667957400Z"
    }
   },
   "outputs": [
    {
     "name": "stdout",
     "output_type": "stream",
     "text": [
      "3.5\n",
      "4.5\n",
      "4.5\n",
      "4.5\n",
      "4.5\n"
     ]
    }
   ],
   "source": [
    "# Loop (iterate) over the list of lists \"Data\"\n",
    "# Extract the rating of the app\n",
    "for i in Data:\n",
    "    rating = i[-1]\n",
    "    print(rating)"
   ]
  },
  {
   "cell_type": "code",
   "execution_count": 218,
   "id": "3c67e9ba-c4d6-4a99-9dc0-97ac6a4be2ff",
   "metadata": {
    "ExecuteTime": {
     "end_time": "2024-02-02T13:05:55.860262300Z",
     "start_time": "2024-02-02T13:05:55.724467600Z"
    }
   },
   "outputs": [
    {
     "name": "stdout",
     "output_type": "stream",
     "text": [
      "3.5\n",
      "8.0\n",
      "12.5\n",
      "17.0\n",
      "21.5\n",
      "21.5\n"
     ]
    },
    {
     "data": {
      "text/plain": "26.5"
     },
     "execution_count": 218,
     "metadata": {},
     "output_type": "execute_result"
    }
   ],
   "source": [
    "# The code outside the loop body can interact with the code inside the loop body\n",
    "# Values can be stored inside the loop\n",
    "# You can also use the variables that are used or changed in the loop again outside the loop\n",
    "# The variable stores the value after the last iteration of the loop\n",
    "rating_sum = 0\n",
    "for i in Data:\n",
    "    rating = i[-1]\n",
    "    rating_sum = rating + rating_sum\n",
    "    print(rating_sum)\n",
    "\n",
    "print(rating_sum)    \n",
    "rating_sum + 5"
   ]
  },
  {
   "cell_type": "code",
   "execution_count": 219,
   "id": "4531f88c-c258-44a8-94af-53ab63425817",
   "metadata": {
    "ExecuteTime": {
     "end_time": "2024-02-02T13:05:55.927942Z",
     "start_time": "2024-02-02T13:05:55.837509400Z"
    }
   },
   "outputs": [
    {
     "name": "stdout",
     "output_type": "stream",
     "text": [
      "[3.5, 4.5, 4.5, 4.5, 4.5]\n",
      "4.3\n"
     ]
    }
   ],
   "source": [
    "# Back to our task from earlier\n",
    "# Calculate the average rating of the apps in \"Data\"\n",
    "rating_sum = [] # Step 1\n",
    "for row in Data:\n",
    "    rating = row[-1] # Step 2\n",
    "    rating_sum.append(rating) # Step 3\n",
    "\n",
    "print(rating_sum)\n",
    "\n",
    "avg_rating = sum(rating_sum) / len(rating_sum) # Step 4\n",
    "print(avg_rating)"
   ]
  },
  {
   "cell_type": "markdown",
   "id": "02382c54",
   "metadata": {},
   "source": [
    "# Conditions"
   ]
  },
  {
   "cell_type": "code",
   "execution_count": 219,
   "id": "63b8f8ff",
   "metadata": {
    "ExecuteTime": {
     "end_time": "2024-02-02T13:05:56.086951500Z",
     "start_time": "2024-02-02T13:05:55.902433Z"
    }
   },
   "outputs": [],
   "source": []
  },
  {
   "cell_type": "code",
   "execution_count": 219,
   "id": "cc270d3a",
   "metadata": {
    "ExecuteTime": {
     "end_time": "2024-02-02T13:05:56.156397600Z",
     "start_time": "2024-02-02T13:05:56.085437600Z"
    }
   },
   "outputs": [],
   "source": []
  },
  {
   "cell_type": "code",
   "execution_count": 220,
   "id": "2f2db183",
   "metadata": {
    "ExecuteTime": {
     "end_time": "2024-02-02T13:05:56.246249300Z",
     "start_time": "2024-02-02T13:05:56.126951700Z"
    }
   },
   "outputs": [
    {
     "name": "stdout",
     "output_type": "stream",
     "text": [
      "True\n",
      "False\n"
     ]
    }
   ],
   "source": [
    "# When we use the == operator to determine if two values are equal, the output will always be True or False\n",
    "print(4 == 4) # This is true\n",
    "print(4 == 7) # This is false"
   ]
  },
  {
   "cell_type": "code",
   "execution_count": 221,
   "id": "7e50bea0",
   "metadata": {
    "ExecuteTime": {
     "end_time": "2024-02-02T13:05:56.285249800Z",
     "start_time": "2024-02-02T13:05:56.222409300Z"
    }
   },
   "outputs": [
    {
     "name": "stdout",
     "output_type": "stream",
     "text": [
      "True\n",
      "False\n"
     ]
    }
   ],
   "source": [
    "price = 0\n",
    "\n",
    "print(price == 0)\n",
    "print(price == 2)\n"
   ]
  },
  {
   "cell_type": "code",
   "execution_count": 222,
   "id": "bd389dcf",
   "metadata": {
    "ExecuteTime": {
     "end_time": "2024-02-02T13:05:56.422224900Z",
     "start_time": "2024-02-02T13:05:56.284249400Z"
    }
   },
   "outputs": [
    {
     "name": "stdout",
     "output_type": "stream",
     "text": [
      "<class 'bool'>\n"
     ]
    }
   ],
   "source": [
    "# Although they may look like strings, True and False belong to a different data type:\n",
    "print(type(True))"
   ]
  },
  {
   "cell_type": "code",
   "execution_count": 223,
   "id": "7fec7001",
   "metadata": {
    "ExecuteTime": {
     "end_time": "2024-02-02T13:05:56.455266500Z",
     "start_time": "2024-02-02T13:05:56.374355400Z"
    }
   },
   "outputs": [
    {
     "name": "stdout",
     "output_type": "stream",
     "text": [
      "100\n"
     ]
    }
   ],
   "source": [
    "# Boolean values (True and False) are necessary parts of any if statement. \n",
    "# One of the following must always follow if: (1) a Boolean value, or (2) an expression that evaluates to a Boolean value.\n",
    "if True:\n",
    "    print(100)"
   ]
  },
  {
   "cell_type": "code",
   "execution_count": 224,
   "id": "ae5bf60b",
   "metadata": {
    "ExecuteTime": {
     "end_time": "2024-02-02T13:05:56.579706100Z",
     "start_time": "2024-02-02T13:05:56.436225700Z"
    }
   },
   "outputs": [
    {
     "name": "stdout",
     "output_type": "stream",
     "text": [
      "100\n",
      "True\n"
     ]
    }
   ],
   "source": [
    "if 1 == 1:\n",
    "    print(100)\n",
    "\n",
    "print(1 == 1)"
   ]
  },
  {
   "cell_type": "code",
   "execution_count": 225,
   "id": "f7a8dfe4",
   "metadata": {
    "ExecuteTime": {
     "end_time": "2024-02-02T13:05:56.733775Z",
     "start_time": "2024-02-02T13:05:56.577325500Z"
    }
   },
   "outputs": [
    {
     "name": "stdout",
     "output_type": "stream",
     "text": [
      "1\n"
     ]
    }
   ],
   "source": [
    "# We should indent the code in the body of an if statement four spaces to the right \n",
    "# (technically, we only need to indent the code one space to the right, but the convention in the Python community \n",
    "# is to use four spaces per indentation level — this is an important habit to form in case you collaborate with others)\n",
    "if True: \n",
    "    print(1) # body"
   ]
  },
  {
   "cell_type": "code",
   "execution_count": 226,
   "id": "f39b6232",
   "metadata": {
    "ExecuteTime": {
     "end_time": "2024-02-02T13:05:56.876352300Z",
     "start_time": "2024-02-02T13:05:56.695736400Z"
    }
   },
   "outputs": [
    {
     "ename": "IndentationError",
     "evalue": "expected an indented block after 'if' statement on line 1 (591634725.py, line 2)",
     "output_type": "error",
     "traceback": [
      "\u001B[1;36m  Cell \u001B[1;32mIn[226], line 2\u001B[1;36m\u001B[0m\n\u001B[1;33m    print(1) # body\u001B[0m\n\u001B[1;37m    ^\u001B[0m\n\u001B[1;31mIndentationError\u001B[0m\u001B[1;31m:\u001B[0m expected an indented block after 'if' statement on line 1\n"
     ]
    }
   ],
   "source": [
    "if True: \n",
    "print(1) # body"
   ]
  },
  {
   "cell_type": "code",
   "execution_count": 227,
   "id": "8376bad0",
   "metadata": {
    "ExecuteTime": {
     "end_time": "2024-02-02T13:05:56.972156300Z",
     "start_time": "2024-02-02T13:05:56.874833300Z"
    }
   },
   "outputs": [],
   "source": [
    "# We can include the if condition in our loops"
   ]
  },
  {
   "cell_type": "code",
   "execution_count": 228,
   "id": "c0a66685",
   "metadata": {
    "ExecuteTime": {
     "end_time": "2024-02-02T13:05:57.052688800Z",
     "start_time": "2024-02-02T13:05:56.941367700Z"
    }
   },
   "outputs": [
    {
     "name": "stdout",
     "output_type": "stream",
     "text": [
      "[3.5, 4.5, 4.5]\n",
      "4.166666666666667\n"
     ]
    }
   ],
   "source": [
    "# To isolate only the ratings of the free apps, we need to add a condition to our code. \n",
    "# Specifically, we want to add a rating to the ratings list only if the price equals 0.0\n",
    "rating_sum = [] \n",
    "for row in Data:\n",
    "    rating = row[-1] \n",
    "    price = row[1]\n",
    "    \n",
    "    if price == 0.0: #If the price = 0.0, then do\n",
    "        rating_sum.append(rating) # body of an if statement (can have more then one line)\n",
    "        # a+b=c..\n",
    "        \n",
    "print(rating_sum)\n",
    "\n",
    "avg_rating = sum(rating_sum) / len(rating_sum) \n",
    "print(avg_rating)\n",
    "\n"
   ]
  },
  {
   "cell_type": "code",
   "execution_count": 229,
   "id": "f881d169",
   "metadata": {
    "ExecuteTime": {
     "end_time": "2024-02-02T13:05:57.155792700Z",
     "start_time": "2024-02-02T13:05:57.050687600Z"
    }
   },
   "outputs": [
    {
     "name": "stdout",
     "output_type": "stream",
     "text": [
      "['Fruit Ninja Classic', 'Minecraft: Pocket Edition']\n"
     ]
    }
   ],
   "source": [
    "# Task\n",
    "# Create a list of all games that are not free\n",
    "apps = []\n",
    "for app in Data:\n",
    "    name = app[0]\n",
    "    price = app[1]\n",
    "\n",
    "    if price > 0:\n",
    "        apps.append(name)\n",
    "\n",
    "print(apps)"
   ]
  },
  {
   "cell_type": "code",
   "execution_count": 230,
   "id": "f0807fb7",
   "metadata": {
    "ExecuteTime": {
     "end_time": "2024-02-02T13:05:57.252306400Z",
     "start_time": "2024-02-02T13:05:57.115110100Z"
    }
   },
   "outputs": [
    {
     "name": "stdout",
     "output_type": "stream",
     "text": [
      "['Fruit Ninja Classic', 'Minecraft: Pocket Edition']\n"
     ]
    }
   ],
   "source": [
    "# we can use not equal as well\n",
    "apps = []\n",
    "for app in Data:\n",
    "    name = app[0]\n",
    "    price = app[1]\n",
    "\n",
    "    if price != 0:\n",
    "        apps.append(name)\n",
    "\n",
    "print(apps)"
   ]
  },
  {
   "cell_type": "code",
   "execution_count": 231,
   "id": "e6ab1cf8",
   "metadata": {
    "ExecuteTime": {
     "end_time": "2024-02-02T13:05:57.359618500Z",
     "start_time": "2024-02-02T13:05:57.251307300Z"
    }
   },
   "outputs": [
    {
     "name": "stdout",
     "output_type": "stream",
     "text": [
      "False\n",
      "True\n"
     ]
    }
   ],
   "source": [
    "# So far, we've used the == and != operators only with integers and floats. \n",
    "# We can also use them with other data types, such as strings or lists:\n",
    "print('Games' == 'Music')\n",
    "print('Games' != 'Music')"
   ]
  },
  {
   "cell_type": "code",
   "execution_count": 232,
   "id": "9aec1602",
   "metadata": {
    "ExecuteTime": {
     "end_time": "2024-02-02T13:05:57.420620400Z",
     "start_time": "2024-02-02T13:05:57.313183900Z"
    }
   },
   "outputs": [
    {
     "name": "stdout",
     "output_type": "stream",
     "text": [
      "True\n",
      "False\n"
     ]
    }
   ],
   "source": [
    "print([1,2,3] == [1,2,3])\n",
    "print([1,2,3] == [1,2,3,4])"
   ]
  },
  {
   "cell_type": "markdown",
   "id": "55da79a7-f8e3-481b-9bca-9bfd81e05b29",
   "metadata": {},
   "source": [
    "## Open a data set"
   ]
  },
  {
   "cell_type": "code",
   "execution_count": 233,
   "id": "f041a5be",
   "metadata": {
    "ExecuteTime": {
     "end_time": "2024-02-02T13:05:57.572821400Z",
     "start_time": "2024-02-02T13:05:57.419618300Z"
    }
   },
   "outputs": [
    {
     "ename": "FileNotFoundError",
     "evalue": "[Errno 2] No such file or directory: 'AppleStore.csv'",
     "output_type": "error",
     "traceback": [
      "\u001B[1;31m---------------------------------------------------------------------------\u001B[0m",
      "\u001B[1;31mFileNotFoundError\u001B[0m                         Traceback (most recent call last)",
      "Cell \u001B[1;32mIn[233], line 1\u001B[0m\n\u001B[1;32m----> 1\u001B[0m opened_file \u001B[38;5;241m=\u001B[39m \u001B[38;5;28;43mopen\u001B[39;49m\u001B[43m(\u001B[49m\u001B[38;5;124;43m'\u001B[39;49m\u001B[38;5;124;43mAppleStore.csv\u001B[39;49m\u001B[38;5;124;43m'\u001B[39;49m\u001B[43m,\u001B[49m\u001B[43m \u001B[49m\u001B[43mencoding\u001B[49m\u001B[38;5;241;43m=\u001B[39;49m\u001B[38;5;124;43m'\u001B[39;49m\u001B[38;5;124;43mutf-8\u001B[39;49m\u001B[38;5;124;43m'\u001B[39;49m\u001B[43m)\u001B[49m \u001B[38;5;66;03m# we need to use the encoding for utf-8 in this case\u001B[39;00m\n\u001B[0;32m      2\u001B[0m \u001B[38;5;28;01mfrom\u001B[39;00m \u001B[38;5;21;01mcsv\u001B[39;00m \u001B[38;5;28;01mimport\u001B[39;00m reader\n\u001B[0;32m      3\u001B[0m read_file \u001B[38;5;241m=\u001B[39m reader(opened_file)\n",
      "File \u001B[1;32m~\\PycharmProjects\\QuantitativeDataAnalysis\\.venv\\Lib\\site-packages\\IPython\\core\\interactiveshell.py:310\u001B[0m, in \u001B[0;36m_modified_open\u001B[1;34m(file, *args, **kwargs)\u001B[0m\n\u001B[0;32m    303\u001B[0m \u001B[38;5;28;01mif\u001B[39;00m file \u001B[38;5;129;01min\u001B[39;00m {\u001B[38;5;241m0\u001B[39m, \u001B[38;5;241m1\u001B[39m, \u001B[38;5;241m2\u001B[39m}:\n\u001B[0;32m    304\u001B[0m     \u001B[38;5;28;01mraise\u001B[39;00m \u001B[38;5;167;01mValueError\u001B[39;00m(\n\u001B[0;32m    305\u001B[0m         \u001B[38;5;124mf\u001B[39m\u001B[38;5;124m\"\u001B[39m\u001B[38;5;124mIPython won\u001B[39m\u001B[38;5;124m'\u001B[39m\u001B[38;5;124mt let you open fd=\u001B[39m\u001B[38;5;132;01m{\u001B[39;00mfile\u001B[38;5;132;01m}\u001B[39;00m\u001B[38;5;124m by default \u001B[39m\u001B[38;5;124m\"\u001B[39m\n\u001B[0;32m    306\u001B[0m         \u001B[38;5;124m\"\u001B[39m\u001B[38;5;124mas it is likely to crash IPython. If you know what you are doing, \u001B[39m\u001B[38;5;124m\"\u001B[39m\n\u001B[0;32m    307\u001B[0m         \u001B[38;5;124m\"\u001B[39m\u001B[38;5;124myou can use builtins\u001B[39m\u001B[38;5;124m'\u001B[39m\u001B[38;5;124m open.\u001B[39m\u001B[38;5;124m\"\u001B[39m\n\u001B[0;32m    308\u001B[0m     )\n\u001B[1;32m--> 310\u001B[0m \u001B[38;5;28;01mreturn\u001B[39;00m \u001B[43mio_open\u001B[49m\u001B[43m(\u001B[49m\u001B[43mfile\u001B[49m\u001B[43m,\u001B[49m\u001B[43m \u001B[49m\u001B[38;5;241;43m*\u001B[39;49m\u001B[43margs\u001B[49m\u001B[43m,\u001B[49m\u001B[43m \u001B[49m\u001B[38;5;241;43m*\u001B[39;49m\u001B[38;5;241;43m*\u001B[39;49m\u001B[43mkwargs\u001B[49m\u001B[43m)\u001B[49m\n",
      "\u001B[1;31mFileNotFoundError\u001B[0m: [Errno 2] No such file or directory: 'AppleStore.csv'"
     ]
    }
   ],
   "source": [
    "opened_file = open('AppleStore.csv', encoding='utf-8') # we need to use the encoding for utf-8 in this case\n",
    "from csv import reader\n",
    "read_file = reader(opened_file)\n",
    "apps_data = list(read_file)"
   ]
  },
  {
   "cell_type": "code",
   "execution_count": 234,
   "id": "7001f444",
   "metadata": {
    "ExecuteTime": {
     "end_time": "2024-02-02T13:05:57.626509800Z",
     "start_time": "2024-02-02T13:05:57.506452100Z"
    }
   },
   "outputs": [],
   "source": [
    "#apps_data"
   ]
  },
  {
   "cell_type": "code",
   "execution_count": 235,
   "id": "4730fc6e-7ea7-4174-9d0a-53277e508c5b",
   "metadata": {
    "ExecuteTime": {
     "end_time": "2024-02-02T13:05:57.764603100Z",
     "start_time": "2024-02-02T13:05:57.603821500Z"
    }
   },
   "outputs": [
    {
     "data": {
      "text/plain": "[['Facebook', 0.0, 'USD', 2974676, 3.5],\n ['Instagram', 0.0, 'USD', 2161558, 4.5],\n ['Clash of Clans', 0.0, 'USD', 2130805, 4.5],\n ['Fruit Ninja Classic', 1.99, 'USD', 698516, 4.5],\n ['Minecraft: Pocket Edition', 6.99, 'USD', 522012, 4.5]]"
     },
     "execution_count": 235,
     "metadata": {},
     "output_type": "execute_result"
    }
   ],
   "source": [
    "# Remember our \"Data\" data set \n",
    "Data\n",
    "# \"Data\" is the same as \"apps_data\" only a larger list with more entries."
   ]
  },
  {
   "cell_type": "code",
   "execution_count": 236,
   "id": "819367fe-4a05-4e08-a130-b80d120c463e",
   "metadata": {
    "ExecuteTime": {
     "end_time": "2024-02-02T13:05:57.858820300Z",
     "start_time": "2024-02-02T13:05:57.775605300Z"
    }
   },
   "outputs": [
    {
     "ename": "NameError",
     "evalue": "name 'apps_data' is not defined",
     "output_type": "error",
     "traceback": [
      "\u001B[1;31m---------------------------------------------------------------------------\u001B[0m",
      "\u001B[1;31mNameError\u001B[0m                                 Traceback (most recent call last)",
      "Cell \u001B[1;32mIn[236], line 4\u001B[0m\n\u001B[0;32m      1\u001B[0m \u001B[38;5;66;03m# Task\u001B[39;00m\n\u001B[0;32m      2\u001B[0m \u001B[38;5;66;03m# Find out what the average price is for apps in the Games category. Furthermore, find the most expensive game (whats the name?).\u001B[39;00m\n\u001B[0;32m      3\u001B[0m games_price \u001B[38;5;241m=\u001B[39m []\n\u001B[1;32m----> 4\u001B[0m \u001B[38;5;28;01mfor\u001B[39;00m row \u001B[38;5;129;01min\u001B[39;00m \u001B[43mapps_data\u001B[49m[\u001B[38;5;241m1\u001B[39m:]:\n\u001B[0;32m      5\u001B[0m     price \u001B[38;5;241m=\u001B[39m \u001B[38;5;28mfloat\u001B[39m(row[\u001B[38;5;241m5\u001B[39m])\n\u001B[0;32m      6\u001B[0m     genre \u001B[38;5;241m=\u001B[39m row[\u001B[38;5;241m-\u001B[39m\u001B[38;5;241m5\u001B[39m]\n",
      "\u001B[1;31mNameError\u001B[0m: name 'apps_data' is not defined"
     ]
    }
   ],
   "source": [
    "# Task\n",
    "# Find out what the average price is for apps in the Games category. Furthermore, find the most expensive game (whats the name?).\n",
    "games_price = []\n",
    "for row in apps_data[1:]:\n",
    "    price = float(row[5])\n",
    "    genre = row[-5]\n",
    "\n",
    "    if genre == 'Games':\n",
    "        games_price.append(price)\n",
    "\n",
    "avg_price_games = sum(games_price) / len(games_price)\n",
    "print(avg_price_games)\n",
    "games_price\n"
   ]
  },
  {
   "cell_type": "code",
   "execution_count": 237,
   "id": "1f105812-0f8e-4c17-b4ab-88849ed661ce",
   "metadata": {
    "ExecuteTime": {
     "start_time": "2024-02-02T13:05:57.827384Z"
    }
   },
   "outputs": [
    {
     "ename": "NameError",
     "evalue": "name 'apps_data' is not defined",
     "output_type": "error",
     "traceback": [
      "\u001B[1;31m---------------------------------------------------------------------------\u001B[0m",
      "\u001B[1;31mNameError\u001B[0m                                 Traceback (most recent call last)",
      "Cell \u001B[1;32mIn[237], line 3\u001B[0m\n\u001B[0;32m      1\u001B[0m stored_price \u001B[38;5;241m=\u001B[39m \u001B[38;5;241m0\u001B[39m\n\u001B[0;32m      2\u001B[0m stored_name \u001B[38;5;241m=\u001B[39m \u001B[38;5;124m\"\u001B[39m\u001B[38;5;124m\"\u001B[39m\n\u001B[1;32m----> 3\u001B[0m \u001B[38;5;28;01mfor\u001B[39;00m row \u001B[38;5;129;01min\u001B[39;00m \u001B[43mapps_data\u001B[49m[\u001B[38;5;241m1\u001B[39m:]:\n\u001B[0;32m      4\u001B[0m     price \u001B[38;5;241m=\u001B[39m \u001B[38;5;28mfloat\u001B[39m(row[\u001B[38;5;241m5\u001B[39m])\n\u001B[0;32m      5\u001B[0m     name \u001B[38;5;241m=\u001B[39m row[\u001B[38;5;241m2\u001B[39m]\n",
      "\u001B[1;31mNameError\u001B[0m: name 'apps_data' is not defined"
     ]
    }
   ],
   "source": [
    "stored_price = 0\n",
    "stored_name = \"\"\n",
    "for row in apps_data[1:]:\n",
    "    price = float(row[5])\n",
    "    name = row[2]\n",
    "    \n",
    "    if price > stored_price:\n",
    "        stored_price=price\n",
    "        stored_name=name\n",
    "        \n",
    "print(stored_price)\n",
    "print(stored_name)"
   ]
  },
  {
   "cell_type": "markdown",
   "id": "7263fb3f-66da-4cd4-9228-1b8a9ccc857a",
   "metadata": {},
   "source": [
    "# More about Conditions"
   ]
  },
  {
   "cell_type": "code",
   "execution_count": 238,
   "id": "480193a7-dd6a-4995-b014-86ba1918d245",
   "metadata": {
    "ExecuteTime": {
     "end_time": "2024-02-02T13:05:58.009583200Z",
     "start_time": "2024-02-02T13:05:57.940828600Z"
    }
   },
   "outputs": [
    {
     "name": "stdout",
     "output_type": "stream",
     "text": [
      "True\n"
     ]
    }
   ],
   "source": [
    "# \"and\" and \"or\" are also possible conditions\n",
    "a=5\n",
    "b=3\n",
    "if a==5 and b==3:\n",
    "    print(True)"
   ]
  },
  {
   "cell_type": "code",
   "execution_count": 239,
   "id": "3bd14b95-0b0e-44b7-b78f-7880143c3a75",
   "metadata": {
    "ExecuteTime": {
     "end_time": "2024-02-02T13:05:58.133730200Z",
     "start_time": "2024-02-02T13:05:58.008584100Z"
    }
   },
   "outputs": [
    {
     "name": "stdout",
     "output_type": "stream",
     "text": [
      "True\n"
     ]
    }
   ],
   "source": [
    "a=5\n",
    "b=4\n",
    "if a==5 or b==3:\n",
    "    print(True)"
   ]
  },
  {
   "cell_type": "code",
   "execution_count": 240,
   "id": "8540e2f6-fbe0-40af-865b-5475212adc7a",
   "metadata": {
    "ExecuteTime": {
     "end_time": "2024-02-02T13:05:58.167272700Z",
     "start_time": "2024-02-02T13:05:58.124429800Z"
    }
   },
   "outputs": [],
   "source": [
    "#Possible operators are as follows:\n",
    "# ==; !=; <; >; >=; <=\n"
   ]
  },
  {
   "cell_type": "code",
   "execution_count": 241,
   "id": "ae267275-e509-4279-937d-2e69967f70c4",
   "metadata": {
    "ExecuteTime": {
     "end_time": "2024-02-02T13:05:58.320014400Z",
     "start_time": "2024-02-02T13:05:58.166271800Z"
    }
   },
   "outputs": [
    {
     "name": "stdout",
     "output_type": "stream",
     "text": [
      "free\n"
     ]
    }
   ],
   "source": [
    "# We can check several conditions one after the other.\n",
    "price = 0.0\n",
    "if price == 0.0:\n",
    "    print(\"free\")\n",
    "if price != 0.0:\n",
    "    print(\"not free\")\n"
   ]
  },
  {
   "cell_type": "code",
   "execution_count": 242,
   "id": "46a7d2b4-c07b-442c-8fd5-c6d76f28e8ed",
   "metadata": {
    "ExecuteTime": {
     "end_time": "2024-02-02T13:05:58.359770200Z",
     "start_time": "2024-02-02T13:05:58.295441500Z"
    }
   },
   "outputs": [
    {
     "name": "stdout",
     "output_type": "stream",
     "text": [
      "not free\n"
     ]
    }
   ],
   "source": [
    "#However, this requires a lot of computing power for larger data sets. We therefore use \"else\" for these cases\n",
    "price = 1.0\n",
    "if price == 0.0:\n",
    "    print(\"free\")\n",
    "else:    \n",
    "    print(\"not free\")\n"
   ]
  },
  {
   "cell_type": "code",
   "execution_count": 243,
   "id": "991daad8-2f7e-4d41-b751-83bcab9c82dd",
   "metadata": {
    "ExecuteTime": {
     "end_time": "2024-02-02T13:05:58.482387200Z",
     "start_time": "2024-02-02T13:05:58.334049400Z"
    }
   },
   "outputs": [
    {
     "name": "stdout",
     "output_type": "stream",
     "text": [
      "cheap\n"
     ]
    }
   ],
   "source": [
    "# We use \"elif\" to check a large number of conditions\n",
    "price = 0.5\n",
    "if price == 0.0:\n",
    "    print(\"free\")\n",
    "elif price > 0.0 and price < 1.0:    \n",
    "    print(\"cheap\")\n",
    "elif price >= 1.0:\n",
    "    print(\"expensive\")"
   ]
  },
  {
   "cell_type": "code",
   "execution_count": 244,
   "id": "612c3b42-1bfc-43ad-bfdb-1f1183ffda60",
   "metadata": {
    "ExecuteTime": {
     "end_time": "2024-02-02T13:05:58.554892400Z",
     "start_time": "2024-02-02T13:05:58.482387200Z"
    }
   },
   "outputs": [
    {
     "name": "stdout",
     "output_type": "stream",
     "text": [
      "expensive\n"
     ]
    }
   ],
   "source": [
    "# also possible to include else \n",
    "price = 10.5\n",
    "if price == 0.0:\n",
    "    print(\"free\")\n",
    "elif price > 0.0 and price < 1.0:    \n",
    "    print(\"cheap\")\n",
    "elif price >= 1.0 and price <5.0:\n",
    "    print(\"affordable\")\n",
    "else:\n",
    "    print(\"expensive\")"
   ]
  }
 ],
 "metadata": {
  "kernelspec": {
   "display_name": "Python 3 (ipykernel)",
   "language": "python",
   "name": "python3"
  },
  "language_info": {
   "codemirror_mode": {
    "name": "ipython",
    "version": 3
   },
   "file_extension": ".py",
   "mimetype": "text/x-python",
   "name": "python",
   "nbconvert_exporter": "python",
   "pygments_lexer": "ipython3",
   "version": "3.9.18"
  }
 },
 "nbformat": 4,
 "nbformat_minor": 5
}
