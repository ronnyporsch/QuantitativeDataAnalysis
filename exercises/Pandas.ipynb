{
 "cells": [
  {
   "cell_type": "code",
   "execution_count": 1,
   "id": "e5098cd8",
   "metadata": {
    "ExecuteTime": {
     "end_time": "2024-02-02T14:49:20.007367900Z",
     "start_time": "2024-02-02T14:49:19.990085600Z"
    }
   },
   "outputs": [
    {
     "data": {
      "text/plain": "                  Title                           Website  Employees  \\\n1               Walmart            http://www.walmart.com    2300000   \n2    Berkshire Hathaway  http://www.berkshirehathaway.com     367700   \n3                 Apple              http://www.apple.com     116000   \n4           Exxon Mobil         http://www.exxonmobil.com      72700   \n5              McKesson           http://www.mckesson.com      68000   \n..                  ...                               ...        ...   \n496       Michaels Cos.           http://www.michaels.com      31000   \n497       Toll Brothers       http://www.tollbrothers.com       4200   \n498               Yahoo              http://www.yahoo.com       8500   \n499       Vistra Energy       http://www.vistraenergy.com       4431   \n500      ABM Industries                http://www.abm.com     110000   \n\n                         Sector                                  Industry  \\\n1                     Retailing                     General Merchandisers   \n2                    Financials  Insurance: Property and Casualty (Stock)   \n3                    Technology               Computers, Office Equipment   \n4                        Energy                        Petroleum Refining   \n5                   Wholesalers                  Wholesalers: Health Care   \n..                          ...                                       ...   \n496                   Retailing                Specialty Retailers: Other   \n497  Engineering & Construction                              Homebuilders   \n498                  Technology           Internet Services and Retailing   \n499                      Energy                                    Energy   \n500           Business Services          Diversified Outsourcing Services   \n\n            Hqlocation                  Hqaddr         Hqcity Hqstate  Hqzip  \\\n1      Bentonville, AR     702 S.W. Eighth St.    Bentonville      AR  72716   \n2            Omaha, NE         3555 Farnam St.          Omaha      NE  68131   \n3        Cupertino, CA         1 Infinite Loop      Cupertino      CA  95014   \n4           Irving, TX  5959 Las Colinas Blvd.         Irving      TX  75039   \n5    San Francisco, CA              1 Post St.  San Francisco      CA  94104   \n..                 ...                     ...            ...     ...    ...   \n496         Irving, TX    8000 Bent Branch Dr.         Irving      TX  75063   \n497        Horsham, PA       250 Gibraltar Rd.        Horsham      PA  19044   \n498      Sunnyvale, CA          701 First Ave.      Sunnyvale      CA  94089   \n499         Dallas, TX          1601 Bryan St.         Dallas      TX  75201   \n500       New York, NY         1 Liberty Plaza       New York      NY  10006   \n\n     ...                                      Ceo-title  \\\n1    ...  President, Chief Executive Officer & Director   \n2    ...             Chairman & Chief Executive Officer   \n3    ...             Chief Executive Officer & Director   \n4    ...             Chairman & Chief Executive Officer   \n5    ...  Chairman, President & Chief Executive Officer   \n..   ...                                            ...   \n496  ...             Chairman & Chief Executive Officer   \n497  ...             Chief Executive Officer & Director   \n498  ...  President, Chief Executive Officer & Director   \n499  ...  President, Chief Executive Officer & Director   \n500  ...  President, Chief Executive Officer & Director   \n\n                                        Address Ticker  \\\n1    702 S.W. Eighth St., Bentonville, AR 72716    WMT   \n2              3555 Farnam St., Omaha, NE 68131   BRKA   \n3          1 Infinite Loop, Cupertino, CA 95014   AAPL   \n4      5959 Las Colinas Blvd., Irving, TX 75039    XOM   \n5           1 Post St., San Francisco, CA 94104    MCK   \n..                                          ...    ...   \n496      8000 Bent Branch Dr., Irving, TX 75063    MIK   \n497        250 Gibraltar Rd., Horsham, PA 19044    TOL   \n498         701 First Ave., Sunnyvale, CA 94089   YHOO   \n499            1601 Bryan St., Dallas, TX 75201    VST   \n500         1 Liberty Plaza, New York, NY 10006    ABM   \n\n                         Fullname Revenues Revchange  Profits  Prftchange  \\\n1           Wal-Mart Stores, Inc.   485873       0.8  13643.0        -7.2   \n2         Berkshire Hathaway Inc.   223604       6.1  24074.0           0   \n3                     Apple, Inc.   215639      -7.7  45687.0       -14.4   \n4         Exxon Mobil Corporation   205004     -16.7   7840.0       -51.5   \n5            McKesson Corporation   192487       6.2   2258.0          53   \n..                            ...      ...       ...      ...         ...   \n496  The Michaels Companies, Inc.     5197       5.8    378.2         4.2   \n497           Toll Brothers, Inc.     5170      23.9    382.1         5.2   \n498                   Yahoo! Inc.     5169       4.0   -214.3         5.2   \n499           Vistra Energy Corp.     5164       4.0   -214.3         5.2   \n500   ABM Industries Incorporated     5145      -2.8     57.2         -25   \n\n     Assets Totshequity  \n1    198825     77798.0  \n2    620854    283001.0  \n3    321686    128249.0  \n4    330314    167325.0  \n5     56563      8924.0  \n..      ...         ...  \n496    2148     -1698.0  \n497    9737      4229.0  \n498   48083     31049.0  \n499   15167      6597.0  \n500    2281       974.0  \n\n[500 rows x 22 columns]",
      "text/html": "<div>\n<style scoped>\n    .dataframe tbody tr th:only-of-type {\n        vertical-align: middle;\n    }\n\n    .dataframe tbody tr th {\n        vertical-align: top;\n    }\n\n    .dataframe thead th {\n        text-align: right;\n    }\n</style>\n<table border=\"1\" class=\"dataframe\">\n  <thead>\n    <tr style=\"text-align: right;\">\n      <th></th>\n      <th>Title</th>\n      <th>Website</th>\n      <th>Employees</th>\n      <th>Sector</th>\n      <th>Industry</th>\n      <th>Hqlocation</th>\n      <th>Hqaddr</th>\n      <th>Hqcity</th>\n      <th>Hqstate</th>\n      <th>Hqzip</th>\n      <th>...</th>\n      <th>Ceo-title</th>\n      <th>Address</th>\n      <th>Ticker</th>\n      <th>Fullname</th>\n      <th>Revenues</th>\n      <th>Revchange</th>\n      <th>Profits</th>\n      <th>Prftchange</th>\n      <th>Assets</th>\n      <th>Totshequity</th>\n    </tr>\n  </thead>\n  <tbody>\n    <tr>\n      <th>1</th>\n      <td>Walmart</td>\n      <td>http://www.walmart.com</td>\n      <td>2300000</td>\n      <td>Retailing</td>\n      <td>General Merchandisers</td>\n      <td>Bentonville, AR</td>\n      <td>702 S.W. Eighth St.</td>\n      <td>Bentonville</td>\n      <td>AR</td>\n      <td>72716</td>\n      <td>...</td>\n      <td>President, Chief Executive Officer &amp; Director</td>\n      <td>702 S.W. Eighth St., Bentonville, AR 72716</td>\n      <td>WMT</td>\n      <td>Wal-Mart Stores, Inc.</td>\n      <td>485873</td>\n      <td>0.8</td>\n      <td>13643.0</td>\n      <td>-7.2</td>\n      <td>198825</td>\n      <td>77798.0</td>\n    </tr>\n    <tr>\n      <th>2</th>\n      <td>Berkshire Hathaway</td>\n      <td>http://www.berkshirehathaway.com</td>\n      <td>367700</td>\n      <td>Financials</td>\n      <td>Insurance: Property and Casualty (Stock)</td>\n      <td>Omaha, NE</td>\n      <td>3555 Farnam St.</td>\n      <td>Omaha</td>\n      <td>NE</td>\n      <td>68131</td>\n      <td>...</td>\n      <td>Chairman &amp; Chief Executive Officer</td>\n      <td>3555 Farnam St., Omaha, NE 68131</td>\n      <td>BRKA</td>\n      <td>Berkshire Hathaway Inc.</td>\n      <td>223604</td>\n      <td>6.1</td>\n      <td>24074.0</td>\n      <td>0</td>\n      <td>620854</td>\n      <td>283001.0</td>\n    </tr>\n    <tr>\n      <th>3</th>\n      <td>Apple</td>\n      <td>http://www.apple.com</td>\n      <td>116000</td>\n      <td>Technology</td>\n      <td>Computers, Office Equipment</td>\n      <td>Cupertino, CA</td>\n      <td>1 Infinite Loop</td>\n      <td>Cupertino</td>\n      <td>CA</td>\n      <td>95014</td>\n      <td>...</td>\n      <td>Chief Executive Officer &amp; Director</td>\n      <td>1 Infinite Loop, Cupertino, CA 95014</td>\n      <td>AAPL</td>\n      <td>Apple, Inc.</td>\n      <td>215639</td>\n      <td>-7.7</td>\n      <td>45687.0</td>\n      <td>-14.4</td>\n      <td>321686</td>\n      <td>128249.0</td>\n    </tr>\n    <tr>\n      <th>4</th>\n      <td>Exxon Mobil</td>\n      <td>http://www.exxonmobil.com</td>\n      <td>72700</td>\n      <td>Energy</td>\n      <td>Petroleum Refining</td>\n      <td>Irving, TX</td>\n      <td>5959 Las Colinas Blvd.</td>\n      <td>Irving</td>\n      <td>TX</td>\n      <td>75039</td>\n      <td>...</td>\n      <td>Chairman &amp; Chief Executive Officer</td>\n      <td>5959 Las Colinas Blvd., Irving, TX 75039</td>\n      <td>XOM</td>\n      <td>Exxon Mobil Corporation</td>\n      <td>205004</td>\n      <td>-16.7</td>\n      <td>7840.0</td>\n      <td>-51.5</td>\n      <td>330314</td>\n      <td>167325.0</td>\n    </tr>\n    <tr>\n      <th>5</th>\n      <td>McKesson</td>\n      <td>http://www.mckesson.com</td>\n      <td>68000</td>\n      <td>Wholesalers</td>\n      <td>Wholesalers: Health Care</td>\n      <td>San Francisco, CA</td>\n      <td>1 Post St.</td>\n      <td>San Francisco</td>\n      <td>CA</td>\n      <td>94104</td>\n      <td>...</td>\n      <td>Chairman, President &amp; Chief Executive Officer</td>\n      <td>1 Post St., San Francisco, CA 94104</td>\n      <td>MCK</td>\n      <td>McKesson Corporation</td>\n      <td>192487</td>\n      <td>6.2</td>\n      <td>2258.0</td>\n      <td>53</td>\n      <td>56563</td>\n      <td>8924.0</td>\n    </tr>\n    <tr>\n      <th>...</th>\n      <td>...</td>\n      <td>...</td>\n      <td>...</td>\n      <td>...</td>\n      <td>...</td>\n      <td>...</td>\n      <td>...</td>\n      <td>...</td>\n      <td>...</td>\n      <td>...</td>\n      <td>...</td>\n      <td>...</td>\n      <td>...</td>\n      <td>...</td>\n      <td>...</td>\n      <td>...</td>\n      <td>...</td>\n      <td>...</td>\n      <td>...</td>\n      <td>...</td>\n      <td>...</td>\n    </tr>\n    <tr>\n      <th>496</th>\n      <td>Michaels Cos.</td>\n      <td>http://www.michaels.com</td>\n      <td>31000</td>\n      <td>Retailing</td>\n      <td>Specialty Retailers: Other</td>\n      <td>Irving, TX</td>\n      <td>8000 Bent Branch Dr.</td>\n      <td>Irving</td>\n      <td>TX</td>\n      <td>75063</td>\n      <td>...</td>\n      <td>Chairman &amp; Chief Executive Officer</td>\n      <td>8000 Bent Branch Dr., Irving, TX 75063</td>\n      <td>MIK</td>\n      <td>The Michaels Companies, Inc.</td>\n      <td>5197</td>\n      <td>5.8</td>\n      <td>378.2</td>\n      <td>4.2</td>\n      <td>2148</td>\n      <td>-1698.0</td>\n    </tr>\n    <tr>\n      <th>497</th>\n      <td>Toll Brothers</td>\n      <td>http://www.tollbrothers.com</td>\n      <td>4200</td>\n      <td>Engineering &amp; Construction</td>\n      <td>Homebuilders</td>\n      <td>Horsham, PA</td>\n      <td>250 Gibraltar Rd.</td>\n      <td>Horsham</td>\n      <td>PA</td>\n      <td>19044</td>\n      <td>...</td>\n      <td>Chief Executive Officer &amp; Director</td>\n      <td>250 Gibraltar Rd., Horsham, PA 19044</td>\n      <td>TOL</td>\n      <td>Toll Brothers, Inc.</td>\n      <td>5170</td>\n      <td>23.9</td>\n      <td>382.1</td>\n      <td>5.2</td>\n      <td>9737</td>\n      <td>4229.0</td>\n    </tr>\n    <tr>\n      <th>498</th>\n      <td>Yahoo</td>\n      <td>http://www.yahoo.com</td>\n      <td>8500</td>\n      <td>Technology</td>\n      <td>Internet Services and Retailing</td>\n      <td>Sunnyvale, CA</td>\n      <td>701 First Ave.</td>\n      <td>Sunnyvale</td>\n      <td>CA</td>\n      <td>94089</td>\n      <td>...</td>\n      <td>President, Chief Executive Officer &amp; Director</td>\n      <td>701 First Ave., Sunnyvale, CA 94089</td>\n      <td>YHOO</td>\n      <td>Yahoo! Inc.</td>\n      <td>5169</td>\n      <td>4.0</td>\n      <td>-214.3</td>\n      <td>5.2</td>\n      <td>48083</td>\n      <td>31049.0</td>\n    </tr>\n    <tr>\n      <th>499</th>\n      <td>Vistra Energy</td>\n      <td>http://www.vistraenergy.com</td>\n      <td>4431</td>\n      <td>Energy</td>\n      <td>Energy</td>\n      <td>Dallas, TX</td>\n      <td>1601 Bryan St.</td>\n      <td>Dallas</td>\n      <td>TX</td>\n      <td>75201</td>\n      <td>...</td>\n      <td>President, Chief Executive Officer &amp; Director</td>\n      <td>1601 Bryan St., Dallas, TX 75201</td>\n      <td>VST</td>\n      <td>Vistra Energy Corp.</td>\n      <td>5164</td>\n      <td>4.0</td>\n      <td>-214.3</td>\n      <td>5.2</td>\n      <td>15167</td>\n      <td>6597.0</td>\n    </tr>\n    <tr>\n      <th>500</th>\n      <td>ABM Industries</td>\n      <td>http://www.abm.com</td>\n      <td>110000</td>\n      <td>Business Services</td>\n      <td>Diversified Outsourcing Services</td>\n      <td>New York, NY</td>\n      <td>1 Liberty Plaza</td>\n      <td>New York</td>\n      <td>NY</td>\n      <td>10006</td>\n      <td>...</td>\n      <td>President, Chief Executive Officer &amp; Director</td>\n      <td>1 Liberty Plaza, New York, NY 10006</td>\n      <td>ABM</td>\n      <td>ABM Industries Incorporated</td>\n      <td>5145</td>\n      <td>-2.8</td>\n      <td>57.2</td>\n      <td>-25</td>\n      <td>2281</td>\n      <td>974.0</td>\n    </tr>\n  </tbody>\n</table>\n<p>500 rows × 22 columns</p>\n</div>"
     },
     "execution_count": 1,
     "metadata": {},
     "output_type": "execute_result"
    }
   ],
   "source": [
    "# import the pandas library\n",
    "import pandas as pd\n",
    "f500 = pd.read_csv(\"inputData/F500.csv\", index_col=0)\n",
    "f500.index.name = None\n",
    "f500\n",
    "# Modules, libraries or functions can generally be imported with \"import\"."
   ]
  },
  {
   "cell_type": "code",
   "execution_count": 2,
   "id": "5da58648",
   "metadata": {
    "ExecuteTime": {
     "end_time": "2024-02-02T14:49:20.029261300Z",
     "start_time": "2024-02-02T14:49:20.008368300Z"
    }
   },
   "outputs": [
    {
     "data": {
      "text/plain": "(500, 22)"
     },
     "execution_count": 2,
     "metadata": {},
     "output_type": "execute_result"
    }
   ],
   "source": [
    "# pandas' DataFrames have a \".shape\" attribute that returns a tuple representing the dimensions of each axis of the object.\n",
    "f500.shape"
   ]
  },
  {
   "cell_type": "code",
   "execution_count": 3,
   "id": "9b56026a",
   "metadata": {
    "ExecuteTime": {
     "end_time": "2024-02-02T14:49:20.046703200Z",
     "start_time": "2024-02-02T14:49:20.013088300Z"
    }
   },
   "outputs": [
    {
     "data": {
      "text/plain": "                Title                           Website  Employees  \\\n1             Walmart            http://www.walmart.com    2300000   \n2  Berkshire Hathaway  http://www.berkshirehathaway.com     367700   \n3               Apple              http://www.apple.com     116000   \n4         Exxon Mobil         http://www.exxonmobil.com      72700   \n5            McKesson           http://www.mckesson.com      68000   \n\n        Sector                                  Industry         Hqlocation  \\\n1    Retailing                     General Merchandisers    Bentonville, AR   \n2   Financials  Insurance: Property and Casualty (Stock)          Omaha, NE   \n3   Technology               Computers, Office Equipment      Cupertino, CA   \n4       Energy                        Petroleum Refining         Irving, TX   \n5  Wholesalers                  Wholesalers: Health Care  San Francisco, CA   \n\n                   Hqaddr         Hqcity Hqstate  Hqzip  ...  \\\n1     702 S.W. Eighth St.    Bentonville      AR  72716  ...   \n2         3555 Farnam St.          Omaha      NE  68131  ...   \n3         1 Infinite Loop      Cupertino      CA  95014  ...   \n4  5959 Las Colinas Blvd.         Irving      TX  75039  ...   \n5              1 Post St.  San Francisco      CA  94104  ...   \n\n                                       Ceo-title  \\\n1  President, Chief Executive Officer & Director   \n2             Chairman & Chief Executive Officer   \n3             Chief Executive Officer & Director   \n4             Chairman & Chief Executive Officer   \n5  Chairman, President & Chief Executive Officer   \n\n                                      Address Ticker                 Fullname  \\\n1  702 S.W. Eighth St., Bentonville, AR 72716    WMT    Wal-Mart Stores, Inc.   \n2            3555 Farnam St., Omaha, NE 68131   BRKA  Berkshire Hathaway Inc.   \n3        1 Infinite Loop, Cupertino, CA 95014   AAPL              Apple, Inc.   \n4    5959 Las Colinas Blvd., Irving, TX 75039    XOM  Exxon Mobil Corporation   \n5         1 Post St., San Francisco, CA 94104    MCK     McKesson Corporation   \n\n  Revenues Revchange  Profits  Prftchange  Assets Totshequity  \n1   485873       0.8  13643.0        -7.2  198825     77798.0  \n2   223604       6.1  24074.0           0  620854    283001.0  \n3   215639      -7.7  45687.0       -14.4  321686    128249.0  \n4   205004     -16.7   7840.0       -51.5  330314    167325.0  \n5   192487       6.2   2258.0          53   56563      8924.0  \n\n[5 rows x 22 columns]",
      "text/html": "<div>\n<style scoped>\n    .dataframe tbody tr th:only-of-type {\n        vertical-align: middle;\n    }\n\n    .dataframe tbody tr th {\n        vertical-align: top;\n    }\n\n    .dataframe thead th {\n        text-align: right;\n    }\n</style>\n<table border=\"1\" class=\"dataframe\">\n  <thead>\n    <tr style=\"text-align: right;\">\n      <th></th>\n      <th>Title</th>\n      <th>Website</th>\n      <th>Employees</th>\n      <th>Sector</th>\n      <th>Industry</th>\n      <th>Hqlocation</th>\n      <th>Hqaddr</th>\n      <th>Hqcity</th>\n      <th>Hqstate</th>\n      <th>Hqzip</th>\n      <th>...</th>\n      <th>Ceo-title</th>\n      <th>Address</th>\n      <th>Ticker</th>\n      <th>Fullname</th>\n      <th>Revenues</th>\n      <th>Revchange</th>\n      <th>Profits</th>\n      <th>Prftchange</th>\n      <th>Assets</th>\n      <th>Totshequity</th>\n    </tr>\n  </thead>\n  <tbody>\n    <tr>\n      <th>1</th>\n      <td>Walmart</td>\n      <td>http://www.walmart.com</td>\n      <td>2300000</td>\n      <td>Retailing</td>\n      <td>General Merchandisers</td>\n      <td>Bentonville, AR</td>\n      <td>702 S.W. Eighth St.</td>\n      <td>Bentonville</td>\n      <td>AR</td>\n      <td>72716</td>\n      <td>...</td>\n      <td>President, Chief Executive Officer &amp; Director</td>\n      <td>702 S.W. Eighth St., Bentonville, AR 72716</td>\n      <td>WMT</td>\n      <td>Wal-Mart Stores, Inc.</td>\n      <td>485873</td>\n      <td>0.8</td>\n      <td>13643.0</td>\n      <td>-7.2</td>\n      <td>198825</td>\n      <td>77798.0</td>\n    </tr>\n    <tr>\n      <th>2</th>\n      <td>Berkshire Hathaway</td>\n      <td>http://www.berkshirehathaway.com</td>\n      <td>367700</td>\n      <td>Financials</td>\n      <td>Insurance: Property and Casualty (Stock)</td>\n      <td>Omaha, NE</td>\n      <td>3555 Farnam St.</td>\n      <td>Omaha</td>\n      <td>NE</td>\n      <td>68131</td>\n      <td>...</td>\n      <td>Chairman &amp; Chief Executive Officer</td>\n      <td>3555 Farnam St., Omaha, NE 68131</td>\n      <td>BRKA</td>\n      <td>Berkshire Hathaway Inc.</td>\n      <td>223604</td>\n      <td>6.1</td>\n      <td>24074.0</td>\n      <td>0</td>\n      <td>620854</td>\n      <td>283001.0</td>\n    </tr>\n    <tr>\n      <th>3</th>\n      <td>Apple</td>\n      <td>http://www.apple.com</td>\n      <td>116000</td>\n      <td>Technology</td>\n      <td>Computers, Office Equipment</td>\n      <td>Cupertino, CA</td>\n      <td>1 Infinite Loop</td>\n      <td>Cupertino</td>\n      <td>CA</td>\n      <td>95014</td>\n      <td>...</td>\n      <td>Chief Executive Officer &amp; Director</td>\n      <td>1 Infinite Loop, Cupertino, CA 95014</td>\n      <td>AAPL</td>\n      <td>Apple, Inc.</td>\n      <td>215639</td>\n      <td>-7.7</td>\n      <td>45687.0</td>\n      <td>-14.4</td>\n      <td>321686</td>\n      <td>128249.0</td>\n    </tr>\n    <tr>\n      <th>4</th>\n      <td>Exxon Mobil</td>\n      <td>http://www.exxonmobil.com</td>\n      <td>72700</td>\n      <td>Energy</td>\n      <td>Petroleum Refining</td>\n      <td>Irving, TX</td>\n      <td>5959 Las Colinas Blvd.</td>\n      <td>Irving</td>\n      <td>TX</td>\n      <td>75039</td>\n      <td>...</td>\n      <td>Chairman &amp; Chief Executive Officer</td>\n      <td>5959 Las Colinas Blvd., Irving, TX 75039</td>\n      <td>XOM</td>\n      <td>Exxon Mobil Corporation</td>\n      <td>205004</td>\n      <td>-16.7</td>\n      <td>7840.0</td>\n      <td>-51.5</td>\n      <td>330314</td>\n      <td>167325.0</td>\n    </tr>\n    <tr>\n      <th>5</th>\n      <td>McKesson</td>\n      <td>http://www.mckesson.com</td>\n      <td>68000</td>\n      <td>Wholesalers</td>\n      <td>Wholesalers: Health Care</td>\n      <td>San Francisco, CA</td>\n      <td>1 Post St.</td>\n      <td>San Francisco</td>\n      <td>CA</td>\n      <td>94104</td>\n      <td>...</td>\n      <td>Chairman, President &amp; Chief Executive Officer</td>\n      <td>1 Post St., San Francisco, CA 94104</td>\n      <td>MCK</td>\n      <td>McKesson Corporation</td>\n      <td>192487</td>\n      <td>6.2</td>\n      <td>2258.0</td>\n      <td>53</td>\n      <td>56563</td>\n      <td>8924.0</td>\n    </tr>\n  </tbody>\n</table>\n<p>5 rows × 22 columns</p>\n</div>"
     },
     "execution_count": 3,
     "metadata": {},
     "output_type": "execute_result"
    }
   ],
   "source": [
    "# To get a look at the first few rows of our DataFrame, we can use the DataFrame.head()\n",
    "f500.head()\n",
    "#f500.head(20)"
   ]
  },
  {
   "cell_type": "code",
   "execution_count": 4,
   "id": "7b1be8c7",
   "metadata": {
    "ExecuteTime": {
     "end_time": "2024-02-02T14:49:20.094853500Z",
     "start_time": "2024-02-02T14:49:20.025260700Z"
    }
   },
   "outputs": [
    {
     "data": {
      "text/plain": "                         Title                         Website  Employees  \\\n491              Liberty Media     http://www.libertymedia.com       3626   \n492           Rockwell Collins  http://www.rockwellcollins.com      19000   \n493  Robert Half International       http://www.roberthalf.com      16400   \n494                  CH2M Hill             http://www.ch2m.com      20000   \n495                   Big Lots          http://www.biglots.com      23150   \n496              Michaels Cos.         http://www.michaels.com      31000   \n497              Toll Brothers     http://www.tollbrothers.com       4200   \n498                      Yahoo            http://www.yahoo.com       8500   \n499              Vistra Energy     http://www.vistraenergy.com       4431   \n500             ABM Industries              http://www.abm.com     110000   \n\n                         Sector                          Industry  \\\n491                       Media                     Entertainment   \n492         Aerospace & Defense             Aerospace and Defense   \n493           Business Services                    Temporary Help   \n494  Engineering & Construction         Engineering, Construction   \n495                   Retailing        Specialty Retailers: Other   \n496                   Retailing        Specialty Retailers: Other   \n497  Engineering & Construction                      Homebuilders   \n498                  Technology   Internet Services and Retailing   \n499                      Energy                            Energy   \n500           Business Services  Diversified Outsourcing Services   \n\n           Hqlocation                Hqaddr        Hqcity Hqstate  Hqzip  ...  \\\n491     Englewood, CO   12300 Liberty Blvd.     Englewood      CO  80112  ...   \n492  Cedar Rapids, IA  400 Collins Rd. N.E.  Cedar Rapids      IA  52498  ...   \n493    Menlo Park, CA    2884 Sand Hill Rd.    Menlo Park      CA  94025  ...   \n494     Englewood, CO   9191 S. Jamaica St.     Englewood      CO  80112  ...   \n495      Columbus, OH      300 Phillipi Rd.      Columbus      OH  43228  ...   \n496        Irving, TX  8000 Bent Branch Dr.        Irving      TX  75063  ...   \n497       Horsham, PA     250 Gibraltar Rd.       Horsham      PA  19044  ...   \n498     Sunnyvale, CA        701 First Ave.     Sunnyvale      CA  94089  ...   \n499        Dallas, TX        1601 Bryan St.        Dallas      TX  75201  ...   \n500      New York, NY       1 Liberty Plaza      New York      NY  10006  ...   \n\n                                         Ceo-title  \\\n491  President, Chief Executive Officer & Director   \n492  Chairman, President & Chief Executive Officer   \n493             Chairman & Chief Executive Officer   \n494  Chairman, President & Chief Executive Officer   \n495  President, Chief Executive Officer & Director   \n496             Chairman & Chief Executive Officer   \n497             Chief Executive Officer & Director   \n498  President, Chief Executive Officer & Director   \n499  President, Chief Executive Officer & Director   \n500  President, Chief Executive Officer & Director   \n\n                                          Address Ticker  \\\n491      12300 Liberty Blvd., Englewood, CO 80112  LSXMA   \n492  400 Collins Rd. N.E., Cedar Rapids, IA 52498    COL   \n493      2884 Sand Hill Rd., Menlo Park, CA 94025    RHI   \n494      9191 S. Jamaica St., Englewood, CO 80112    RHI   \n495          300 Phillipi Rd., Columbus, OH 43228    BIG   \n496        8000 Bent Branch Dr., Irving, TX 75063    MIK   \n497          250 Gibraltar Rd., Horsham, PA 19044    TOL   \n498           701 First Ave., Sunnyvale, CA 94089   YHOO   \n499              1601 Bryan St., Dallas, TX 75201    VST   \n500           1 Liberty Plaza, New York, NY 10006    ABM   \n\n                           Fullname Revenues Revchange  Profits  Prftchange  \\\n491       Liberty Media Corporation     5276      10.0    680.0       962.5   \n492          Rockwell Collins, Inc.     5259      -0.1    728.0         6.1   \n493  Robert Half International Inc.     5250       3.1    343.4          -4   \n494       CH2M HILL Companies, Ltd.     5236      -2.3     15.0       -81.3   \n495                  Big Lots, Inc.     5200       0.2    152.8           7   \n496    The Michaels Companies, Inc.     5197       5.8    378.2         4.2   \n497             Toll Brothers, Inc.     5170      23.9    382.1         5.2   \n498                     Yahoo! Inc.     5169       4.0   -214.3         5.2   \n499             Vistra Energy Corp.     5164       4.0   -214.3         5.2   \n500     ABM Industries Incorporated     5145      -2.8     57.2         -25   \n\n     Assets Totshequity  \n491   31377     11756.0  \n492    7707      2078.0  \n493    1778      1087.0  \n494    2671       547.0  \n495    1608       651.0  \n496    2148     -1698.0  \n497    9737      4229.0  \n498   48083     31049.0  \n499   15167      6597.0  \n500    2281       974.0  \n\n[10 rows x 22 columns]",
      "text/html": "<div>\n<style scoped>\n    .dataframe tbody tr th:only-of-type {\n        vertical-align: middle;\n    }\n\n    .dataframe tbody tr th {\n        vertical-align: top;\n    }\n\n    .dataframe thead th {\n        text-align: right;\n    }\n</style>\n<table border=\"1\" class=\"dataframe\">\n  <thead>\n    <tr style=\"text-align: right;\">\n      <th></th>\n      <th>Title</th>\n      <th>Website</th>\n      <th>Employees</th>\n      <th>Sector</th>\n      <th>Industry</th>\n      <th>Hqlocation</th>\n      <th>Hqaddr</th>\n      <th>Hqcity</th>\n      <th>Hqstate</th>\n      <th>Hqzip</th>\n      <th>...</th>\n      <th>Ceo-title</th>\n      <th>Address</th>\n      <th>Ticker</th>\n      <th>Fullname</th>\n      <th>Revenues</th>\n      <th>Revchange</th>\n      <th>Profits</th>\n      <th>Prftchange</th>\n      <th>Assets</th>\n      <th>Totshequity</th>\n    </tr>\n  </thead>\n  <tbody>\n    <tr>\n      <th>491</th>\n      <td>Liberty Media</td>\n      <td>http://www.libertymedia.com</td>\n      <td>3626</td>\n      <td>Media</td>\n      <td>Entertainment</td>\n      <td>Englewood, CO</td>\n      <td>12300 Liberty Blvd.</td>\n      <td>Englewood</td>\n      <td>CO</td>\n      <td>80112</td>\n      <td>...</td>\n      <td>President, Chief Executive Officer &amp; Director</td>\n      <td>12300 Liberty Blvd., Englewood, CO 80112</td>\n      <td>LSXMA</td>\n      <td>Liberty Media Corporation</td>\n      <td>5276</td>\n      <td>10.0</td>\n      <td>680.0</td>\n      <td>962.5</td>\n      <td>31377</td>\n      <td>11756.0</td>\n    </tr>\n    <tr>\n      <th>492</th>\n      <td>Rockwell Collins</td>\n      <td>http://www.rockwellcollins.com</td>\n      <td>19000</td>\n      <td>Aerospace &amp; Defense</td>\n      <td>Aerospace and Defense</td>\n      <td>Cedar Rapids, IA</td>\n      <td>400 Collins Rd. N.E.</td>\n      <td>Cedar Rapids</td>\n      <td>IA</td>\n      <td>52498</td>\n      <td>...</td>\n      <td>Chairman, President &amp; Chief Executive Officer</td>\n      <td>400 Collins Rd. N.E., Cedar Rapids, IA 52498</td>\n      <td>COL</td>\n      <td>Rockwell Collins, Inc.</td>\n      <td>5259</td>\n      <td>-0.1</td>\n      <td>728.0</td>\n      <td>6.1</td>\n      <td>7707</td>\n      <td>2078.0</td>\n    </tr>\n    <tr>\n      <th>493</th>\n      <td>Robert Half International</td>\n      <td>http://www.roberthalf.com</td>\n      <td>16400</td>\n      <td>Business Services</td>\n      <td>Temporary Help</td>\n      <td>Menlo Park, CA</td>\n      <td>2884 Sand Hill Rd.</td>\n      <td>Menlo Park</td>\n      <td>CA</td>\n      <td>94025</td>\n      <td>...</td>\n      <td>Chairman &amp; Chief Executive Officer</td>\n      <td>2884 Sand Hill Rd., Menlo Park, CA 94025</td>\n      <td>RHI</td>\n      <td>Robert Half International Inc.</td>\n      <td>5250</td>\n      <td>3.1</td>\n      <td>343.4</td>\n      <td>-4</td>\n      <td>1778</td>\n      <td>1087.0</td>\n    </tr>\n    <tr>\n      <th>494</th>\n      <td>CH2M Hill</td>\n      <td>http://www.ch2m.com</td>\n      <td>20000</td>\n      <td>Engineering &amp; Construction</td>\n      <td>Engineering, Construction</td>\n      <td>Englewood, CO</td>\n      <td>9191 S. Jamaica St.</td>\n      <td>Englewood</td>\n      <td>CO</td>\n      <td>80112</td>\n      <td>...</td>\n      <td>Chairman, President &amp; Chief Executive Officer</td>\n      <td>9191 S. Jamaica St., Englewood, CO 80112</td>\n      <td>RHI</td>\n      <td>CH2M HILL Companies, Ltd.</td>\n      <td>5236</td>\n      <td>-2.3</td>\n      <td>15.0</td>\n      <td>-81.3</td>\n      <td>2671</td>\n      <td>547.0</td>\n    </tr>\n    <tr>\n      <th>495</th>\n      <td>Big Lots</td>\n      <td>http://www.biglots.com</td>\n      <td>23150</td>\n      <td>Retailing</td>\n      <td>Specialty Retailers: Other</td>\n      <td>Columbus, OH</td>\n      <td>300 Phillipi Rd.</td>\n      <td>Columbus</td>\n      <td>OH</td>\n      <td>43228</td>\n      <td>...</td>\n      <td>President, Chief Executive Officer &amp; Director</td>\n      <td>300 Phillipi Rd., Columbus, OH 43228</td>\n      <td>BIG</td>\n      <td>Big Lots, Inc.</td>\n      <td>5200</td>\n      <td>0.2</td>\n      <td>152.8</td>\n      <td>7</td>\n      <td>1608</td>\n      <td>651.0</td>\n    </tr>\n    <tr>\n      <th>496</th>\n      <td>Michaels Cos.</td>\n      <td>http://www.michaels.com</td>\n      <td>31000</td>\n      <td>Retailing</td>\n      <td>Specialty Retailers: Other</td>\n      <td>Irving, TX</td>\n      <td>8000 Bent Branch Dr.</td>\n      <td>Irving</td>\n      <td>TX</td>\n      <td>75063</td>\n      <td>...</td>\n      <td>Chairman &amp; Chief Executive Officer</td>\n      <td>8000 Bent Branch Dr., Irving, TX 75063</td>\n      <td>MIK</td>\n      <td>The Michaels Companies, Inc.</td>\n      <td>5197</td>\n      <td>5.8</td>\n      <td>378.2</td>\n      <td>4.2</td>\n      <td>2148</td>\n      <td>-1698.0</td>\n    </tr>\n    <tr>\n      <th>497</th>\n      <td>Toll Brothers</td>\n      <td>http://www.tollbrothers.com</td>\n      <td>4200</td>\n      <td>Engineering &amp; Construction</td>\n      <td>Homebuilders</td>\n      <td>Horsham, PA</td>\n      <td>250 Gibraltar Rd.</td>\n      <td>Horsham</td>\n      <td>PA</td>\n      <td>19044</td>\n      <td>...</td>\n      <td>Chief Executive Officer &amp; Director</td>\n      <td>250 Gibraltar Rd., Horsham, PA 19044</td>\n      <td>TOL</td>\n      <td>Toll Brothers, Inc.</td>\n      <td>5170</td>\n      <td>23.9</td>\n      <td>382.1</td>\n      <td>5.2</td>\n      <td>9737</td>\n      <td>4229.0</td>\n    </tr>\n    <tr>\n      <th>498</th>\n      <td>Yahoo</td>\n      <td>http://www.yahoo.com</td>\n      <td>8500</td>\n      <td>Technology</td>\n      <td>Internet Services and Retailing</td>\n      <td>Sunnyvale, CA</td>\n      <td>701 First Ave.</td>\n      <td>Sunnyvale</td>\n      <td>CA</td>\n      <td>94089</td>\n      <td>...</td>\n      <td>President, Chief Executive Officer &amp; Director</td>\n      <td>701 First Ave., Sunnyvale, CA 94089</td>\n      <td>YHOO</td>\n      <td>Yahoo! Inc.</td>\n      <td>5169</td>\n      <td>4.0</td>\n      <td>-214.3</td>\n      <td>5.2</td>\n      <td>48083</td>\n      <td>31049.0</td>\n    </tr>\n    <tr>\n      <th>499</th>\n      <td>Vistra Energy</td>\n      <td>http://www.vistraenergy.com</td>\n      <td>4431</td>\n      <td>Energy</td>\n      <td>Energy</td>\n      <td>Dallas, TX</td>\n      <td>1601 Bryan St.</td>\n      <td>Dallas</td>\n      <td>TX</td>\n      <td>75201</td>\n      <td>...</td>\n      <td>President, Chief Executive Officer &amp; Director</td>\n      <td>1601 Bryan St., Dallas, TX 75201</td>\n      <td>VST</td>\n      <td>Vistra Energy Corp.</td>\n      <td>5164</td>\n      <td>4.0</td>\n      <td>-214.3</td>\n      <td>5.2</td>\n      <td>15167</td>\n      <td>6597.0</td>\n    </tr>\n    <tr>\n      <th>500</th>\n      <td>ABM Industries</td>\n      <td>http://www.abm.com</td>\n      <td>110000</td>\n      <td>Business Services</td>\n      <td>Diversified Outsourcing Services</td>\n      <td>New York, NY</td>\n      <td>1 Liberty Plaza</td>\n      <td>New York</td>\n      <td>NY</td>\n      <td>10006</td>\n      <td>...</td>\n      <td>President, Chief Executive Officer &amp; Director</td>\n      <td>1 Liberty Plaza, New York, NY 10006</td>\n      <td>ABM</td>\n      <td>ABM Industries Incorporated</td>\n      <td>5145</td>\n      <td>-2.8</td>\n      <td>57.2</td>\n      <td>-25</td>\n      <td>2281</td>\n      <td>974.0</td>\n    </tr>\n  </tbody>\n</table>\n<p>10 rows × 22 columns</p>\n</div>"
     },
     "execution_count": 4,
     "metadata": {},
     "output_type": "execute_result"
    }
   ],
   "source": [
    "# Similarly, we can use the DataFrame.tail() method to reveal the last rows of our DataFrame:\n",
    "f500.tail(10)"
   ]
  },
  {
   "cell_type": "code",
   "execution_count": 5,
   "id": "7942862d",
   "metadata": {
    "ExecuteTime": {
     "end_time": "2024-02-02T14:49:20.119512600Z",
     "start_time": "2024-02-02T14:49:20.038175800Z"
    }
   },
   "outputs": [
    {
     "data": {
      "text/plain": "Title           object\nWebsite         object\nEmployees        int64\nSector          object\nIndustry        object\nHqlocation      object\nHqaddr          object\nHqcity          object\nHqstate         object\nHqzip            int64\nHqtel           object\nCeo             object\nCeo-title       object\nAddress         object\nTicker          object\nFullname        object\nRevenues         int64\nRevchange      float64\nProfits        float64\nPrftchange      object\nAssets           int64\nTotshequity    float64\ndtype: object"
     },
     "execution_count": 5,
     "metadata": {},
     "output_type": "execute_result"
    }
   ],
   "source": [
    "# Pandas DataFrames can contain columns with multiple data types, including: integer, float, and string\n",
    "# To learn about the types of each column, we can use the DataFrame.dtypes attribute\n",
    "f500.dtypes"
   ]
  },
  {
   "cell_type": "code",
   "execution_count": 6,
   "id": "738ed46b",
   "metadata": {
    "ExecuteTime": {
     "end_time": "2024-02-02T14:49:20.121511300Z",
     "start_time": "2024-02-02T14:49:20.046703200Z"
    }
   },
   "outputs": [
    {
     "name": "stdout",
     "output_type": "stream",
     "text": [
      "<class 'pandas.core.frame.DataFrame'>\n",
      "Index: 500 entries, 1 to 500\n",
      "Data columns (total 22 columns):\n",
      " #   Column       Non-Null Count  Dtype  \n",
      "---  ------       --------------  -----  \n",
      " 0   Title        500 non-null    object \n",
      " 1   Website      500 non-null    object \n",
      " 2   Employees    500 non-null    int64  \n",
      " 3   Sector       500 non-null    object \n",
      " 4   Industry     500 non-null    object \n",
      " 5   Hqlocation   500 non-null    object \n",
      " 6   Hqaddr       500 non-null    object \n",
      " 7   Hqcity       500 non-null    object \n",
      " 8   Hqstate      500 non-null    object \n",
      " 9   Hqzip        500 non-null    int64  \n",
      " 10  Hqtel        500 non-null    object \n",
      " 11  Ceo          500 non-null    object \n",
      " 12  Ceo-title    500 non-null    object \n",
      " 13  Address      500 non-null    object \n",
      " 14  Ticker       500 non-null    object \n",
      " 15  Fullname     500 non-null    object \n",
      " 16  Revenues     500 non-null    int64  \n",
      " 17  Revchange    500 non-null    float64\n",
      " 18  Profits      500 non-null    float64\n",
      " 19  Prftchange   500 non-null    object \n",
      " 20  Assets       500 non-null    int64  \n",
      " 21  Totshequity  500 non-null    float64\n",
      "dtypes: float64(3), int64(4), object(15)\n",
      "memory usage: 89.8+ KB\n"
     ]
    }
   ],
   "source": [
    "# If we want an overview of all the dtypes used in our DataFrame, \n",
    "# along with its shape and other information, we can use the DataFrame.info() method. \n",
    "f500.info()"
   ]
  },
  {
   "cell_type": "code",
   "execution_count": 7,
   "id": "d0a5cc15",
   "metadata": {
    "ExecuteTime": {
     "end_time": "2024-02-02T14:49:20.122512200Z",
     "start_time": "2024-02-02T14:49:20.057242400Z"
    }
   },
   "outputs": [
    {
     "data": {
      "text/plain": "'Walmart'"
     },
     "execution_count": 7,
     "metadata": {},
     "output_type": "execute_result"
    }
   ],
   "source": [
    "# There are two types of labels in pandas: Row Labels and Column Labels.\n",
    "# pandas allows us to select data using these friendly labels. The secret weapon? The DataFrame.loc[] attribute! \n",
    "f500.loc[1,\"Title\"]\n"
   ]
  },
  {
   "cell_type": "code",
   "execution_count": 8,
   "id": "6e3139bd",
   "metadata": {
    "ExecuteTime": {
     "end_time": "2024-02-02T14:49:20.123510700Z",
     "start_time": "2024-02-02T14:49:20.064939200Z"
    }
   },
   "outputs": [
    {
     "data": {
      "text/plain": "1                 Walmart\n2      Berkshire Hathaway\n3                   Apple\n4             Exxon Mobil\n5                McKesson\n              ...        \n496         Michaels Cos.\n497         Toll Brothers\n498                 Yahoo\n499         Vistra Energy\n500        ABM Industries\nName: Title, Length: 500, dtype: object"
     },
     "execution_count": 8,
     "metadata": {},
     "output_type": "execute_result"
    }
   ],
   "source": [
    "# Select a single column\n",
    "Title = f500[\"Title\"]\n",
    "Title\n",
    "# This shortcut for selecting a single column is super popular, and we'll use it throughout our lessons."
   ]
  },
  {
   "cell_type": "code",
   "execution_count": 9,
   "id": "d4d78716",
   "metadata": {
    "ExecuteTime": {
     "end_time": "2024-02-02T14:49:20.126540900Z",
     "start_time": "2024-02-02T14:49:20.075106Z"
    }
   },
   "outputs": [
    {
     "data": {
      "text/plain": "pandas.core.series.Series"
     },
     "execution_count": 9,
     "metadata": {},
     "output_type": "execute_result"
    }
   ],
   "source": [
    "# We discovered that when we selected just one column of our DataFrame,\n",
    "# we were returned to a new pandas object: a pandas.Series object.\n",
    "type(f500)\n",
    "type(Title)\n"
   ]
  },
  {
   "cell_type": "markdown",
   "id": "6d079406",
   "metadata": {},
   "source": [
    "As we continue our journey into data selection with pandas, keep an eye on which objects are DataFrames and which ones are Series. The functions, methods, attributes, and syntax available to us will vary depending on the type of pandas object we're working with. This distinction will help you become a master of pandas ;)!"
   ]
  },
  {
   "cell_type": "code",
   "execution_count": 10,
   "id": "3a888e67",
   "metadata": {
    "ExecuteTime": {
     "end_time": "2024-02-02T14:49:20.151776800Z",
     "start_time": "2024-02-02T14:49:20.081335300Z"
    }
   },
   "outputs": [
    {
     "data": {
      "text/plain": "                  Title                           Website\n1               Walmart            http://www.walmart.com\n2    Berkshire Hathaway  http://www.berkshirehathaway.com\n3                 Apple              http://www.apple.com\n4           Exxon Mobil         http://www.exxonmobil.com\n5              McKesson           http://www.mckesson.com\n..                  ...                               ...\n496       Michaels Cos.           http://www.michaels.com\n497       Toll Brothers       http://www.tollbrothers.com\n498               Yahoo              http://www.yahoo.com\n499       Vistra Energy       http://www.vistraenergy.com\n500      ABM Industries                http://www.abm.com\n\n[500 rows x 2 columns]",
      "text/html": "<div>\n<style scoped>\n    .dataframe tbody tr th:only-of-type {\n        vertical-align: middle;\n    }\n\n    .dataframe tbody tr th {\n        vertical-align: top;\n    }\n\n    .dataframe thead th {\n        text-align: right;\n    }\n</style>\n<table border=\"1\" class=\"dataframe\">\n  <thead>\n    <tr style=\"text-align: right;\">\n      <th></th>\n      <th>Title</th>\n      <th>Website</th>\n    </tr>\n  </thead>\n  <tbody>\n    <tr>\n      <th>1</th>\n      <td>Walmart</td>\n      <td>http://www.walmart.com</td>\n    </tr>\n    <tr>\n      <th>2</th>\n      <td>Berkshire Hathaway</td>\n      <td>http://www.berkshirehathaway.com</td>\n    </tr>\n    <tr>\n      <th>3</th>\n      <td>Apple</td>\n      <td>http://www.apple.com</td>\n    </tr>\n    <tr>\n      <th>4</th>\n      <td>Exxon Mobil</td>\n      <td>http://www.exxonmobil.com</td>\n    </tr>\n    <tr>\n      <th>5</th>\n      <td>McKesson</td>\n      <td>http://www.mckesson.com</td>\n    </tr>\n    <tr>\n      <th>...</th>\n      <td>...</td>\n      <td>...</td>\n    </tr>\n    <tr>\n      <th>496</th>\n      <td>Michaels Cos.</td>\n      <td>http://www.michaels.com</td>\n    </tr>\n    <tr>\n      <th>497</th>\n      <td>Toll Brothers</td>\n      <td>http://www.tollbrothers.com</td>\n    </tr>\n    <tr>\n      <th>498</th>\n      <td>Yahoo</td>\n      <td>http://www.yahoo.com</td>\n    </tr>\n    <tr>\n      <th>499</th>\n      <td>Vistra Energy</td>\n      <td>http://www.vistraenergy.com</td>\n    </tr>\n    <tr>\n      <th>500</th>\n      <td>ABM Industries</td>\n      <td>http://www.abm.com</td>\n    </tr>\n  </tbody>\n</table>\n<p>500 rows × 2 columns</p>\n</div>"
     },
     "execution_count": 10,
     "metadata": {},
     "output_type": "execute_result"
    }
   ],
   "source": [
    "# we can also select multiple columns \n",
    "f500_new = f500[[\"Title\", \"Website\"]]\n",
    "# we need two brackets\n",
    "f500_new\n",
    "# is this a Dataframe or a Series?"
   ]
  },
  {
   "cell_type": "code",
   "execution_count": 11,
   "id": "fe78a4d9",
   "metadata": {
    "ExecuteTime": {
     "end_time": "2024-02-02T14:49:20.206575500Z",
     "start_time": "2024-02-02T14:49:20.090853200Z"
    }
   },
   "outputs": [
    {
     "data": {
      "text/plain": "                  Title                           Website\n1               Walmart            http://www.walmart.com\n2    Berkshire Hathaway  http://www.berkshirehathaway.com\n3                 Apple              http://www.apple.com\n4           Exxon Mobil         http://www.exxonmobil.com\n5              McKesson           http://www.mckesson.com\n..                  ...                               ...\n496       Michaels Cos.           http://www.michaels.com\n497       Toll Brothers       http://www.tollbrothers.com\n498               Yahoo              http://www.yahoo.com\n499       Vistra Energy       http://www.vistraenergy.com\n500      ABM Industries                http://www.abm.com\n\n[500 rows x 2 columns]",
      "text/html": "<div>\n<style scoped>\n    .dataframe tbody tr th:only-of-type {\n        vertical-align: middle;\n    }\n\n    .dataframe tbody tr th {\n        vertical-align: top;\n    }\n\n    .dataframe thead th {\n        text-align: right;\n    }\n</style>\n<table border=\"1\" class=\"dataframe\">\n  <thead>\n    <tr style=\"text-align: right;\">\n      <th></th>\n      <th>Title</th>\n      <th>Website</th>\n    </tr>\n  </thead>\n  <tbody>\n    <tr>\n      <th>1</th>\n      <td>Walmart</td>\n      <td>http://www.walmart.com</td>\n    </tr>\n    <tr>\n      <th>2</th>\n      <td>Berkshire Hathaway</td>\n      <td>http://www.berkshirehathaway.com</td>\n    </tr>\n    <tr>\n      <th>3</th>\n      <td>Apple</td>\n      <td>http://www.apple.com</td>\n    </tr>\n    <tr>\n      <th>4</th>\n      <td>Exxon Mobil</td>\n      <td>http://www.exxonmobil.com</td>\n    </tr>\n    <tr>\n      <th>5</th>\n      <td>McKesson</td>\n      <td>http://www.mckesson.com</td>\n    </tr>\n    <tr>\n      <th>...</th>\n      <td>...</td>\n      <td>...</td>\n    </tr>\n    <tr>\n      <th>496</th>\n      <td>Michaels Cos.</td>\n      <td>http://www.michaels.com</td>\n    </tr>\n    <tr>\n      <th>497</th>\n      <td>Toll Brothers</td>\n      <td>http://www.tollbrothers.com</td>\n    </tr>\n    <tr>\n      <th>498</th>\n      <td>Yahoo</td>\n      <td>http://www.yahoo.com</td>\n    </tr>\n    <tr>\n      <th>499</th>\n      <td>Vistra Energy</td>\n      <td>http://www.vistraenergy.com</td>\n    </tr>\n    <tr>\n      <th>500</th>\n      <td>ABM Industries</td>\n      <td>http://www.abm.com</td>\n    </tr>\n  </tbody>\n</table>\n<p>500 rows × 2 columns</p>\n</div>"
     },
     "execution_count": 11,
     "metadata": {},
     "output_type": "execute_result"
    }
   ],
   "source": [
    "# also possible\n",
    "f500_new_test = f500.loc[:,[\"Title\", \"Website\"]]\n",
    "f500_new_test"
   ]
  },
  {
   "cell_type": "code",
   "execution_count": 12,
   "id": "492783bf",
   "metadata": {
    "ExecuteTime": {
     "end_time": "2024-02-02T14:49:20.208576900Z",
     "start_time": "2024-02-02T14:49:20.099274900Z"
    }
   },
   "outputs": [
    {
     "data": {
      "text/plain": "                  Title                           Website  Employees  \\\n1               Walmart            http://www.walmart.com    2300000   \n2    Berkshire Hathaway  http://www.berkshirehathaway.com     367700   \n3                 Apple              http://www.apple.com     116000   \n4           Exxon Mobil         http://www.exxonmobil.com      72700   \n5              McKesson           http://www.mckesson.com      68000   \n..                  ...                               ...        ...   \n496       Michaels Cos.           http://www.michaels.com      31000   \n497       Toll Brothers       http://www.tollbrothers.com       4200   \n498               Yahoo              http://www.yahoo.com       8500   \n499       Vistra Energy       http://www.vistraenergy.com       4431   \n500      ABM Industries                http://www.abm.com     110000   \n\n                         Sector                                  Industry  \n1                     Retailing                     General Merchandisers  \n2                    Financials  Insurance: Property and Casualty (Stock)  \n3                    Technology               Computers, Office Equipment  \n4                        Energy                        Petroleum Refining  \n5                   Wholesalers                  Wholesalers: Health Care  \n..                          ...                                       ...  \n496                   Retailing                Specialty Retailers: Other  \n497  Engineering & Construction                              Homebuilders  \n498                  Technology           Internet Services and Retailing  \n499                      Energy                                    Energy  \n500           Business Services          Diversified Outsourcing Services  \n\n[500 rows x 5 columns]",
      "text/html": "<div>\n<style scoped>\n    .dataframe tbody tr th:only-of-type {\n        vertical-align: middle;\n    }\n\n    .dataframe tbody tr th {\n        vertical-align: top;\n    }\n\n    .dataframe thead th {\n        text-align: right;\n    }\n</style>\n<table border=\"1\" class=\"dataframe\">\n  <thead>\n    <tr style=\"text-align: right;\">\n      <th></th>\n      <th>Title</th>\n      <th>Website</th>\n      <th>Employees</th>\n      <th>Sector</th>\n      <th>Industry</th>\n    </tr>\n  </thead>\n  <tbody>\n    <tr>\n      <th>1</th>\n      <td>Walmart</td>\n      <td>http://www.walmart.com</td>\n      <td>2300000</td>\n      <td>Retailing</td>\n      <td>General Merchandisers</td>\n    </tr>\n    <tr>\n      <th>2</th>\n      <td>Berkshire Hathaway</td>\n      <td>http://www.berkshirehathaway.com</td>\n      <td>367700</td>\n      <td>Financials</td>\n      <td>Insurance: Property and Casualty (Stock)</td>\n    </tr>\n    <tr>\n      <th>3</th>\n      <td>Apple</td>\n      <td>http://www.apple.com</td>\n      <td>116000</td>\n      <td>Technology</td>\n      <td>Computers, Office Equipment</td>\n    </tr>\n    <tr>\n      <th>4</th>\n      <td>Exxon Mobil</td>\n      <td>http://www.exxonmobil.com</td>\n      <td>72700</td>\n      <td>Energy</td>\n      <td>Petroleum Refining</td>\n    </tr>\n    <tr>\n      <th>5</th>\n      <td>McKesson</td>\n      <td>http://www.mckesson.com</td>\n      <td>68000</td>\n      <td>Wholesalers</td>\n      <td>Wholesalers: Health Care</td>\n    </tr>\n    <tr>\n      <th>...</th>\n      <td>...</td>\n      <td>...</td>\n      <td>...</td>\n      <td>...</td>\n      <td>...</td>\n    </tr>\n    <tr>\n      <th>496</th>\n      <td>Michaels Cos.</td>\n      <td>http://www.michaels.com</td>\n      <td>31000</td>\n      <td>Retailing</td>\n      <td>Specialty Retailers: Other</td>\n    </tr>\n    <tr>\n      <th>497</th>\n      <td>Toll Brothers</td>\n      <td>http://www.tollbrothers.com</td>\n      <td>4200</td>\n      <td>Engineering &amp; Construction</td>\n      <td>Homebuilders</td>\n    </tr>\n    <tr>\n      <th>498</th>\n      <td>Yahoo</td>\n      <td>http://www.yahoo.com</td>\n      <td>8500</td>\n      <td>Technology</td>\n      <td>Internet Services and Retailing</td>\n    </tr>\n    <tr>\n      <th>499</th>\n      <td>Vistra Energy</td>\n      <td>http://www.vistraenergy.com</td>\n      <td>4431</td>\n      <td>Energy</td>\n      <td>Energy</td>\n    </tr>\n    <tr>\n      <th>500</th>\n      <td>ABM Industries</td>\n      <td>http://www.abm.com</td>\n      <td>110000</td>\n      <td>Business Services</td>\n      <td>Diversified Outsourcing Services</td>\n    </tr>\n  </tbody>\n</table>\n<p>500 rows × 5 columns</p>\n</div>"
     },
     "execution_count": 12,
     "metadata": {},
     "output_type": "execute_result"
    }
   ],
   "source": [
    "# Now, let's see how to select specific columns using a slice object with labels\n",
    "#f500_new = f500[[\"Title\",\"Industry\"]]\n",
    "#f500_new\n",
    "f500_new = f500.loc[:,\"Title\":\"Industry\"]\n",
    "f500_new"
   ]
  },
  {
   "cell_type": "code",
   "execution_count": 13,
   "id": "0294cbb5",
   "metadata": {
    "ExecuteTime": {
     "end_time": "2024-02-02T14:49:20.208576900Z",
     "start_time": "2024-02-02T14:49:20.108297900Z"
    }
   },
   "outputs": [
    {
     "data": {
      "text/plain": "Title                                               McKesson\nWebsite                              http://www.mckesson.com\nEmployees                                              68000\nSector                                           Wholesalers\nIndustry                            Wholesalers: Health Care\nHqlocation                                 San Francisco, CA\nHqaddr                                            1 Post St.\nHqcity                                         San Francisco\nHqstate                                                   CA\nHqzip                                                  94104\nHqtel                                           415-983-8300\nCeo                                       John H. Hammergren\nCeo-title      Chairman, President & Chief Executive Officer\nAddress                  1 Post St., San Francisco, CA 94104\nTicker                                                   MCK\nFullname                                McKesson Corporation\nRevenues                                              192487\nRevchange                                                6.2\nProfits                                               2258.0\nPrftchange                                                53\nAssets                                                 56563\nTotshequity                                           8924.0\nName: 5, dtype: object"
     },
     "execution_count": 13,
     "metadata": {},
     "output_type": "execute_result"
    }
   ],
   "source": [
    "# The syntax for selecting rows from a DataFrame is the same as for columns\n",
    "f500_new = f500.loc[5,:]\n",
    "f500_new"
   ]
  },
  {
   "cell_type": "code",
   "execution_count": 14,
   "id": "3634b783",
   "metadata": {
    "ExecuteTime": {
     "end_time": "2024-02-02T14:49:20.229244800Z",
     "start_time": "2024-02-02T14:49:20.114512400Z"
    }
   },
   "outputs": [
    {
     "data": {
      "text/plain": "                 Title                           Website  Employees  \\\n5             McKesson           http://www.mckesson.com      68000   \n6   UnitedHealth Group  http://www.unitedhealthgroup.com     230000   \n7           CVS Health          http://www.cvshealth.com     204000   \n8       General Motors                 http://www.gm.com     225000   \n9                 AT&T                http://www.att.com     268540   \n10          Ford Motor               http://www.ford.com     201000   \n\n                    Sector                                  Industry  \\\n5              Wholesalers                  Wholesalers: Health Care   \n6              Health Care   Health Care: Insurance and Managed Care   \n7              Health Care  Health Care: Pharmacy and Other Services   \n8   Motor Vehicles & Parts                  Motor Vehicles and Parts   \n9       Telecommunications                        Telecommunications   \n10  Motor Vehicles & Parts                  Motor Vehicles and Parts   \n\n           Hqlocation                  Hqaddr         Hqcity Hqstate  Hqzip  \\\n5   San Francisco, CA              1 Post St.  San Francisco      CA  94104   \n6      Minnetonka, MN        9900 Bren Rd. E.     Minnetonka      MN  55343   \n7      Woonsocket, RI               1 CVS Dr.     Woonsocket      RI   2895   \n8         Detroit, MI  300 Renaissance Center        Detroit      MI  48265   \n9          Dallas, TX        208 S. Akard St.         Dallas      TX  75202   \n10       Dearborn, MI          1 American Rd.       Dearborn      MI  48126   \n\n    ...                                      Ceo-title  \\\n5   ...  Chairman, President & Chief Executive Officer   \n6   ...             Chief Executive Officer & Director   \n7   ...  President, Chief Executive Officer & Director   \n8   ...             Chairman & Chief Executive Officer   \n9   ...  Chairman, President & Chief Executive Officer   \n10  ...  President, Chief Executive Officer & Director   \n\n                                      Address Ticker  \\\n5         1 Post St., San Francisco, CA 94104    MCK   \n6      9900 Bren Rd. E., Minnetonka, MN 55343    UNH   \n7             1 CVS Dr., Woonsocket, RI 02895    CVS   \n8   300 Renaissance Center, Detroit, MI 48265     GM   \n9          208 S. Akard St., Dallas, TX 75202      T   \n10         1 American Rd., Dearborn, MI 48126      F   \n\n                           Fullname Revenues Revchange  Profits  Prftchange  \\\n5              McKesson Corporation   192487       6.2   2258.0          53   \n6   UnitedHealth Group Incorporated   184840      17.7   7017.0        20.7   \n7            CVS Health Corporation   177526      15.8   5317.0         1.5   \n8            General Motors Company   166380       9.2   9427.0        -2.7   \n9                         AT&T Inc.   163786      11.6  12976.0        -2.8   \n10               Ford Motor Company   151800       1.5   4596.0       -37.7   \n\n    Assets Totshequity  \n5    56563      8924.0  \n6   122810     38274.0  \n7    94462     36830.0  \n8   221690     43836.0  \n9   403821    123135.0  \n10  237951     29170.0  \n\n[6 rows x 22 columns]",
      "text/html": "<div>\n<style scoped>\n    .dataframe tbody tr th:only-of-type {\n        vertical-align: middle;\n    }\n\n    .dataframe tbody tr th {\n        vertical-align: top;\n    }\n\n    .dataframe thead th {\n        text-align: right;\n    }\n</style>\n<table border=\"1\" class=\"dataframe\">\n  <thead>\n    <tr style=\"text-align: right;\">\n      <th></th>\n      <th>Title</th>\n      <th>Website</th>\n      <th>Employees</th>\n      <th>Sector</th>\n      <th>Industry</th>\n      <th>Hqlocation</th>\n      <th>Hqaddr</th>\n      <th>Hqcity</th>\n      <th>Hqstate</th>\n      <th>Hqzip</th>\n      <th>...</th>\n      <th>Ceo-title</th>\n      <th>Address</th>\n      <th>Ticker</th>\n      <th>Fullname</th>\n      <th>Revenues</th>\n      <th>Revchange</th>\n      <th>Profits</th>\n      <th>Prftchange</th>\n      <th>Assets</th>\n      <th>Totshequity</th>\n    </tr>\n  </thead>\n  <tbody>\n    <tr>\n      <th>5</th>\n      <td>McKesson</td>\n      <td>http://www.mckesson.com</td>\n      <td>68000</td>\n      <td>Wholesalers</td>\n      <td>Wholesalers: Health Care</td>\n      <td>San Francisco, CA</td>\n      <td>1 Post St.</td>\n      <td>San Francisco</td>\n      <td>CA</td>\n      <td>94104</td>\n      <td>...</td>\n      <td>Chairman, President &amp; Chief Executive Officer</td>\n      <td>1 Post St., San Francisco, CA 94104</td>\n      <td>MCK</td>\n      <td>McKesson Corporation</td>\n      <td>192487</td>\n      <td>6.2</td>\n      <td>2258.0</td>\n      <td>53</td>\n      <td>56563</td>\n      <td>8924.0</td>\n    </tr>\n    <tr>\n      <th>6</th>\n      <td>UnitedHealth Group</td>\n      <td>http://www.unitedhealthgroup.com</td>\n      <td>230000</td>\n      <td>Health Care</td>\n      <td>Health Care: Insurance and Managed Care</td>\n      <td>Minnetonka, MN</td>\n      <td>9900 Bren Rd. E.</td>\n      <td>Minnetonka</td>\n      <td>MN</td>\n      <td>55343</td>\n      <td>...</td>\n      <td>Chief Executive Officer &amp; Director</td>\n      <td>9900 Bren Rd. E., Minnetonka, MN 55343</td>\n      <td>UNH</td>\n      <td>UnitedHealth Group Incorporated</td>\n      <td>184840</td>\n      <td>17.7</td>\n      <td>7017.0</td>\n      <td>20.7</td>\n      <td>122810</td>\n      <td>38274.0</td>\n    </tr>\n    <tr>\n      <th>7</th>\n      <td>CVS Health</td>\n      <td>http://www.cvshealth.com</td>\n      <td>204000</td>\n      <td>Health Care</td>\n      <td>Health Care: Pharmacy and Other Services</td>\n      <td>Woonsocket, RI</td>\n      <td>1 CVS Dr.</td>\n      <td>Woonsocket</td>\n      <td>RI</td>\n      <td>2895</td>\n      <td>...</td>\n      <td>President, Chief Executive Officer &amp; Director</td>\n      <td>1 CVS Dr., Woonsocket, RI 02895</td>\n      <td>CVS</td>\n      <td>CVS Health Corporation</td>\n      <td>177526</td>\n      <td>15.8</td>\n      <td>5317.0</td>\n      <td>1.5</td>\n      <td>94462</td>\n      <td>36830.0</td>\n    </tr>\n    <tr>\n      <th>8</th>\n      <td>General Motors</td>\n      <td>http://www.gm.com</td>\n      <td>225000</td>\n      <td>Motor Vehicles &amp; Parts</td>\n      <td>Motor Vehicles and Parts</td>\n      <td>Detroit, MI</td>\n      <td>300 Renaissance Center</td>\n      <td>Detroit</td>\n      <td>MI</td>\n      <td>48265</td>\n      <td>...</td>\n      <td>Chairman &amp; Chief Executive Officer</td>\n      <td>300 Renaissance Center, Detroit, MI 48265</td>\n      <td>GM</td>\n      <td>General Motors Company</td>\n      <td>166380</td>\n      <td>9.2</td>\n      <td>9427.0</td>\n      <td>-2.7</td>\n      <td>221690</td>\n      <td>43836.0</td>\n    </tr>\n    <tr>\n      <th>9</th>\n      <td>AT&amp;T</td>\n      <td>http://www.att.com</td>\n      <td>268540</td>\n      <td>Telecommunications</td>\n      <td>Telecommunications</td>\n      <td>Dallas, TX</td>\n      <td>208 S. Akard St.</td>\n      <td>Dallas</td>\n      <td>TX</td>\n      <td>75202</td>\n      <td>...</td>\n      <td>Chairman, President &amp; Chief Executive Officer</td>\n      <td>208 S. Akard St., Dallas, TX 75202</td>\n      <td>T</td>\n      <td>AT&amp;T Inc.</td>\n      <td>163786</td>\n      <td>11.6</td>\n      <td>12976.0</td>\n      <td>-2.8</td>\n      <td>403821</td>\n      <td>123135.0</td>\n    </tr>\n    <tr>\n      <th>10</th>\n      <td>Ford Motor</td>\n      <td>http://www.ford.com</td>\n      <td>201000</td>\n      <td>Motor Vehicles &amp; Parts</td>\n      <td>Motor Vehicles and Parts</td>\n      <td>Dearborn, MI</td>\n      <td>1 American Rd.</td>\n      <td>Dearborn</td>\n      <td>MI</td>\n      <td>48126</td>\n      <td>...</td>\n      <td>President, Chief Executive Officer &amp; Director</td>\n      <td>1 American Rd., Dearborn, MI 48126</td>\n      <td>F</td>\n      <td>Ford Motor Company</td>\n      <td>151800</td>\n      <td>1.5</td>\n      <td>4596.0</td>\n      <td>-37.7</td>\n      <td>237951</td>\n      <td>29170.0</td>\n    </tr>\n  </tbody>\n</table>\n<p>6 rows × 22 columns</p>\n</div>"
     },
     "execution_count": 14,
     "metadata": {},
     "output_type": "execute_result"
    }
   ],
   "source": [
    "# selectrows\n",
    "f500_new = f500.loc[5:10]\n",
    "f500_new\n",
    "#f500_new = f500[5:10]\n",
    "#f500_new\n",
    "# Notice that we don't need to use the .loc attribute or nested brackets here. \n",
    "# Also, the last element in the slice is included, unlike with regular Python slicing. Selecting rows using slices is very clean!\n",
    "\n",
    "#f500_new = f500.loc[5:10,:]\n",
    "#f500_new"
   ]
  },
  {
   "cell_type": "code",
   "execution_count": 15,
   "id": "0b27cb02",
   "metadata": {
    "ExecuteTime": {
     "end_time": "2024-02-02T14:49:20.243831600Z",
     "start_time": "2024-02-02T14:49:20.128541500Z"
    }
   },
   "outputs": [
    {
     "data": {
      "text/plain": "pandas.core.series.Series"
     },
     "execution_count": 15,
     "metadata": {},
     "output_type": "execute_result"
    }
   ],
   "source": [
    "# Until now, we've only selected either rows or columns, but not both at the same time. Howerever, it works as we would expect: \n",
    "# by combining the syntax used for selecting rows with the syntax used for selecting columns.\n",
    "# Are you up to the challenge? Let's go!\n",
    "# Create a new dataframe from the rows 50 to 100 and the columns Website,Employees, Sector and Fullname.\n",
    "# Create a new series of your choice.\n",
    "f500_new = f500.loc[50:100,[\"Website\",\"Employees\",\"Sector\",\"Fullname\"]]\n",
    "f500_new\n",
    "f500_series = f500[\"Fullname\"]\n",
    "f500_series\n",
    "type(f500_series)"
   ]
  },
  {
   "cell_type": "code",
   "execution_count": 16,
   "id": "fc33d8ba",
   "metadata": {
    "ExecuteTime": {
     "end_time": "2024-02-02T14:49:20.250041300Z",
     "start_time": "2024-02-02T14:49:20.131308300Z"
    }
   },
   "outputs": [
    {
     "data": {
      "text/plain": "                 Title                           Website  Employees  \\\n5             McKesson           http://www.mckesson.com      68000   \n6   UnitedHealth Group  http://www.unitedhealthgroup.com     230000   \n7           CVS Health          http://www.cvshealth.com     204000   \n8       General Motors                 http://www.gm.com     225000   \n9                 AT&T                http://www.att.com     268540   \n10          Ford Motor               http://www.ford.com     201000   \n\n                    Sector                                  Industry  \n5              Wholesalers                  Wholesalers: Health Care  \n6              Health Care   Health Care: Insurance and Managed Care  \n7              Health Care  Health Care: Pharmacy and Other Services  \n8   Motor Vehicles & Parts                  Motor Vehicles and Parts  \n9       Telecommunications                        Telecommunications  \n10  Motor Vehicles & Parts                  Motor Vehicles and Parts  ",
      "text/html": "<div>\n<style scoped>\n    .dataframe tbody tr th:only-of-type {\n        vertical-align: middle;\n    }\n\n    .dataframe tbody tr th {\n        vertical-align: top;\n    }\n\n    .dataframe thead th {\n        text-align: right;\n    }\n</style>\n<table border=\"1\" class=\"dataframe\">\n  <thead>\n    <tr style=\"text-align: right;\">\n      <th></th>\n      <th>Title</th>\n      <th>Website</th>\n      <th>Employees</th>\n      <th>Sector</th>\n      <th>Industry</th>\n    </tr>\n  </thead>\n  <tbody>\n    <tr>\n      <th>5</th>\n      <td>McKesson</td>\n      <td>http://www.mckesson.com</td>\n      <td>68000</td>\n      <td>Wholesalers</td>\n      <td>Wholesalers: Health Care</td>\n    </tr>\n    <tr>\n      <th>6</th>\n      <td>UnitedHealth Group</td>\n      <td>http://www.unitedhealthgroup.com</td>\n      <td>230000</td>\n      <td>Health Care</td>\n      <td>Health Care: Insurance and Managed Care</td>\n    </tr>\n    <tr>\n      <th>7</th>\n      <td>CVS Health</td>\n      <td>http://www.cvshealth.com</td>\n      <td>204000</td>\n      <td>Health Care</td>\n      <td>Health Care: Pharmacy and Other Services</td>\n    </tr>\n    <tr>\n      <th>8</th>\n      <td>General Motors</td>\n      <td>http://www.gm.com</td>\n      <td>225000</td>\n      <td>Motor Vehicles &amp; Parts</td>\n      <td>Motor Vehicles and Parts</td>\n    </tr>\n    <tr>\n      <th>9</th>\n      <td>AT&amp;T</td>\n      <td>http://www.att.com</td>\n      <td>268540</td>\n      <td>Telecommunications</td>\n      <td>Telecommunications</td>\n    </tr>\n    <tr>\n      <th>10</th>\n      <td>Ford Motor</td>\n      <td>http://www.ford.com</td>\n      <td>201000</td>\n      <td>Motor Vehicles &amp; Parts</td>\n      <td>Motor Vehicles and Parts</td>\n    </tr>\n  </tbody>\n</table>\n</div>"
     },
     "execution_count": 16,
     "metadata": {},
     "output_type": "execute_result"
    }
   ],
   "source": [
    "# df.loc[row_label, column_label]\n",
    "# df.loc[\"row1\":\"row5\", [\"col1\", \"col3\", \"col7\"]]\n",
    "f500_new = f500.loc[5:10,\"Title\":\"Industry\"]\n",
    "f500_new"
   ]
  },
  {
   "cell_type": "code",
   "execution_count": 17,
   "id": "2723a1a5",
   "metadata": {
    "ExecuteTime": {
     "end_time": "2024-02-02T14:49:20.250547500Z",
     "start_time": "2024-02-02T14:49:20.141382100Z"
    }
   },
   "outputs": [],
   "source": [
    "# Let's explore the Series.value_counts() method to see how it takes each unique non-null value in a column,\n",
    "# and counts how many times it appears as a value in that column.\n",
    "# First, let's select just one column from the f500 DataFrame:\n",
    "sectors = f500[\"Sector\"]"
   ]
  },
  {
   "cell_type": "code",
   "execution_count": 18,
   "id": "f840f8cb",
   "metadata": {
    "ExecuteTime": {
     "end_time": "2024-02-02T14:49:20.252554900Z",
     "start_time": "2024-02-02T14:49:20.148778700Z"
    }
   },
   "outputs": [
    {
     "data": {
      "text/plain": "Sector\nFinancials                       84\nEnergy                           57\nRetailing                        47\nTechnology                       43\nHealth Care                      38\nWholesalers                      29\nFood, Beverages & Tobacco        24\nBusiness Services                20\nMaterials                        19\nIndustrials                      19\nTransportation                   17\nChemicals                        14\nEngineering & Construction       13\nHousehold Products               12\nAerospace & Defense              12\nMedia                            11\nHotels, Restaurants & Leisure    10\nTelecommunications               10\nMotor Vehicles & Parts            9\nFood & Drug Stores                7\nApparel                           5\nName: count, dtype: int64"
     },
     "execution_count": 18,
     "metadata": {},
     "output_type": "execute_result"
    }
   ],
   "source": [
    "sectors.value_counts()"
   ]
  },
  {
   "cell_type": "code",
   "execution_count": 19,
   "id": "ad8595c2",
   "metadata": {
    "ExecuteTime": {
     "end_time": "2024-02-02T14:49:20.266788400Z",
     "start_time": "2024-02-02T14:49:20.156967900Z"
    }
   },
   "outputs": [
    {
     "data": {
      "text/plain": "Industry                                  Sector           \nUtilities: Gas and Electric               Energy               22\nSpecialty Retailers: Other                Retailing            21\nInsurance: Property and Casualty (Stock)  Financials           20\nCommercial Banks                          Financials           19\nChemicals                                 Chemicals            14\n                                                               ..\nForest and Paper Products                 Materials             1\nMiscellaneous                             Materials             1\n                                          Industrials           1\n                                          Business Services     1\nInternet Services and Retailing           Retailing             1\nName: count, Length: 76, dtype: int64"
     },
     "execution_count": 19,
     "metadata": {},
     "output_type": "execute_result"
    }
   ],
   "source": [
    "# What happens when we try using the value_counts() method directly on a DataFrame object instead of a Series object? \n",
    "f500[[\"Industry\",\"Sector\"]].value_counts()"
   ]
  },
  {
   "cell_type": "markdown",
   "id": "0c7aa85a",
   "metadata": {},
   "source": [
    "calling value_counts() on a DataFrame object look slightly different than the results we got when we called it on a Series object. This is because the DataFrame.value_counts() method returns a Series object that uses a MultiIndex instead of a single index like we got when using Series.value_counts()\n",
    "\n",
    "In the example above, the counts returned are based on a combination of the unique non-null values found in both the sector and industry columns. For example, the combination of \"Energy\" in the sector column and \"Utilities: Gas and Electric\" in the industry column occurs 22 times in our data. However, the combination of \"Materials\" in the sector column and \"Forest and Paper Products\" in the industry column only occurs once.\n"
   ]
  },
  {
   "cell_type": "code",
   "execution_count": 20,
   "id": "17449279",
   "metadata": {
    "ExecuteTime": {
     "end_time": "2024-02-02T14:49:20.267788300Z",
     "start_time": "2024-02-02T14:49:20.165739500Z"
    }
   },
   "outputs": [
    {
     "data": {
      "text/plain": "2"
     },
     "execution_count": 20,
     "metadata": {},
     "output_type": "execute_result"
    }
   ],
   "source": [
    "# we can use method chaining — a way to combine multiple methods together in a single line\n",
    "f500[\"Profits\"].value_counts().loc[1768.0]"
   ]
  },
  {
   "cell_type": "code",
   "execution_count": 21,
   "id": "be9a83bb",
   "metadata": {
    "ExecuteTime": {
     "end_time": "2024-02-02T14:49:20.268311200Z",
     "start_time": "2024-02-02T14:49:20.171326Z"
    }
   },
   "outputs": [
    {
     "data": {
      "text/plain": "1    485873\n2    223604\n3    215639\n4    205004\n5    192487\nName: Revenues, dtype: int64"
     },
     "execution_count": 21,
     "metadata": {},
     "output_type": "execute_result"
    }
   ],
   "source": [
    "# With Pandas its possible to work with vectorized operations --> operations applied to multiple data points at once\n",
    "f500[\"Revenues\"].head()\n",
    "#f500[\"Revenues\"].head()+1000\n",
    "#f500[\"Revenues\"].head()/1000"
   ]
  },
  {
   "cell_type": "code",
   "execution_count": 22,
   "id": "9ee68277",
   "metadata": {
    "ExecuteTime": {
     "end_time": "2024-02-02T14:49:20.339253300Z",
     "start_time": "2024-02-02T14:49:20.178181400Z"
    }
   },
   "outputs": [
    {
     "data": {
      "text/plain": "1    472230.0\n2    199530.0\n3    169952.0\n4    197164.0\n5    190229.0\ndtype: float64"
     },
     "execution_count": 22,
     "metadata": {},
     "output_type": "execute_result"
    }
   ],
   "source": [
    "# It is also possible to perform these operations with two columns\n",
    "f500[\"Revenues\"].head() - f500[\"Profits\"].head()"
   ]
  },
  {
   "cell_type": "code",
   "execution_count": 23,
   "id": "be5f3f57",
   "metadata": {
    "ExecuteTime": {
     "end_time": "2024-02-02T14:49:20.359768300Z",
     "start_time": "2024-02-02T14:49:20.184437200Z"
    }
   },
   "outputs": [
    {
     "data": {
      "text/plain": "45687.0"
     },
     "execution_count": 23,
     "metadata": {},
     "output_type": "execute_result"
    }
   ],
   "source": [
    "# pandas supports many descriptive stats methods that can help us\n",
    "f500[\"Profits\"].max()\n",
    "#f500[\"Profits\"].mean()\n",
    "\n",
    "\n"
   ]
  },
  {
   "cell_type": "markdown",
   "id": "f28f4e3b",
   "metadata": {},
   "source": [
    "Series.max()\n",
    "Series.min()\n",
    "Series.mean()\n",
    "Series.median()\n",
    "Series.mode()\n",
    "Series.sum()"
   ]
  },
  {
   "cell_type": "code",
   "execution_count": 24,
   "id": "13ef9a42",
   "metadata": {
    "ExecuteTime": {
     "end_time": "2024-02-02T14:49:20.360768600Z",
     "start_time": "2024-02-02T14:49:20.191204100Z"
    }
   },
   "outputs": [
    {
     "data": {
      "text/plain": "1      11863.5202\n2      22294.5202\n3      43907.5202\n4       6060.5202\n5        478.5202\n          ...    \n496    -1401.2798\n497    -1397.3798\n498    -1993.7798\n499    -1993.7798\n500    -1722.2798\nName: Profits, Length: 500, dtype: float64"
     },
     "execution_count": 24,
     "metadata": {},
     "output_type": "execute_result"
    }
   ],
   "source": [
    "# We can also use these values for calculation \n",
    "f500[\"Profits\"] - f500[\"Profits\"].mean()"
   ]
  },
  {
   "cell_type": "code",
   "execution_count": 25,
   "id": "c7501db8-ebd7-4106-af13-ed372cca2921",
   "metadata": {
    "ExecuteTime": {
     "end_time": "2024-02-02T14:49:20.361767600Z",
     "start_time": "2024-02-02T14:49:20.198879300Z"
    }
   },
   "outputs": [
    {
     "data": {
      "text/plain": "Revenues    11384.0\nProfits       683.6\ndtype: float64"
     },
     "execution_count": 25,
     "metadata": {},
     "output_type": "execute_result"
    }
   ],
   "source": [
    "#if we wanted to find the median (middle) value for the revenues and profits columns, we could use the following code\n",
    "medians = f500[[\"Revenues\", \"Profits\"]].median(axis=0)\n",
    "medians"
   ]
  },
  {
   "cell_type": "code",
   "execution_count": 26,
   "id": "3b794a11",
   "metadata": {
    "ExecuteTime": {
     "end_time": "2024-02-02T14:49:20.380767800Z",
     "start_time": "2024-02-02T14:49:20.207576300Z"
    }
   },
   "outputs": [
    {
     "data": {
      "text/plain": "count      500.000000\nmean      1779.479800\nstd       3937.558721\nmin      -6177.000000\n25%        235.725000\n50%        683.600000\n75%       1770.775000\nmax      45687.000000\nName: Profits, dtype: float64"
     },
     "execution_count": 26,
     "metadata": {},
     "output_type": "execute_result"
    }
   ],
   "source": [
    "# Next, we'll learn another method that can help us - the Series.describe() method. \n",
    "# This method tells us how many non-null values are contained in the series, \n",
    "# along with the mean, minimum, maximum, and other statistics \n",
    "f500[\"Profits\"].describe()"
   ]
  },
  {
   "cell_type": "code",
   "execution_count": 27,
   "id": "e23586cf",
   "metadata": {
    "ExecuteTime": {
     "end_time": "2024-02-02T14:49:20.382767500Z",
     "start_time": "2024-02-02T14:49:20.215125900Z"
    }
   },
   "outputs": [
    {
     "data": {
      "text/plain": "          Employees         Hqzip       Revenues  Revchange       Profits  \\\ncount  5.000000e+02    500.000000     500.000000  500.00000    500.000000   \nmean   5.635013e+04  46791.714000   24111.748000    3.75800   1779.479800   \nstd    1.234520e+05  30160.384765   38337.353337   19.96748   3937.558721   \nmin    8.300000e+01   1104.000000    5145.000000  -57.50000  -6177.000000   \n25%    1.190000e+04  19099.000000    7245.000000   -3.82500    235.725000   \n50%    2.500000e+04  46244.500000   11384.000000    1.90000    683.600000   \n75%    5.682525e+04  75045.000000   22605.250000    7.32500   1770.775000   \nmax    2.300000e+06  98188.000000  485873.000000  197.30000  45687.000000   \n\n             Assets  Totshequity  \ncount  5.000000e+02     500.0000  \nmean   8.038934e+04   13640.1470  \nstd    2.704257e+05   30523.1538  \nmin    4.370000e+02  -12688.0000  \n25%    8.436500e+03    1997.5000  \n50%    1.932450e+04    4981.0000  \n75%    4.812600e+04   12467.7500  \nmax    3.287968e+06  283001.0000  ",
      "text/html": "<div>\n<style scoped>\n    .dataframe tbody tr th:only-of-type {\n        vertical-align: middle;\n    }\n\n    .dataframe tbody tr th {\n        vertical-align: top;\n    }\n\n    .dataframe thead th {\n        text-align: right;\n    }\n</style>\n<table border=\"1\" class=\"dataframe\">\n  <thead>\n    <tr style=\"text-align: right;\">\n      <th></th>\n      <th>Employees</th>\n      <th>Hqzip</th>\n      <th>Revenues</th>\n      <th>Revchange</th>\n      <th>Profits</th>\n      <th>Assets</th>\n      <th>Totshequity</th>\n    </tr>\n  </thead>\n  <tbody>\n    <tr>\n      <th>count</th>\n      <td>5.000000e+02</td>\n      <td>500.000000</td>\n      <td>500.000000</td>\n      <td>500.00000</td>\n      <td>500.000000</td>\n      <td>5.000000e+02</td>\n      <td>500.0000</td>\n    </tr>\n    <tr>\n      <th>mean</th>\n      <td>5.635013e+04</td>\n      <td>46791.714000</td>\n      <td>24111.748000</td>\n      <td>3.75800</td>\n      <td>1779.479800</td>\n      <td>8.038934e+04</td>\n      <td>13640.1470</td>\n    </tr>\n    <tr>\n      <th>std</th>\n      <td>1.234520e+05</td>\n      <td>30160.384765</td>\n      <td>38337.353337</td>\n      <td>19.96748</td>\n      <td>3937.558721</td>\n      <td>2.704257e+05</td>\n      <td>30523.1538</td>\n    </tr>\n    <tr>\n      <th>min</th>\n      <td>8.300000e+01</td>\n      <td>1104.000000</td>\n      <td>5145.000000</td>\n      <td>-57.50000</td>\n      <td>-6177.000000</td>\n      <td>4.370000e+02</td>\n      <td>-12688.0000</td>\n    </tr>\n    <tr>\n      <th>25%</th>\n      <td>1.190000e+04</td>\n      <td>19099.000000</td>\n      <td>7245.000000</td>\n      <td>-3.82500</td>\n      <td>235.725000</td>\n      <td>8.436500e+03</td>\n      <td>1997.5000</td>\n    </tr>\n    <tr>\n      <th>50%</th>\n      <td>2.500000e+04</td>\n      <td>46244.500000</td>\n      <td>11384.000000</td>\n      <td>1.90000</td>\n      <td>683.600000</td>\n      <td>1.932450e+04</td>\n      <td>4981.0000</td>\n    </tr>\n    <tr>\n      <th>75%</th>\n      <td>5.682525e+04</td>\n      <td>75045.000000</td>\n      <td>22605.250000</td>\n      <td>7.32500</td>\n      <td>1770.775000</td>\n      <td>4.812600e+04</td>\n      <td>12467.7500</td>\n    </tr>\n    <tr>\n      <th>max</th>\n      <td>2.300000e+06</td>\n      <td>98188.000000</td>\n      <td>485873.000000</td>\n      <td>197.30000</td>\n      <td>45687.000000</td>\n      <td>3.287968e+06</td>\n      <td>283001.0000</td>\n    </tr>\n  </tbody>\n</table>\n</div>"
     },
     "execution_count": 27,
     "metadata": {},
     "output_type": "execute_result"
    }
   ],
   "source": [
    "# Also possible for the entire dataframe\n",
    "f500.describe()\n",
    "#f500.max()\n",
    "#f500.max(numeric_only=True)\n",
    "#describe = f500.describe(include=['O']) # O not 0\n",
    "#describe"
   ]
  },
  {
   "cell_type": "code",
   "execution_count": 28,
   "id": "6a549fd7-2bfe-4b51-90ce-d1c581b203f7",
   "metadata": {
    "ExecuteTime": {
     "end_time": "2024-02-02T14:49:20.384767600Z",
     "start_time": "2024-02-02T14:49:20.227245300Z"
    }
   },
   "outputs": [
    {
     "data": {
      "text/plain": "          Title                Website      Sector  \\\ncount       500                    500         500   \nunique      500                    499          21   \ntop     Walmart  http://www.abbott.com  Financials   \nfreq          1                      2          84   \n\n                           Industry    Hqlocation               Hqaddr  \\\ncount                           500           500                  500   \nunique                           73           246                  491   \ntop     Utilities: Gas and Electric  New York, NY  12300 Liberty Blvd.   \nfreq                             22            45                    2   \n\n          Hqcity Hqstate         Hqtel              Ceo  \\\ncount        500     500           500              500   \nunique       239      37           499              496   \ntop     New York      NY  650-857-1501  Gregory J. Goff   \nfreq          45      54             2                2   \n\n                                            Ceo-title  \\\ncount                                             500   \nunique                                             12   \ntop     President, Chief Executive Officer & Director   \nfreq                                              189   \n\n                                     Address Ticker               Fullname  \\\ncount                                    500    500                    500   \nunique                                   494    468                    500   \ntop     400 Atlantic St., Stamford, CT 06901   NFLX  Wal-Mart Stores, Inc.   \nfreq                                       2      3                      1   \n\n       Prftchange  \ncount         500  \nunique        377  \ntop           5.2  \nfreq            6  ",
      "text/html": "<div>\n<style scoped>\n    .dataframe tbody tr th:only-of-type {\n        vertical-align: middle;\n    }\n\n    .dataframe tbody tr th {\n        vertical-align: top;\n    }\n\n    .dataframe thead th {\n        text-align: right;\n    }\n</style>\n<table border=\"1\" class=\"dataframe\">\n  <thead>\n    <tr style=\"text-align: right;\">\n      <th></th>\n      <th>Title</th>\n      <th>Website</th>\n      <th>Sector</th>\n      <th>Industry</th>\n      <th>Hqlocation</th>\n      <th>Hqaddr</th>\n      <th>Hqcity</th>\n      <th>Hqstate</th>\n      <th>Hqtel</th>\n      <th>Ceo</th>\n      <th>Ceo-title</th>\n      <th>Address</th>\n      <th>Ticker</th>\n      <th>Fullname</th>\n      <th>Prftchange</th>\n    </tr>\n  </thead>\n  <tbody>\n    <tr>\n      <th>count</th>\n      <td>500</td>\n      <td>500</td>\n      <td>500</td>\n      <td>500</td>\n      <td>500</td>\n      <td>500</td>\n      <td>500</td>\n      <td>500</td>\n      <td>500</td>\n      <td>500</td>\n      <td>500</td>\n      <td>500</td>\n      <td>500</td>\n      <td>500</td>\n      <td>500</td>\n    </tr>\n    <tr>\n      <th>unique</th>\n      <td>500</td>\n      <td>499</td>\n      <td>21</td>\n      <td>73</td>\n      <td>246</td>\n      <td>491</td>\n      <td>239</td>\n      <td>37</td>\n      <td>499</td>\n      <td>496</td>\n      <td>12</td>\n      <td>494</td>\n      <td>468</td>\n      <td>500</td>\n      <td>377</td>\n    </tr>\n    <tr>\n      <th>top</th>\n      <td>Walmart</td>\n      <td>http://www.abbott.com</td>\n      <td>Financials</td>\n      <td>Utilities: Gas and Electric</td>\n      <td>New York, NY</td>\n      <td>12300 Liberty Blvd.</td>\n      <td>New York</td>\n      <td>NY</td>\n      <td>650-857-1501</td>\n      <td>Gregory J. Goff</td>\n      <td>President, Chief Executive Officer &amp; Director</td>\n      <td>400 Atlantic St., Stamford, CT 06901</td>\n      <td>NFLX</td>\n      <td>Wal-Mart Stores, Inc.</td>\n      <td>5.2</td>\n    </tr>\n    <tr>\n      <th>freq</th>\n      <td>1</td>\n      <td>2</td>\n      <td>84</td>\n      <td>22</td>\n      <td>45</td>\n      <td>2</td>\n      <td>45</td>\n      <td>54</td>\n      <td>2</td>\n      <td>2</td>\n      <td>189</td>\n      <td>2</td>\n      <td>3</td>\n      <td>1</td>\n      <td>6</td>\n    </tr>\n  </tbody>\n</table>\n</div>"
     },
     "execution_count": 28,
     "metadata": {},
     "output_type": "execute_result"
    }
   ],
   "source": [
    "#One difference is that we need to manually specify if you want to see the statistics for the non-numeric columns.\n",
    "#By default, DataFrame.describe() will return statistics for only numeric columns. \n",
    "#If we wanted to get just the object columns, we need to use the include=['O'] parameter:\n",
    "describe = f500.describe(include=['O']) # O not 0\n",
    "describe"
   ]
  },
  {
   "cell_type": "code",
   "execution_count": 29,
   "id": "3230fb46-be0e-4e3f-ab9f-b307545e4ad0",
   "metadata": {
    "ExecuteTime": {
     "end_time": "2024-02-02T14:49:20.398771100Z",
     "start_time": "2024-02-02T14:49:20.240832900Z"
    }
   },
   "outputs": [
    {
     "data": {
      "text/plain": "                                             Website  Employees  \\\nWalmart                       http://www.walmart.com    2300000   \nBerkshire Hathaway  http://www.berkshirehathaway.com     367700   \nApple                           http://www.apple.com     116000   \nExxon Mobil                http://www.exxonmobil.com      72700   \nMcKesson                     http://www.mckesson.com      68000   \n...                                              ...        ...   \nMichaels Cos.                http://www.michaels.com      31000   \nToll Brothers            http://www.tollbrothers.com       4200   \nYahoo                           http://www.yahoo.com       8500   \nVistra Energy            http://www.vistraenergy.com       4431   \nABM Industries                    http://www.abm.com     110000   \n\n                                        Sector  \\\nWalmart                              Retailing   \nBerkshire Hathaway                  Financials   \nApple                               Technology   \nExxon Mobil                             Energy   \nMcKesson                           Wholesalers   \n...                                        ...   \nMichaels Cos.                        Retailing   \nToll Brothers       Engineering & Construction   \nYahoo                               Technology   \nVistra Energy                           Energy   \nABM Industries               Business Services   \n\n                                                    Industry  \\\nWalmart                                General Merchandisers   \nBerkshire Hathaway  Insurance: Property and Casualty (Stock)   \nApple                            Computers, Office Equipment   \nExxon Mobil                               Petroleum Refining   \nMcKesson                            Wholesalers: Health Care   \n...                                                      ...   \nMichaels Cos.                     Specialty Retailers: Other   \nToll Brothers                                   Homebuilders   \nYahoo                        Internet Services and Retailing   \nVistra Energy                                         Energy   \nABM Industries              Diversified Outsourcing Services   \n\n                           Hqlocation                  Hqaddr         Hqcity  \\\nWalmart               Bentonville, AR     702 S.W. Eighth St.    Bentonville   \nBerkshire Hathaway          Omaha, NE         3555 Farnam St.          Omaha   \nApple                   Cupertino, CA         1 Infinite Loop      Cupertino   \nExxon Mobil                Irving, TX  5959 Las Colinas Blvd.         Irving   \nMcKesson            San Francisco, CA              1 Post St.  San Francisco   \n...                               ...                     ...            ...   \nMichaels Cos.              Irving, TX    8000 Bent Branch Dr.         Irving   \nToll Brothers             Horsham, PA       250 Gibraltar Rd.        Horsham   \nYahoo                   Sunnyvale, CA          701 First Ave.      Sunnyvale   \nVistra Energy              Dallas, TX          1601 Bryan St.         Dallas   \nABM Industries           New York, NY         1 Liberty Plaza       New York   \n\n                   Hqstate  Hqzip         Hqtel  ...  \\\nWalmart                 AR  72716  479-273-4000  ...   \nBerkshire Hathaway      NE  68131  402-346-1400  ...   \nApple                   CA  95014  408-996-1010  ...   \nExxon Mobil             TX  75039  972-444-1000  ...   \nMcKesson                CA  94104  415-983-8300  ...   \n...                    ...    ...           ...  ...   \nMichaels Cos.           TX  75063  972-409-1300  ...   \nToll Brothers           PA  19044  215-938-8000  ...   \nYahoo                   CA  94089  408-349-3300  ...   \nVistra Energy           TX  75201  214-812-4600  ...   \nABM Industries          NY  10006  212-297-0200  ...   \n\n                                                       Address Ticker  \\\nWalmart             702 S.W. Eighth St., Bentonville, AR 72716    WMT   \nBerkshire Hathaway            3555 Farnam St., Omaha, NE 68131   BRKA   \nApple                     1 Infinite Loop, Cupertino, CA 95014   AAPL   \nExxon Mobil           5959 Las Colinas Blvd., Irving, TX 75039    XOM   \nMcKesson                   1 Post St., San Francisco, CA 94104    MCK   \n...                                                        ...    ...   \nMichaels Cos.           8000 Bent Branch Dr., Irving, TX 75063    MIK   \nToll Brothers             250 Gibraltar Rd., Horsham, PA 19044    TOL   \nYahoo                      701 First Ave., Sunnyvale, CA 94089   YHOO   \nVistra Energy                 1601 Bryan St., Dallas, TX 75201    VST   \nABM Industries             1 Liberty Plaza, New York, NY 10006    ABM   \n\n                                        Fullname Revenues Revchange  Profits  \\\nWalmart                    Wal-Mart Stores, Inc.   485873       0.8  13643.0   \nBerkshire Hathaway       Berkshire Hathaway Inc.   223604       6.1  24074.0   \nApple                                Apple, Inc.   215639      -7.7  45687.0   \nExxon Mobil              Exxon Mobil Corporation   205004     -16.7   7840.0   \nMcKesson                    McKesson Corporation   192487       6.2   2258.0   \n...                                          ...      ...       ...      ...   \nMichaels Cos.       The Michaels Companies, Inc.     5197       5.8    378.2   \nToll Brothers                Toll Brothers, Inc.     5170      23.9    382.1   \nYahoo                                Yahoo! Inc.     5169       4.0   -214.3   \nVistra Energy                Vistra Energy Corp.     5164       4.0   -214.3   \nABM Industries       ABM Industries Incorporated     5145      -2.8     57.2   \n\n                    Prftchange  Assets Totshequity  rank  \nWalmart                   -7.2  198825     77798.0     1  \nBerkshire Hathaway           0  620854    283001.0     2  \nApple                    -14.4  321686    128249.0     3  \nExxon Mobil              -51.5  330314    167325.0     4  \nMcKesson                    53   56563      8924.0     5  \n...                        ...     ...         ...   ...  \nMichaels Cos.              4.2    2148     -1698.0   496  \nToll Brothers              5.2    9737      4229.0   497  \nYahoo                      5.2   48083     31049.0   498  \nVistra Energy              5.2   15167      6597.0   499  \nABM Industries             -25    2281       974.0   500  \n\n[500 rows x 22 columns]",
      "text/html": "<div>\n<style scoped>\n    .dataframe tbody tr th:only-of-type {\n        vertical-align: middle;\n    }\n\n    .dataframe tbody tr th {\n        vertical-align: top;\n    }\n\n    .dataframe thead th {\n        text-align: right;\n    }\n</style>\n<table border=\"1\" class=\"dataframe\">\n  <thead>\n    <tr style=\"text-align: right;\">\n      <th></th>\n      <th>Website</th>\n      <th>Employees</th>\n      <th>Sector</th>\n      <th>Industry</th>\n      <th>Hqlocation</th>\n      <th>Hqaddr</th>\n      <th>Hqcity</th>\n      <th>Hqstate</th>\n      <th>Hqzip</th>\n      <th>Hqtel</th>\n      <th>...</th>\n      <th>Address</th>\n      <th>Ticker</th>\n      <th>Fullname</th>\n      <th>Revenues</th>\n      <th>Revchange</th>\n      <th>Profits</th>\n      <th>Prftchange</th>\n      <th>Assets</th>\n      <th>Totshequity</th>\n      <th>rank</th>\n    </tr>\n  </thead>\n  <tbody>\n    <tr>\n      <th>Walmart</th>\n      <td>http://www.walmart.com</td>\n      <td>2300000</td>\n      <td>Retailing</td>\n      <td>General Merchandisers</td>\n      <td>Bentonville, AR</td>\n      <td>702 S.W. Eighth St.</td>\n      <td>Bentonville</td>\n      <td>AR</td>\n      <td>72716</td>\n      <td>479-273-4000</td>\n      <td>...</td>\n      <td>702 S.W. Eighth St., Bentonville, AR 72716</td>\n      <td>WMT</td>\n      <td>Wal-Mart Stores, Inc.</td>\n      <td>485873</td>\n      <td>0.8</td>\n      <td>13643.0</td>\n      <td>-7.2</td>\n      <td>198825</td>\n      <td>77798.0</td>\n      <td>1</td>\n    </tr>\n    <tr>\n      <th>Berkshire Hathaway</th>\n      <td>http://www.berkshirehathaway.com</td>\n      <td>367700</td>\n      <td>Financials</td>\n      <td>Insurance: Property and Casualty (Stock)</td>\n      <td>Omaha, NE</td>\n      <td>3555 Farnam St.</td>\n      <td>Omaha</td>\n      <td>NE</td>\n      <td>68131</td>\n      <td>402-346-1400</td>\n      <td>...</td>\n      <td>3555 Farnam St., Omaha, NE 68131</td>\n      <td>BRKA</td>\n      <td>Berkshire Hathaway Inc.</td>\n      <td>223604</td>\n      <td>6.1</td>\n      <td>24074.0</td>\n      <td>0</td>\n      <td>620854</td>\n      <td>283001.0</td>\n      <td>2</td>\n    </tr>\n    <tr>\n      <th>Apple</th>\n      <td>http://www.apple.com</td>\n      <td>116000</td>\n      <td>Technology</td>\n      <td>Computers, Office Equipment</td>\n      <td>Cupertino, CA</td>\n      <td>1 Infinite Loop</td>\n      <td>Cupertino</td>\n      <td>CA</td>\n      <td>95014</td>\n      <td>408-996-1010</td>\n      <td>...</td>\n      <td>1 Infinite Loop, Cupertino, CA 95014</td>\n      <td>AAPL</td>\n      <td>Apple, Inc.</td>\n      <td>215639</td>\n      <td>-7.7</td>\n      <td>45687.0</td>\n      <td>-14.4</td>\n      <td>321686</td>\n      <td>128249.0</td>\n      <td>3</td>\n    </tr>\n    <tr>\n      <th>Exxon Mobil</th>\n      <td>http://www.exxonmobil.com</td>\n      <td>72700</td>\n      <td>Energy</td>\n      <td>Petroleum Refining</td>\n      <td>Irving, TX</td>\n      <td>5959 Las Colinas Blvd.</td>\n      <td>Irving</td>\n      <td>TX</td>\n      <td>75039</td>\n      <td>972-444-1000</td>\n      <td>...</td>\n      <td>5959 Las Colinas Blvd., Irving, TX 75039</td>\n      <td>XOM</td>\n      <td>Exxon Mobil Corporation</td>\n      <td>205004</td>\n      <td>-16.7</td>\n      <td>7840.0</td>\n      <td>-51.5</td>\n      <td>330314</td>\n      <td>167325.0</td>\n      <td>4</td>\n    </tr>\n    <tr>\n      <th>McKesson</th>\n      <td>http://www.mckesson.com</td>\n      <td>68000</td>\n      <td>Wholesalers</td>\n      <td>Wholesalers: Health Care</td>\n      <td>San Francisco, CA</td>\n      <td>1 Post St.</td>\n      <td>San Francisco</td>\n      <td>CA</td>\n      <td>94104</td>\n      <td>415-983-8300</td>\n      <td>...</td>\n      <td>1 Post St., San Francisco, CA 94104</td>\n      <td>MCK</td>\n      <td>McKesson Corporation</td>\n      <td>192487</td>\n      <td>6.2</td>\n      <td>2258.0</td>\n      <td>53</td>\n      <td>56563</td>\n      <td>8924.0</td>\n      <td>5</td>\n    </tr>\n    <tr>\n      <th>...</th>\n      <td>...</td>\n      <td>...</td>\n      <td>...</td>\n      <td>...</td>\n      <td>...</td>\n      <td>...</td>\n      <td>...</td>\n      <td>...</td>\n      <td>...</td>\n      <td>...</td>\n      <td>...</td>\n      <td>...</td>\n      <td>...</td>\n      <td>...</td>\n      <td>...</td>\n      <td>...</td>\n      <td>...</td>\n      <td>...</td>\n      <td>...</td>\n      <td>...</td>\n      <td>...</td>\n    </tr>\n    <tr>\n      <th>Michaels Cos.</th>\n      <td>http://www.michaels.com</td>\n      <td>31000</td>\n      <td>Retailing</td>\n      <td>Specialty Retailers: Other</td>\n      <td>Irving, TX</td>\n      <td>8000 Bent Branch Dr.</td>\n      <td>Irving</td>\n      <td>TX</td>\n      <td>75063</td>\n      <td>972-409-1300</td>\n      <td>...</td>\n      <td>8000 Bent Branch Dr., Irving, TX 75063</td>\n      <td>MIK</td>\n      <td>The Michaels Companies, Inc.</td>\n      <td>5197</td>\n      <td>5.8</td>\n      <td>378.2</td>\n      <td>4.2</td>\n      <td>2148</td>\n      <td>-1698.0</td>\n      <td>496</td>\n    </tr>\n    <tr>\n      <th>Toll Brothers</th>\n      <td>http://www.tollbrothers.com</td>\n      <td>4200</td>\n      <td>Engineering &amp; Construction</td>\n      <td>Homebuilders</td>\n      <td>Horsham, PA</td>\n      <td>250 Gibraltar Rd.</td>\n      <td>Horsham</td>\n      <td>PA</td>\n      <td>19044</td>\n      <td>215-938-8000</td>\n      <td>...</td>\n      <td>250 Gibraltar Rd., Horsham, PA 19044</td>\n      <td>TOL</td>\n      <td>Toll Brothers, Inc.</td>\n      <td>5170</td>\n      <td>23.9</td>\n      <td>382.1</td>\n      <td>5.2</td>\n      <td>9737</td>\n      <td>4229.0</td>\n      <td>497</td>\n    </tr>\n    <tr>\n      <th>Yahoo</th>\n      <td>http://www.yahoo.com</td>\n      <td>8500</td>\n      <td>Technology</td>\n      <td>Internet Services and Retailing</td>\n      <td>Sunnyvale, CA</td>\n      <td>701 First Ave.</td>\n      <td>Sunnyvale</td>\n      <td>CA</td>\n      <td>94089</td>\n      <td>408-349-3300</td>\n      <td>...</td>\n      <td>701 First Ave., Sunnyvale, CA 94089</td>\n      <td>YHOO</td>\n      <td>Yahoo! Inc.</td>\n      <td>5169</td>\n      <td>4.0</td>\n      <td>-214.3</td>\n      <td>5.2</td>\n      <td>48083</td>\n      <td>31049.0</td>\n      <td>498</td>\n    </tr>\n    <tr>\n      <th>Vistra Energy</th>\n      <td>http://www.vistraenergy.com</td>\n      <td>4431</td>\n      <td>Energy</td>\n      <td>Energy</td>\n      <td>Dallas, TX</td>\n      <td>1601 Bryan St.</td>\n      <td>Dallas</td>\n      <td>TX</td>\n      <td>75201</td>\n      <td>214-812-4600</td>\n      <td>...</td>\n      <td>1601 Bryan St., Dallas, TX 75201</td>\n      <td>VST</td>\n      <td>Vistra Energy Corp.</td>\n      <td>5164</td>\n      <td>4.0</td>\n      <td>-214.3</td>\n      <td>5.2</td>\n      <td>15167</td>\n      <td>6597.0</td>\n      <td>499</td>\n    </tr>\n    <tr>\n      <th>ABM Industries</th>\n      <td>http://www.abm.com</td>\n      <td>110000</td>\n      <td>Business Services</td>\n      <td>Diversified Outsourcing Services</td>\n      <td>New York, NY</td>\n      <td>1 Liberty Plaza</td>\n      <td>New York</td>\n      <td>NY</td>\n      <td>10006</td>\n      <td>212-297-0200</td>\n      <td>...</td>\n      <td>1 Liberty Plaza, New York, NY 10006</td>\n      <td>ABM</td>\n      <td>ABM Industries Incorporated</td>\n      <td>5145</td>\n      <td>-2.8</td>\n      <td>57.2</td>\n      <td>-25</td>\n      <td>2281</td>\n      <td>974.0</td>\n      <td>500</td>\n    </tr>\n  </tbody>\n</table>\n<p>500 rows × 22 columns</p>\n</div>"
     },
     "execution_count": 29,
     "metadata": {},
     "output_type": "execute_result"
    }
   ],
   "source": [
    "# It is possible to change the index\n",
    "# Creat new column with the index values (because it was our company ranking)\n",
    "f500[\"rank\"] = f500.index\n",
    "\n",
    "# Set 'columnName' as the new index\n",
    "f500.set_index('Title', inplace=True)\n",
    "f500.index.name = None\n",
    "f500"
   ]
  },
  {
   "cell_type": "code",
   "execution_count": 30,
   "id": "d3f67061",
   "metadata": {
    "ExecuteTime": {
     "end_time": "2024-02-02T14:49:20.400768300Z",
     "start_time": "2024-02-02T14:49:20.252554900Z"
    }
   },
   "outputs": [
    {
     "data": {
      "text/plain": "215639"
     },
     "execution_count": 30,
     "metadata": {},
     "output_type": "execute_result"
    }
   ],
   "source": [
    "# This makes it easier for us to access values for the specific companies (otherwise also possible, of course).\n",
    "f500.loc[\"Apple\",\"Revenues\"]\n"
   ]
  },
  {
   "cell_type": "code",
   "execution_count": 31,
   "id": "ffe2fb49",
   "metadata": {
    "ExecuteTime": {
     "end_time": "2024-02-02T14:49:20.426768700Z",
     "start_time": "2024-02-02T14:49:20.255788900Z"
    }
   },
   "outputs": [
    {
     "data": {
      "text/plain": "                  index                           Website  Employees  \\\n0               Walmart            http://www.walmart.com    2300000   \n1    Berkshire Hathaway  http://www.berkshirehathaway.com     367700   \n2                 Apple              http://www.apple.com     116000   \n3           Exxon Mobil         http://www.exxonmobil.com      72700   \n4              McKesson           http://www.mckesson.com      68000   \n..                  ...                               ...        ...   \n495       Michaels Cos.           http://www.michaels.com      31000   \n496       Toll Brothers       http://www.tollbrothers.com       4200   \n497               Yahoo              http://www.yahoo.com       8500   \n498       Vistra Energy       http://www.vistraenergy.com       4431   \n499      ABM Industries                http://www.abm.com     110000   \n\n                         Sector                                  Industry  \\\n0                     Retailing                     General Merchandisers   \n1                    Financials  Insurance: Property and Casualty (Stock)   \n2                    Technology               Computers, Office Equipment   \n3                        Energy                        Petroleum Refining   \n4                   Wholesalers                  Wholesalers: Health Care   \n..                          ...                                       ...   \n495                   Retailing                Specialty Retailers: Other   \n496  Engineering & Construction                              Homebuilders   \n497                  Technology           Internet Services and Retailing   \n498                      Energy                                    Energy   \n499           Business Services          Diversified Outsourcing Services   \n\n            Hqlocation                  Hqaddr         Hqcity Hqstate  Hqzip  \\\n0      Bentonville, AR     702 S.W. Eighth St.    Bentonville      AR  72716   \n1            Omaha, NE         3555 Farnam St.          Omaha      NE  68131   \n2        Cupertino, CA         1 Infinite Loop      Cupertino      CA  95014   \n3           Irving, TX  5959 Las Colinas Blvd.         Irving      TX  75039   \n4    San Francisco, CA              1 Post St.  San Francisco      CA  94104   \n..                 ...                     ...            ...     ...    ...   \n495         Irving, TX    8000 Bent Branch Dr.         Irving      TX  75063   \n496        Horsham, PA       250 Gibraltar Rd.        Horsham      PA  19044   \n497      Sunnyvale, CA          701 First Ave.      Sunnyvale      CA  94089   \n498         Dallas, TX          1601 Bryan St.         Dallas      TX  75201   \n499       New York, NY         1 Liberty Plaza       New York      NY  10006   \n\n     ...                                     Address Ticker  \\\n0    ...  702 S.W. Eighth St., Bentonville, AR 72716    WMT   \n1    ...            3555 Farnam St., Omaha, NE 68131   BRKA   \n2    ...        1 Infinite Loop, Cupertino, CA 95014   AAPL   \n3    ...    5959 Las Colinas Blvd., Irving, TX 75039    XOM   \n4    ...         1 Post St., San Francisco, CA 94104    MCK   \n..   ...                                         ...    ...   \n495  ...      8000 Bent Branch Dr., Irving, TX 75063    MIK   \n496  ...        250 Gibraltar Rd., Horsham, PA 19044    TOL   \n497  ...         701 First Ave., Sunnyvale, CA 94089   YHOO   \n498  ...            1601 Bryan St., Dallas, TX 75201    VST   \n499  ...         1 Liberty Plaza, New York, NY 10006    ABM   \n\n                         Fullname Revenues Revchange  Profits  Prftchange  \\\n0           Wal-Mart Stores, Inc.   485873       0.8  13643.0        -7.2   \n1         Berkshire Hathaway Inc.   223604       6.1  24074.0           0   \n2                     Apple, Inc.   215639      -7.7  45687.0       -14.4   \n3         Exxon Mobil Corporation   205004     -16.7   7840.0       -51.5   \n4            McKesson Corporation   192487       6.2   2258.0          53   \n..                            ...      ...       ...      ...         ...   \n495  The Michaels Companies, Inc.     5197       5.8    378.2         4.2   \n496           Toll Brothers, Inc.     5170      23.9    382.1         5.2   \n497                   Yahoo! Inc.     5169       4.0   -214.3         5.2   \n498           Vistra Energy Corp.     5164       4.0   -214.3         5.2   \n499   ABM Industries Incorporated     5145      -2.8     57.2         -25   \n\n     Assets  Totshequity rank  \n0    198825      77798.0    1  \n1    620854     283001.0    2  \n2    321686     128249.0    3  \n3    330314     167325.0    4  \n4     56563       8924.0    5  \n..      ...          ...  ...  \n495    2148      -1698.0  496  \n496    9737       4229.0  497  \n497   48083      31049.0  498  \n498   15167       6597.0  499  \n499    2281        974.0  500  \n\n[500 rows x 23 columns]",
      "text/html": "<div>\n<style scoped>\n    .dataframe tbody tr th:only-of-type {\n        vertical-align: middle;\n    }\n\n    .dataframe tbody tr th {\n        vertical-align: top;\n    }\n\n    .dataframe thead th {\n        text-align: right;\n    }\n</style>\n<table border=\"1\" class=\"dataframe\">\n  <thead>\n    <tr style=\"text-align: right;\">\n      <th></th>\n      <th>index</th>\n      <th>Website</th>\n      <th>Employees</th>\n      <th>Sector</th>\n      <th>Industry</th>\n      <th>Hqlocation</th>\n      <th>Hqaddr</th>\n      <th>Hqcity</th>\n      <th>Hqstate</th>\n      <th>Hqzip</th>\n      <th>...</th>\n      <th>Address</th>\n      <th>Ticker</th>\n      <th>Fullname</th>\n      <th>Revenues</th>\n      <th>Revchange</th>\n      <th>Profits</th>\n      <th>Prftchange</th>\n      <th>Assets</th>\n      <th>Totshequity</th>\n      <th>rank</th>\n    </tr>\n  </thead>\n  <tbody>\n    <tr>\n      <th>0</th>\n      <td>Walmart</td>\n      <td>http://www.walmart.com</td>\n      <td>2300000</td>\n      <td>Retailing</td>\n      <td>General Merchandisers</td>\n      <td>Bentonville, AR</td>\n      <td>702 S.W. Eighth St.</td>\n      <td>Bentonville</td>\n      <td>AR</td>\n      <td>72716</td>\n      <td>...</td>\n      <td>702 S.W. Eighth St., Bentonville, AR 72716</td>\n      <td>WMT</td>\n      <td>Wal-Mart Stores, Inc.</td>\n      <td>485873</td>\n      <td>0.8</td>\n      <td>13643.0</td>\n      <td>-7.2</td>\n      <td>198825</td>\n      <td>77798.0</td>\n      <td>1</td>\n    </tr>\n    <tr>\n      <th>1</th>\n      <td>Berkshire Hathaway</td>\n      <td>http://www.berkshirehathaway.com</td>\n      <td>367700</td>\n      <td>Financials</td>\n      <td>Insurance: Property and Casualty (Stock)</td>\n      <td>Omaha, NE</td>\n      <td>3555 Farnam St.</td>\n      <td>Omaha</td>\n      <td>NE</td>\n      <td>68131</td>\n      <td>...</td>\n      <td>3555 Farnam St., Omaha, NE 68131</td>\n      <td>BRKA</td>\n      <td>Berkshire Hathaway Inc.</td>\n      <td>223604</td>\n      <td>6.1</td>\n      <td>24074.0</td>\n      <td>0</td>\n      <td>620854</td>\n      <td>283001.0</td>\n      <td>2</td>\n    </tr>\n    <tr>\n      <th>2</th>\n      <td>Apple</td>\n      <td>http://www.apple.com</td>\n      <td>116000</td>\n      <td>Technology</td>\n      <td>Computers, Office Equipment</td>\n      <td>Cupertino, CA</td>\n      <td>1 Infinite Loop</td>\n      <td>Cupertino</td>\n      <td>CA</td>\n      <td>95014</td>\n      <td>...</td>\n      <td>1 Infinite Loop, Cupertino, CA 95014</td>\n      <td>AAPL</td>\n      <td>Apple, Inc.</td>\n      <td>215639</td>\n      <td>-7.7</td>\n      <td>45687.0</td>\n      <td>-14.4</td>\n      <td>321686</td>\n      <td>128249.0</td>\n      <td>3</td>\n    </tr>\n    <tr>\n      <th>3</th>\n      <td>Exxon Mobil</td>\n      <td>http://www.exxonmobil.com</td>\n      <td>72700</td>\n      <td>Energy</td>\n      <td>Petroleum Refining</td>\n      <td>Irving, TX</td>\n      <td>5959 Las Colinas Blvd.</td>\n      <td>Irving</td>\n      <td>TX</td>\n      <td>75039</td>\n      <td>...</td>\n      <td>5959 Las Colinas Blvd., Irving, TX 75039</td>\n      <td>XOM</td>\n      <td>Exxon Mobil Corporation</td>\n      <td>205004</td>\n      <td>-16.7</td>\n      <td>7840.0</td>\n      <td>-51.5</td>\n      <td>330314</td>\n      <td>167325.0</td>\n      <td>4</td>\n    </tr>\n    <tr>\n      <th>4</th>\n      <td>McKesson</td>\n      <td>http://www.mckesson.com</td>\n      <td>68000</td>\n      <td>Wholesalers</td>\n      <td>Wholesalers: Health Care</td>\n      <td>San Francisco, CA</td>\n      <td>1 Post St.</td>\n      <td>San Francisco</td>\n      <td>CA</td>\n      <td>94104</td>\n      <td>...</td>\n      <td>1 Post St., San Francisco, CA 94104</td>\n      <td>MCK</td>\n      <td>McKesson Corporation</td>\n      <td>192487</td>\n      <td>6.2</td>\n      <td>2258.0</td>\n      <td>53</td>\n      <td>56563</td>\n      <td>8924.0</td>\n      <td>5</td>\n    </tr>\n    <tr>\n      <th>...</th>\n      <td>...</td>\n      <td>...</td>\n      <td>...</td>\n      <td>...</td>\n      <td>...</td>\n      <td>...</td>\n      <td>...</td>\n      <td>...</td>\n      <td>...</td>\n      <td>...</td>\n      <td>...</td>\n      <td>...</td>\n      <td>...</td>\n      <td>...</td>\n      <td>...</td>\n      <td>...</td>\n      <td>...</td>\n      <td>...</td>\n      <td>...</td>\n      <td>...</td>\n      <td>...</td>\n    </tr>\n    <tr>\n      <th>495</th>\n      <td>Michaels Cos.</td>\n      <td>http://www.michaels.com</td>\n      <td>31000</td>\n      <td>Retailing</td>\n      <td>Specialty Retailers: Other</td>\n      <td>Irving, TX</td>\n      <td>8000 Bent Branch Dr.</td>\n      <td>Irving</td>\n      <td>TX</td>\n      <td>75063</td>\n      <td>...</td>\n      <td>8000 Bent Branch Dr., Irving, TX 75063</td>\n      <td>MIK</td>\n      <td>The Michaels Companies, Inc.</td>\n      <td>5197</td>\n      <td>5.8</td>\n      <td>378.2</td>\n      <td>4.2</td>\n      <td>2148</td>\n      <td>-1698.0</td>\n      <td>496</td>\n    </tr>\n    <tr>\n      <th>496</th>\n      <td>Toll Brothers</td>\n      <td>http://www.tollbrothers.com</td>\n      <td>4200</td>\n      <td>Engineering &amp; Construction</td>\n      <td>Homebuilders</td>\n      <td>Horsham, PA</td>\n      <td>250 Gibraltar Rd.</td>\n      <td>Horsham</td>\n      <td>PA</td>\n      <td>19044</td>\n      <td>...</td>\n      <td>250 Gibraltar Rd., Horsham, PA 19044</td>\n      <td>TOL</td>\n      <td>Toll Brothers, Inc.</td>\n      <td>5170</td>\n      <td>23.9</td>\n      <td>382.1</td>\n      <td>5.2</td>\n      <td>9737</td>\n      <td>4229.0</td>\n      <td>497</td>\n    </tr>\n    <tr>\n      <th>497</th>\n      <td>Yahoo</td>\n      <td>http://www.yahoo.com</td>\n      <td>8500</td>\n      <td>Technology</td>\n      <td>Internet Services and Retailing</td>\n      <td>Sunnyvale, CA</td>\n      <td>701 First Ave.</td>\n      <td>Sunnyvale</td>\n      <td>CA</td>\n      <td>94089</td>\n      <td>...</td>\n      <td>701 First Ave., Sunnyvale, CA 94089</td>\n      <td>YHOO</td>\n      <td>Yahoo! Inc.</td>\n      <td>5169</td>\n      <td>4.0</td>\n      <td>-214.3</td>\n      <td>5.2</td>\n      <td>48083</td>\n      <td>31049.0</td>\n      <td>498</td>\n    </tr>\n    <tr>\n      <th>498</th>\n      <td>Vistra Energy</td>\n      <td>http://www.vistraenergy.com</td>\n      <td>4431</td>\n      <td>Energy</td>\n      <td>Energy</td>\n      <td>Dallas, TX</td>\n      <td>1601 Bryan St.</td>\n      <td>Dallas</td>\n      <td>TX</td>\n      <td>75201</td>\n      <td>...</td>\n      <td>1601 Bryan St., Dallas, TX 75201</td>\n      <td>VST</td>\n      <td>Vistra Energy Corp.</td>\n      <td>5164</td>\n      <td>4.0</td>\n      <td>-214.3</td>\n      <td>5.2</td>\n      <td>15167</td>\n      <td>6597.0</td>\n      <td>499</td>\n    </tr>\n    <tr>\n      <th>499</th>\n      <td>ABM Industries</td>\n      <td>http://www.abm.com</td>\n      <td>110000</td>\n      <td>Business Services</td>\n      <td>Diversified Outsourcing Services</td>\n      <td>New York, NY</td>\n      <td>1 Liberty Plaza</td>\n      <td>New York</td>\n      <td>NY</td>\n      <td>10006</td>\n      <td>...</td>\n      <td>1 Liberty Plaza, New York, NY 10006</td>\n      <td>ABM</td>\n      <td>ABM Industries Incorporated</td>\n      <td>5145</td>\n      <td>-2.8</td>\n      <td>57.2</td>\n      <td>-25</td>\n      <td>2281</td>\n      <td>974.0</td>\n      <td>500</td>\n    </tr>\n  </tbody>\n</table>\n<p>500 rows × 23 columns</p>\n</div>"
     },
     "execution_count": 31,
     "metadata": {},
     "output_type": "execute_result"
    }
   ],
   "source": [
    "# reset Index\n",
    "f500.reset_index(inplace=True)\n",
    "f500"
   ]
  },
  {
   "cell_type": "code",
   "execution_count": 32,
   "id": "0e40328c",
   "metadata": {
    "ExecuteTime": {
     "end_time": "2024-02-02T14:49:20.474766700Z",
     "start_time": "2024-02-02T14:49:20.269825Z"
    }
   },
   "outputs": [
    {
     "data": {
      "text/plain": "                                             Website  Employees  \\\nWalmart                       http://www.walmart.com    2300000   \nBerkshire Hathaway  http://www.berkshirehathaway.com     367700   \nApple                           http://www.apple.com     116000   \nExxon Mobil                http://www.exxonmobil.com      72700   \nMcKesson                     http://www.mckesson.com      68000   \n...                                              ...        ...   \nMichaels Cos.                http://www.michaels.com      31000   \nToll Brothers            http://www.tollbrothers.com       4200   \nYahoo                           http://www.yahoo.com       8500   \nVistra Energy            http://www.vistraenergy.com       4431   \nABM Industries                    http://www.abm.com     110000   \n\n                                        Sector  \\\nWalmart                              Retailing   \nBerkshire Hathaway                  Financials   \nApple                               Technology   \nExxon Mobil                             Energy   \nMcKesson                           Wholesalers   \n...                                        ...   \nMichaels Cos.                        Retailing   \nToll Brothers       Engineering & Construction   \nYahoo                               Technology   \nVistra Energy                           Energy   \nABM Industries               Business Services   \n\n                                                    Industry  \\\nWalmart                                General Merchandisers   \nBerkshire Hathaway  Insurance: Property and Casualty (Stock)   \nApple                            Computers, Office Equipment   \nExxon Mobil                               Petroleum Refining   \nMcKesson                            Wholesalers: Health Care   \n...                                                      ...   \nMichaels Cos.                     Specialty Retailers: Other   \nToll Brothers                                   Homebuilders   \nYahoo                        Internet Services and Retailing   \nVistra Energy                                         Energy   \nABM Industries              Diversified Outsourcing Services   \n\n                           Hqlocation                  Hqaddr         Hqcity  \\\nWalmart               Bentonville, AR     702 S.W. Eighth St.    Bentonville   \nBerkshire Hathaway          Omaha, NE         3555 Farnam St.          Omaha   \nApple                   Cupertino, CA         1 Infinite Loop      Cupertino   \nExxon Mobil                Irving, TX  5959 Las Colinas Blvd.         Irving   \nMcKesson            San Francisco, CA              1 Post St.  San Francisco   \n...                               ...                     ...            ...   \nMichaels Cos.              Irving, TX    8000 Bent Branch Dr.         Irving   \nToll Brothers             Horsham, PA       250 Gibraltar Rd.        Horsham   \nYahoo                   Sunnyvale, CA          701 First Ave.      Sunnyvale   \nVistra Energy              Dallas, TX          1601 Bryan St.         Dallas   \nABM Industries           New York, NY         1 Liberty Plaza       New York   \n\n                   Hqstate  Hqzip         Hqtel  ...  \\\nWalmart                 AR  72716  479-273-4000  ...   \nBerkshire Hathaway      NE  68131  402-346-1400  ...   \nApple                   CA  95014  408-996-1010  ...   \nExxon Mobil             TX  75039  972-444-1000  ...   \nMcKesson                CA  94104  415-983-8300  ...   \n...                    ...    ...           ...  ...   \nMichaels Cos.           TX  75063  972-409-1300  ...   \nToll Brothers           PA  19044  215-938-8000  ...   \nYahoo                   CA  94089  408-349-3300  ...   \nVistra Energy           TX  75201  214-812-4600  ...   \nABM Industries          NY  10006  212-297-0200  ...   \n\n                                                       Address Ticker  \\\nWalmart             702 S.W. Eighth St., Bentonville, AR 72716    WMT   \nBerkshire Hathaway            3555 Farnam St., Omaha, NE 68131   BRKA   \nApple                     1 Infinite Loop, Cupertino, CA 95014   AAPL   \nExxon Mobil           5959 Las Colinas Blvd., Irving, TX 75039    XOM   \nMcKesson                   1 Post St., San Francisco, CA 94104    MCK   \n...                                                        ...    ...   \nMichaels Cos.           8000 Bent Branch Dr., Irving, TX 75063    MIK   \nToll Brothers             250 Gibraltar Rd., Horsham, PA 19044    TOL   \nYahoo                      701 First Ave., Sunnyvale, CA 94089   YHOO   \nVistra Energy                 1601 Bryan St., Dallas, TX 75201    VST   \nABM Industries             1 Liberty Plaza, New York, NY 10006    ABM   \n\n                                        Fullname Revenues Revchange  Profits  \\\nWalmart                    Wal-Mart Stores, Inc.   485873       0.8  13643.0   \nBerkshire Hathaway       Berkshire Hathaway Inc.   223604       6.1  24074.0   \nApple                                Apple, Inc.   215639      -7.7  45687.0   \nExxon Mobil              Exxon Mobil Corporation   205004     -16.7   7840.0   \nMcKesson                    McKesson Corporation   192487       6.2   2258.0   \n...                                          ...      ...       ...      ...   \nMichaels Cos.       The Michaels Companies, Inc.     5197       5.8    378.2   \nToll Brothers                Toll Brothers, Inc.     5170      23.9    382.1   \nYahoo                                Yahoo! Inc.     5169       4.0   -214.3   \nVistra Energy                Vistra Energy Corp.     5164       4.0   -214.3   \nABM Industries       ABM Industries Incorporated     5145      -2.8     57.2   \n\n                    Prftchange  Assets Totshequity  rank  \nWalmart                   -7.2  198825     77798.0     1  \nBerkshire Hathaway           0  620854    283001.0     2  \nApple                    -14.4  321686    128249.0     3  \nExxon Mobil              -51.5  330314    167325.0     4  \nMcKesson                    53   56563      8924.0     5  \n...                        ...     ...         ...   ...  \nMichaels Cos.              4.2    2148     -1698.0   496  \nToll Brothers              5.2    9737      4229.0   497  \nYahoo                      5.2   48083     31049.0   498  \nVistra Energy              5.2   15167      6597.0   499  \nABM Industries             -25    2281       974.0   500  \n\n[500 rows x 22 columns]",
      "text/html": "<div>\n<style scoped>\n    .dataframe tbody tr th:only-of-type {\n        vertical-align: middle;\n    }\n\n    .dataframe tbody tr th {\n        vertical-align: top;\n    }\n\n    .dataframe thead th {\n        text-align: right;\n    }\n</style>\n<table border=\"1\" class=\"dataframe\">\n  <thead>\n    <tr style=\"text-align: right;\">\n      <th></th>\n      <th>Website</th>\n      <th>Employees</th>\n      <th>Sector</th>\n      <th>Industry</th>\n      <th>Hqlocation</th>\n      <th>Hqaddr</th>\n      <th>Hqcity</th>\n      <th>Hqstate</th>\n      <th>Hqzip</th>\n      <th>Hqtel</th>\n      <th>...</th>\n      <th>Address</th>\n      <th>Ticker</th>\n      <th>Fullname</th>\n      <th>Revenues</th>\n      <th>Revchange</th>\n      <th>Profits</th>\n      <th>Prftchange</th>\n      <th>Assets</th>\n      <th>Totshequity</th>\n      <th>rank</th>\n    </tr>\n  </thead>\n  <tbody>\n    <tr>\n      <th>Walmart</th>\n      <td>http://www.walmart.com</td>\n      <td>2300000</td>\n      <td>Retailing</td>\n      <td>General Merchandisers</td>\n      <td>Bentonville, AR</td>\n      <td>702 S.W. Eighth St.</td>\n      <td>Bentonville</td>\n      <td>AR</td>\n      <td>72716</td>\n      <td>479-273-4000</td>\n      <td>...</td>\n      <td>702 S.W. Eighth St., Bentonville, AR 72716</td>\n      <td>WMT</td>\n      <td>Wal-Mart Stores, Inc.</td>\n      <td>485873</td>\n      <td>0.8</td>\n      <td>13643.0</td>\n      <td>-7.2</td>\n      <td>198825</td>\n      <td>77798.0</td>\n      <td>1</td>\n    </tr>\n    <tr>\n      <th>Berkshire Hathaway</th>\n      <td>http://www.berkshirehathaway.com</td>\n      <td>367700</td>\n      <td>Financials</td>\n      <td>Insurance: Property and Casualty (Stock)</td>\n      <td>Omaha, NE</td>\n      <td>3555 Farnam St.</td>\n      <td>Omaha</td>\n      <td>NE</td>\n      <td>68131</td>\n      <td>402-346-1400</td>\n      <td>...</td>\n      <td>3555 Farnam St., Omaha, NE 68131</td>\n      <td>BRKA</td>\n      <td>Berkshire Hathaway Inc.</td>\n      <td>223604</td>\n      <td>6.1</td>\n      <td>24074.0</td>\n      <td>0</td>\n      <td>620854</td>\n      <td>283001.0</td>\n      <td>2</td>\n    </tr>\n    <tr>\n      <th>Apple</th>\n      <td>http://www.apple.com</td>\n      <td>116000</td>\n      <td>Technology</td>\n      <td>Computers, Office Equipment</td>\n      <td>Cupertino, CA</td>\n      <td>1 Infinite Loop</td>\n      <td>Cupertino</td>\n      <td>CA</td>\n      <td>95014</td>\n      <td>408-996-1010</td>\n      <td>...</td>\n      <td>1 Infinite Loop, Cupertino, CA 95014</td>\n      <td>AAPL</td>\n      <td>Apple, Inc.</td>\n      <td>215639</td>\n      <td>-7.7</td>\n      <td>45687.0</td>\n      <td>-14.4</td>\n      <td>321686</td>\n      <td>128249.0</td>\n      <td>3</td>\n    </tr>\n    <tr>\n      <th>Exxon Mobil</th>\n      <td>http://www.exxonmobil.com</td>\n      <td>72700</td>\n      <td>Energy</td>\n      <td>Petroleum Refining</td>\n      <td>Irving, TX</td>\n      <td>5959 Las Colinas Blvd.</td>\n      <td>Irving</td>\n      <td>TX</td>\n      <td>75039</td>\n      <td>972-444-1000</td>\n      <td>...</td>\n      <td>5959 Las Colinas Blvd., Irving, TX 75039</td>\n      <td>XOM</td>\n      <td>Exxon Mobil Corporation</td>\n      <td>205004</td>\n      <td>-16.7</td>\n      <td>7840.0</td>\n      <td>-51.5</td>\n      <td>330314</td>\n      <td>167325.0</td>\n      <td>4</td>\n    </tr>\n    <tr>\n      <th>McKesson</th>\n      <td>http://www.mckesson.com</td>\n      <td>68000</td>\n      <td>Wholesalers</td>\n      <td>Wholesalers: Health Care</td>\n      <td>San Francisco, CA</td>\n      <td>1 Post St.</td>\n      <td>San Francisco</td>\n      <td>CA</td>\n      <td>94104</td>\n      <td>415-983-8300</td>\n      <td>...</td>\n      <td>1 Post St., San Francisco, CA 94104</td>\n      <td>MCK</td>\n      <td>McKesson Corporation</td>\n      <td>192487</td>\n      <td>6.2</td>\n      <td>2258.0</td>\n      <td>53</td>\n      <td>56563</td>\n      <td>8924.0</td>\n      <td>5</td>\n    </tr>\n    <tr>\n      <th>...</th>\n      <td>...</td>\n      <td>...</td>\n      <td>...</td>\n      <td>...</td>\n      <td>...</td>\n      <td>...</td>\n      <td>...</td>\n      <td>...</td>\n      <td>...</td>\n      <td>...</td>\n      <td>...</td>\n      <td>...</td>\n      <td>...</td>\n      <td>...</td>\n      <td>...</td>\n      <td>...</td>\n      <td>...</td>\n      <td>...</td>\n      <td>...</td>\n      <td>...</td>\n      <td>...</td>\n    </tr>\n    <tr>\n      <th>Michaels Cos.</th>\n      <td>http://www.michaels.com</td>\n      <td>31000</td>\n      <td>Retailing</td>\n      <td>Specialty Retailers: Other</td>\n      <td>Irving, TX</td>\n      <td>8000 Bent Branch Dr.</td>\n      <td>Irving</td>\n      <td>TX</td>\n      <td>75063</td>\n      <td>972-409-1300</td>\n      <td>...</td>\n      <td>8000 Bent Branch Dr., Irving, TX 75063</td>\n      <td>MIK</td>\n      <td>The Michaels Companies, Inc.</td>\n      <td>5197</td>\n      <td>5.8</td>\n      <td>378.2</td>\n      <td>4.2</td>\n      <td>2148</td>\n      <td>-1698.0</td>\n      <td>496</td>\n    </tr>\n    <tr>\n      <th>Toll Brothers</th>\n      <td>http://www.tollbrothers.com</td>\n      <td>4200</td>\n      <td>Engineering &amp; Construction</td>\n      <td>Homebuilders</td>\n      <td>Horsham, PA</td>\n      <td>250 Gibraltar Rd.</td>\n      <td>Horsham</td>\n      <td>PA</td>\n      <td>19044</td>\n      <td>215-938-8000</td>\n      <td>...</td>\n      <td>250 Gibraltar Rd., Horsham, PA 19044</td>\n      <td>TOL</td>\n      <td>Toll Brothers, Inc.</td>\n      <td>5170</td>\n      <td>23.9</td>\n      <td>382.1</td>\n      <td>5.2</td>\n      <td>9737</td>\n      <td>4229.0</td>\n      <td>497</td>\n    </tr>\n    <tr>\n      <th>Yahoo</th>\n      <td>http://www.yahoo.com</td>\n      <td>8500</td>\n      <td>Technology</td>\n      <td>Internet Services and Retailing</td>\n      <td>Sunnyvale, CA</td>\n      <td>701 First Ave.</td>\n      <td>Sunnyvale</td>\n      <td>CA</td>\n      <td>94089</td>\n      <td>408-349-3300</td>\n      <td>...</td>\n      <td>701 First Ave., Sunnyvale, CA 94089</td>\n      <td>YHOO</td>\n      <td>Yahoo! Inc.</td>\n      <td>5169</td>\n      <td>4.0</td>\n      <td>-214.3</td>\n      <td>5.2</td>\n      <td>48083</td>\n      <td>31049.0</td>\n      <td>498</td>\n    </tr>\n    <tr>\n      <th>Vistra Energy</th>\n      <td>http://www.vistraenergy.com</td>\n      <td>4431</td>\n      <td>Energy</td>\n      <td>Energy</td>\n      <td>Dallas, TX</td>\n      <td>1601 Bryan St.</td>\n      <td>Dallas</td>\n      <td>TX</td>\n      <td>75201</td>\n      <td>214-812-4600</td>\n      <td>...</td>\n      <td>1601 Bryan St., Dallas, TX 75201</td>\n      <td>VST</td>\n      <td>Vistra Energy Corp.</td>\n      <td>5164</td>\n      <td>4.0</td>\n      <td>-214.3</td>\n      <td>5.2</td>\n      <td>15167</td>\n      <td>6597.0</td>\n      <td>499</td>\n    </tr>\n    <tr>\n      <th>ABM Industries</th>\n      <td>http://www.abm.com</td>\n      <td>110000</td>\n      <td>Business Services</td>\n      <td>Diversified Outsourcing Services</td>\n      <td>New York, NY</td>\n      <td>1 Liberty Plaza</td>\n      <td>New York</td>\n      <td>NY</td>\n      <td>10006</td>\n      <td>212-297-0200</td>\n      <td>...</td>\n      <td>1 Liberty Plaza, New York, NY 10006</td>\n      <td>ABM</td>\n      <td>ABM Industries Incorporated</td>\n      <td>5145</td>\n      <td>-2.8</td>\n      <td>57.2</td>\n      <td>-25</td>\n      <td>2281</td>\n      <td>974.0</td>\n      <td>500</td>\n    </tr>\n  </tbody>\n</table>\n<p>500 rows × 22 columns</p>\n</div>"
     },
     "execution_count": 32,
     "metadata": {},
     "output_type": "execute_result"
    }
   ],
   "source": [
    "f500.set_index('index', inplace=True)\n",
    "f500.index.name = None\n",
    "f500"
   ]
  },
  {
   "cell_type": "code",
   "execution_count": 33,
   "id": "12037d5f-142c-4d1a-b538-75712caa25d9",
   "metadata": {
    "ExecuteTime": {
     "end_time": "2024-02-02T14:49:20.475767500Z",
     "start_time": "2024-02-02T14:49:20.283034Z"
    }
   },
   "outputs": [
    {
     "name": "stdout",
     "output_type": "stream",
     "text": [
      "                    rank  Revenues\n",
      "Walmart                1    485873\n",
      "Berkshire Hathaway     2    223604\n",
      "Apple                  3    215639\n",
      "Exxon Mobil            4    205004\n",
      "McKesson               5    192487\n"
     ]
    }
   ],
   "source": [
    "# Perform assignment in pandas\n",
    "top5_rank_revenue = f500[[\"rank\", \"Revenues\"]].head()\n",
    "print(top5_rank_revenue)"
   ]
  },
  {
   "cell_type": "code",
   "execution_count": 34,
   "id": "d6e40580-c5f2-4541-bdae-2b8a9bdbc288",
   "metadata": {
    "ExecuteTime": {
     "end_time": "2024-02-02T14:49:20.548766200Z",
     "start_time": "2024-02-02T14:49:20.286756300Z"
    }
   },
   "outputs": [
    {
     "name": "stdout",
     "output_type": "stream",
     "text": [
      "                    rank  Revenues\n",
      "Walmart                1         0\n",
      "Berkshire Hathaway     2         0\n",
      "Apple                  3         0\n",
      "Exxon Mobil            4         0\n",
      "McKesson               5         0\n"
     ]
    }
   ],
   "source": [
    "top5_rank_revenue[\"Revenues\"] = 0\n",
    "print(top5_rank_revenue)"
   ]
  },
  {
   "cell_type": "code",
   "execution_count": 35,
   "id": "03dc7b53-3997-4c0b-9715-169fd8444bae",
   "metadata": {
    "ExecuteTime": {
     "end_time": "2024-02-02T14:49:20.549768400Z",
     "start_time": "2024-02-02T14:49:20.295515500Z"
    }
   },
   "outputs": [
    {
     "name": "stdout",
     "output_type": "stream",
     "text": [
      "                    rank  Revenues\n",
      "Walmart                1         0\n",
      "Berkshire Hathaway     2         0\n",
      "Apple                  3       999\n",
      "Exxon Mobil            4         0\n",
      "McKesson               5         0\n"
     ]
    }
   ],
   "source": [
    "# By providing labels for both axes, we can assign them to a single value within our dataframe.\n",
    "top5_rank_revenue.loc[\"Apple\", \"Revenues\"] = 999\n",
    "print(top5_rank_revenue)"
   ]
  },
  {
   "cell_type": "code",
   "execution_count": 36,
   "id": "0025fe5b-add0-4045-a85b-e781e12c9030",
   "metadata": {
    "ExecuteTime": {
     "end_time": "2024-02-02T14:49:20.550767700Z",
     "start_time": "2024-02-02T14:49:20.301893200Z"
    }
   },
   "outputs": [
    {
     "data": {
      "text/plain": "       rank  Revenues\nApple     3       999",
      "text/html": "<div>\n<style scoped>\n    .dataframe tbody tr th:only-of-type {\n        vertical-align: middle;\n    }\n\n    .dataframe tbody tr th {\n        vertical-align: top;\n    }\n\n    .dataframe thead th {\n        text-align: right;\n    }\n</style>\n<table border=\"1\" class=\"dataframe\">\n  <thead>\n    <tr style=\"text-align: right;\">\n      <th></th>\n      <th>rank</th>\n      <th>Revenues</th>\n    </tr>\n  </thead>\n  <tbody>\n    <tr>\n      <th>Apple</th>\n      <td>3</td>\n      <td>999</td>\n    </tr>\n  </tbody>\n</table>\n</div>"
     },
     "execution_count": 36,
     "metadata": {},
     "output_type": "execute_result"
    }
   ],
   "source": [
    "# we can use boolean indexing to change all rows that meet the same criteria\n",
    "num_bool = top5_rank_revenue[\"Revenues\"]>0\n",
    "result = top5_rank_revenue[num_bool]\n",
    "result\n",
    "#print(num_bool)"
   ]
  },
  {
   "cell_type": "code",
   "execution_count": 37,
   "id": "a2c9e6b8-166c-4065-b3bf-063dbd70bbc5",
   "metadata": {
    "ExecuteTime": {
     "end_time": "2024-02-02T14:49:20.551767Z",
     "start_time": "2024-02-02T14:49:20.310209500Z"
    }
   },
   "outputs": [
    {
     "data": {
      "text/plain": "                    rank  Revenues\nWalmart                1         0\nBerkshire Hathaway     2         0\nApple                  3         0\nExxon Mobil            4         0\nMcKesson               5         0",
      "text/html": "<div>\n<style scoped>\n    .dataframe tbody tr th:only-of-type {\n        vertical-align: middle;\n    }\n\n    .dataframe tbody tr th {\n        vertical-align: top;\n    }\n\n    .dataframe thead th {\n        text-align: right;\n    }\n</style>\n<table border=\"1\" class=\"dataframe\">\n  <thead>\n    <tr style=\"text-align: right;\">\n      <th></th>\n      <th>rank</th>\n      <th>Revenues</th>\n    </tr>\n  </thead>\n  <tbody>\n    <tr>\n      <th>Walmart</th>\n      <td>1</td>\n      <td>0</td>\n    </tr>\n    <tr>\n      <th>Berkshire Hathaway</th>\n      <td>2</td>\n      <td>0</td>\n    </tr>\n    <tr>\n      <th>Apple</th>\n      <td>3</td>\n      <td>0</td>\n    </tr>\n    <tr>\n      <th>Exxon Mobil</th>\n      <td>4</td>\n      <td>0</td>\n    </tr>\n    <tr>\n      <th>McKesson</th>\n      <td>5</td>\n      <td>0</td>\n    </tr>\n  </tbody>\n</table>\n</div>"
     },
     "execution_count": 37,
     "metadata": {},
     "output_type": "execute_result"
    }
   ],
   "source": [
    "# We can also combine boolean indexing and assigning\n",
    "top5_rank_revenue.loc[top5_rank_revenue[\"Revenues\"] == 999,\"Revenues\"] = 0\n",
    "top5_rank_revenue"
   ]
  },
  {
   "cell_type": "code",
   "execution_count": 38,
   "id": "baacec89-1a27-4f44-b1a5-3f187461344b",
   "metadata": {
    "ExecuteTime": {
     "end_time": "2024-02-02T14:49:20.551767Z",
     "start_time": "2024-02-02T14:49:20.318205100Z"
    }
   },
   "outputs": [
    {
     "name": "stdout",
     "output_type": "stream",
     "text": [
      "Sector\n",
      "Financials    84\n",
      "Energy        57\n",
      "Name: count, dtype: int64\n"
     ]
    }
   ],
   "source": [
    "# to remind you\n",
    "top_2_sectors = f500[\"Sector\"].value_counts().head(2)\n",
    "print(top_2_sectors)"
   ]
  },
  {
   "cell_type": "code",
   "execution_count": 39,
   "id": "db8102bc-6ff0-4f9c-85c5-002ca47245d6",
   "metadata": {
    "ExecuteTime": {
     "end_time": "2024-02-02T14:49:20.552766800Z",
     "start_time": "2024-02-02T14:49:20.325674100Z"
    }
   },
   "outputs": [],
   "source": [
    "# Now a task, find the 5 most frequent values for the Industry column for the Financials sector \n",
    "# and  the 10 most frequent values for the Industry column for the Energy sector "
   ]
  },
  {
   "cell_type": "code",
   "execution_count": 40,
   "id": "caf332aa-e010-4cf6-96d0-c8a4657a660a",
   "metadata": {
    "ExecuteTime": {
     "end_time": "2024-02-02T14:49:20.585767Z",
     "start_time": "2024-02-02T14:49:20.331039700Z"
    }
   },
   "outputs": [
    {
     "data": {
      "text/plain": "Industry\nInsurance: Property and Casualty (Stock)    20\nCommercial Banks                            19\nDiversified Financials                      12\nInsurance: Life, Health (Stock)             10\nInsurance: Life, Health (Mutual)             7\nName: count, dtype: int64"
     },
     "execution_count": 40,
     "metadata": {},
     "output_type": "execute_result"
    }
   ],
   "source": [
    "Sector_Finance = f500.loc[f500[\"Sector\"] == \"Financials\", \"Industry\"].value_counts().head(5)\n",
    "Sector_Energy = f500.loc[f500[\"Sector\"]==\"Energy\",\"Industry\"].value_counts().head(10)\n",
    "Sector_Finance\n",
    "#Sector_Energy"
   ]
  }
 ],
 "metadata": {
  "kernelspec": {
   "display_name": "Python 3 (ipykernel)",
   "language": "python",
   "name": "python3"
  },
  "language_info": {
   "codemirror_mode": {
    "name": "ipython",
    "version": 3
   },
   "file_extension": ".py",
   "mimetype": "text/x-python",
   "name": "python",
   "nbconvert_exporter": "python",
   "pygments_lexer": "ipython3",
   "version": "3.9.18"
  }
 },
 "nbformat": 4,
 "nbformat_minor": 5
}
