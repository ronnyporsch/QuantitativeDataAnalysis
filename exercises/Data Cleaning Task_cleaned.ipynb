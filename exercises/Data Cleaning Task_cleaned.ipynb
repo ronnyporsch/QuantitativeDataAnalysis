{
 "cells": [
  {
   "cell_type": "code",
   "execution_count": 2,
   "id": "d559ece5-beda-4bd6-bb02-889bbc51faa9",
   "metadata": {
    "ExecuteTime": {
     "end_time": "2024-02-02T13:04:29.749738300Z",
     "start_time": "2024-02-02T13:04:29.485676400Z"
    }
   },
   "outputs": [
    {
     "data": {
      "text/plain": "                                    Titel des Beitrags  Reichweite  \\\n0    RAUM27 kommt aufs Elbenwald Festival! d' Das D...       33053   \n1    Einmal wie Son Goku sein, nur ohne das ganze h...       36271   \n2    Wir hoffen, ihr hattet ein tolles Wochenende >...       84666   \n3    In Case of zu viele Fragezeichen im Kopf: Nehm...      101441   \n4    Steht ihr auch so auf Cosplays wie wir? Rhetor...       83560   \n..                                                 ...         ...   \n270  Eigentlich benutzen Hogwarts-Schüler ausschlie...       83410   \n271  Das ist wohl der Moment, den sich Kylo immer e...       53956   \n272  Du suchst nach einer epischen Aufbewahrung für...       54703   \n273  Noch bis zum 3. Januar spart ihr bei mehr als ...       42587   \n274  Ein Notizbuch für all die kommenden Geschichte...       99622   \n\n     _x001E_ Gefällt mir_x001C_ -Angaben und Reaktionen  Kommentare  \\\n0                                                  912            9   \n1                                                 1727           14   \n2                                                 5708           12   \n3                                                 7563           38   \n4                                                 3274           78   \n..                                                 ...          ...   \n270                                               5428           97   \n271                                               2611           22   \n272                                               2239           12   \n273                                               1144            4   \n274                                               4987           59   \n\n     Geteilte Inhalte  Ergebnisse  Kosten pro Ergebnis  Link-Klicks  \n0                 NaN         NaN                  NaN          NaN  \n1                 NaN         NaN                  NaN          NaN  \n2                 NaN         NaN                  NaN          NaN  \n3                 NaN         NaN                  NaN          NaN  \n4                 NaN         NaN                  NaN          NaN  \n..                ...         ...                  ...          ...  \n270               NaN         NaN                  NaN          NaN  \n271               NaN         NaN                  NaN          NaN  \n272               NaN         NaN                  NaN          NaN  \n273               NaN         NaN                  NaN          NaN  \n274               NaN         NaN                  NaN          NaN  \n\n[275 rows x 8 columns]",
      "text/html": "<div>\n<style scoped>\n    .dataframe tbody tr th:only-of-type {\n        vertical-align: middle;\n    }\n\n    .dataframe tbody tr th {\n        vertical-align: top;\n    }\n\n    .dataframe thead th {\n        text-align: right;\n    }\n</style>\n<table border=\"1\" class=\"dataframe\">\n  <thead>\n    <tr style=\"text-align: right;\">\n      <th></th>\n      <th>Titel des Beitrags</th>\n      <th>Reichweite</th>\n      <th>_x001E_ Gefällt mir_x001C_ -Angaben und Reaktionen</th>\n      <th>Kommentare</th>\n      <th>Geteilte Inhalte</th>\n      <th>Ergebnisse</th>\n      <th>Kosten pro Ergebnis</th>\n      <th>Link-Klicks</th>\n    </tr>\n  </thead>\n  <tbody>\n    <tr>\n      <th>0</th>\n      <td>RAUM27 kommt aufs Elbenwald Festival! d' Das D...</td>\n      <td>33053</td>\n      <td>912</td>\n      <td>9</td>\n      <td>NaN</td>\n      <td>NaN</td>\n      <td>NaN</td>\n      <td>NaN</td>\n    </tr>\n    <tr>\n      <th>1</th>\n      <td>Einmal wie Son Goku sein, nur ohne das ganze h...</td>\n      <td>36271</td>\n      <td>1727</td>\n      <td>14</td>\n      <td>NaN</td>\n      <td>NaN</td>\n      <td>NaN</td>\n      <td>NaN</td>\n    </tr>\n    <tr>\n      <th>2</th>\n      <td>Wir hoffen, ihr hattet ein tolles Wochenende &gt;...</td>\n      <td>84666</td>\n      <td>5708</td>\n      <td>12</td>\n      <td>NaN</td>\n      <td>NaN</td>\n      <td>NaN</td>\n      <td>NaN</td>\n    </tr>\n    <tr>\n      <th>3</th>\n      <td>In Case of zu viele Fragezeichen im Kopf: Nehm...</td>\n      <td>101441</td>\n      <td>7563</td>\n      <td>38</td>\n      <td>NaN</td>\n      <td>NaN</td>\n      <td>NaN</td>\n      <td>NaN</td>\n    </tr>\n    <tr>\n      <th>4</th>\n      <td>Steht ihr auch so auf Cosplays wie wir? Rhetor...</td>\n      <td>83560</td>\n      <td>3274</td>\n      <td>78</td>\n      <td>NaN</td>\n      <td>NaN</td>\n      <td>NaN</td>\n      <td>NaN</td>\n    </tr>\n    <tr>\n      <th>...</th>\n      <td>...</td>\n      <td>...</td>\n      <td>...</td>\n      <td>...</td>\n      <td>...</td>\n      <td>...</td>\n      <td>...</td>\n      <td>...</td>\n    </tr>\n    <tr>\n      <th>270</th>\n      <td>Eigentlich benutzen Hogwarts-Schüler ausschlie...</td>\n      <td>83410</td>\n      <td>5428</td>\n      <td>97</td>\n      <td>NaN</td>\n      <td>NaN</td>\n      <td>NaN</td>\n      <td>NaN</td>\n    </tr>\n    <tr>\n      <th>271</th>\n      <td>Das ist wohl der Moment, den sich Kylo immer e...</td>\n      <td>53956</td>\n      <td>2611</td>\n      <td>22</td>\n      <td>NaN</td>\n      <td>NaN</td>\n      <td>NaN</td>\n      <td>NaN</td>\n    </tr>\n    <tr>\n      <th>272</th>\n      <td>Du suchst nach einer epischen Aufbewahrung für...</td>\n      <td>54703</td>\n      <td>2239</td>\n      <td>12</td>\n      <td>NaN</td>\n      <td>NaN</td>\n      <td>NaN</td>\n      <td>NaN</td>\n    </tr>\n    <tr>\n      <th>273</th>\n      <td>Noch bis zum 3. Januar spart ihr bei mehr als ...</td>\n      <td>42587</td>\n      <td>1144</td>\n      <td>4</td>\n      <td>NaN</td>\n      <td>NaN</td>\n      <td>NaN</td>\n      <td>NaN</td>\n    </tr>\n    <tr>\n      <th>274</th>\n      <td>Ein Notizbuch für all die kommenden Geschichte...</td>\n      <td>99622</td>\n      <td>4987</td>\n      <td>59</td>\n      <td>NaN</td>\n      <td>NaN</td>\n      <td>NaN</td>\n      <td>NaN</td>\n    </tr>\n  </tbody>\n</table>\n<p>275 rows × 8 columns</p>\n</div>"
     },
     "execution_count": 2,
     "metadata": {},
     "output_type": "execute_result"
    }
   ],
   "source": [
    "#!pip install pandas openpyxl\n",
    "import pandas as pd\n",
    "import re\n",
    "df = pd.read_excel(\"inputData/Social_Media_Instagram.xlsx\")\n",
    "df"
   ]
  },
  {
   "cell_type": "code",
   "execution_count": 3,
   "id": "53af2fae-2b9a-43ec-a234-d807f2bc6cf6",
   "metadata": {
    "ExecuteTime": {
     "end_time": "2024-02-02T13:04:29.753735700Z",
     "start_time": "2024-02-02T13:04:29.708507700Z"
    }
   },
   "outputs": [],
   "source": [
    "# Main task: Create a clean text that does not contain any special characters, links, hashtags or similar.\n",
    "# Create a new column that specifies the number of characters for the cleaned text (without spaces). \n",
    "\n",
    "# Additional tasks\n",
    "# Create new names (in English) for the columns.\n",
    "# Create a new column containing the hashtags.\n",
    "# Specifies the number of hashtags and the number of characters used (without spaces and \"#\") in 2 new columns.\n",
    "# Clean up data. Delete unnecessary columns or rows\n",
    "\n",
    "# Special bonus task (Bonus points!): Get along with the emojis (e.g.: the string \"=Ø\\tÞ\")\n",
    "# How many emojis are in the post and which emojis are in the post (e.g. sad, etc.)? \n",
    "# 3 bonus points for the module if the correct determination of these values is found for the entire data set."
   ]
  },
  {
   "cell_type": "code",
   "execution_count": 4,
   "id": "b7b1f31b-f49a-43da-9d6f-6655336c8303",
   "metadata": {
    "ExecuteTime": {
     "end_time": "2024-02-02T13:04:29.768829900Z",
     "start_time": "2024-02-02T13:04:29.713900500Z"
    }
   },
   "outputs": [
    {
     "data": {
      "text/plain": "                                    Titel des Beitrags  Reichweite  \\\n0    RAUM27 kommt aufs Elbenwald Festival! d' Das D...       33053   \n1    Einmal wie Son Goku sein, nur ohne das ganze h...       36271   \n2    Wir hoffen, ihr hattet ein tolles Wochenende >...       84666   \n3    In Case of zu viele Fragezeichen im Kopf: Nehm...      101441   \n4    Steht ihr auch so auf Cosplays wie wir? Rhetor...       83560   \n..                                                 ...         ...   \n270  Eigentlich benutzen Hogwarts-Schüler ausschlie...       83410   \n271  Das ist wohl der Moment, den sich Kylo immer e...       53956   \n272  Du suchst nach einer epischen Aufbewahrung für...       54703   \n273  Noch bis zum 3. Januar spart ihr bei mehr als ...       42587   \n274  Ein Notizbuch für all die kommenden Geschichte...       99622   \n\n     _x001E_ Gefällt mir_x001C_ -Angaben und Reaktionen  Kommentare  \\\n0                                                  912            9   \n1                                                 1727           14   \n2                                                 5708           12   \n3                                                 7563           38   \n4                                                 3274           78   \n..                                                 ...          ...   \n270                                               5428           97   \n271                                               2611           22   \n272                                               2239           12   \n273                                               1144            4   \n274                                               4987           59   \n\n     Geteilte Inhalte  Ergebnisse  Kosten pro Ergebnis  Link-Klicks  \n0                 NaN         NaN                  NaN          NaN  \n1                 NaN         NaN                  NaN          NaN  \n2                 NaN         NaN                  NaN          NaN  \n3                 NaN         NaN                  NaN          NaN  \n4                 NaN         NaN                  NaN          NaN  \n..                ...         ...                  ...          ...  \n270               NaN         NaN                  NaN          NaN  \n271               NaN         NaN                  NaN          NaN  \n272               NaN         NaN                  NaN          NaN  \n273               NaN         NaN                  NaN          NaN  \n274               NaN         NaN                  NaN          NaN  \n\n[275 rows x 8 columns]",
      "text/html": "<div>\n<style scoped>\n    .dataframe tbody tr th:only-of-type {\n        vertical-align: middle;\n    }\n\n    .dataframe tbody tr th {\n        vertical-align: top;\n    }\n\n    .dataframe thead th {\n        text-align: right;\n    }\n</style>\n<table border=\"1\" class=\"dataframe\">\n  <thead>\n    <tr style=\"text-align: right;\">\n      <th></th>\n      <th>Titel des Beitrags</th>\n      <th>Reichweite</th>\n      <th>_x001E_ Gefällt mir_x001C_ -Angaben und Reaktionen</th>\n      <th>Kommentare</th>\n      <th>Geteilte Inhalte</th>\n      <th>Ergebnisse</th>\n      <th>Kosten pro Ergebnis</th>\n      <th>Link-Klicks</th>\n    </tr>\n  </thead>\n  <tbody>\n    <tr>\n      <th>0</th>\n      <td>RAUM27 kommt aufs Elbenwald Festival! d' Das D...</td>\n      <td>33053</td>\n      <td>912</td>\n      <td>9</td>\n      <td>NaN</td>\n      <td>NaN</td>\n      <td>NaN</td>\n      <td>NaN</td>\n    </tr>\n    <tr>\n      <th>1</th>\n      <td>Einmal wie Son Goku sein, nur ohne das ganze h...</td>\n      <td>36271</td>\n      <td>1727</td>\n      <td>14</td>\n      <td>NaN</td>\n      <td>NaN</td>\n      <td>NaN</td>\n      <td>NaN</td>\n    </tr>\n    <tr>\n      <th>2</th>\n      <td>Wir hoffen, ihr hattet ein tolles Wochenende &gt;...</td>\n      <td>84666</td>\n      <td>5708</td>\n      <td>12</td>\n      <td>NaN</td>\n      <td>NaN</td>\n      <td>NaN</td>\n      <td>NaN</td>\n    </tr>\n    <tr>\n      <th>3</th>\n      <td>In Case of zu viele Fragezeichen im Kopf: Nehm...</td>\n      <td>101441</td>\n      <td>7563</td>\n      <td>38</td>\n      <td>NaN</td>\n      <td>NaN</td>\n      <td>NaN</td>\n      <td>NaN</td>\n    </tr>\n    <tr>\n      <th>4</th>\n      <td>Steht ihr auch so auf Cosplays wie wir? Rhetor...</td>\n      <td>83560</td>\n      <td>3274</td>\n      <td>78</td>\n      <td>NaN</td>\n      <td>NaN</td>\n      <td>NaN</td>\n      <td>NaN</td>\n    </tr>\n    <tr>\n      <th>...</th>\n      <td>...</td>\n      <td>...</td>\n      <td>...</td>\n      <td>...</td>\n      <td>...</td>\n      <td>...</td>\n      <td>...</td>\n      <td>...</td>\n    </tr>\n    <tr>\n      <th>270</th>\n      <td>Eigentlich benutzen Hogwarts-Schüler ausschlie...</td>\n      <td>83410</td>\n      <td>5428</td>\n      <td>97</td>\n      <td>NaN</td>\n      <td>NaN</td>\n      <td>NaN</td>\n      <td>NaN</td>\n    </tr>\n    <tr>\n      <th>271</th>\n      <td>Das ist wohl der Moment, den sich Kylo immer e...</td>\n      <td>53956</td>\n      <td>2611</td>\n      <td>22</td>\n      <td>NaN</td>\n      <td>NaN</td>\n      <td>NaN</td>\n      <td>NaN</td>\n    </tr>\n    <tr>\n      <th>272</th>\n      <td>Du suchst nach einer epischen Aufbewahrung für...</td>\n      <td>54703</td>\n      <td>2239</td>\n      <td>12</td>\n      <td>NaN</td>\n      <td>NaN</td>\n      <td>NaN</td>\n      <td>NaN</td>\n    </tr>\n    <tr>\n      <th>273</th>\n      <td>Noch bis zum 3. Januar spart ihr bei mehr als ...</td>\n      <td>42587</td>\n      <td>1144</td>\n      <td>4</td>\n      <td>NaN</td>\n      <td>NaN</td>\n      <td>NaN</td>\n      <td>NaN</td>\n    </tr>\n    <tr>\n      <th>274</th>\n      <td>Ein Notizbuch für all die kommenden Geschichte...</td>\n      <td>99622</td>\n      <td>4987</td>\n      <td>59</td>\n      <td>NaN</td>\n      <td>NaN</td>\n      <td>NaN</td>\n      <td>NaN</td>\n    </tr>\n  </tbody>\n</table>\n<p>275 rows × 8 columns</p>\n</div>"
     },
     "execution_count": 4,
     "metadata": {},
     "output_type": "execute_result"
    }
   ],
   "source": [
    "df"
   ]
  },
  {
   "cell_type": "code",
   "execution_count": 5,
   "id": "7d814aba-18b0-4615-b4bd-9131eb99e835",
   "metadata": {
    "ExecuteTime": {
     "end_time": "2024-02-02T13:04:29.794688700Z",
     "start_time": "2024-02-02T13:04:29.726847100Z"
    }
   },
   "outputs": [
    {
     "data": {
      "text/plain": "         impressions         likes    comments\ncount     275.000000    275.000000  275.000000\nmean    47285.458182   2405.549091   39.847273\nstd     18526.561475   1458.728443   47.901343\nmin       828.000000     23.000000    0.000000\n25%     35947.500000   1433.000000   12.000000\n50%     42587.000000   2062.000000   25.000000\n75%     53478.500000   2948.000000   53.000000\nmax    127850.000000  10609.000000  346.000000",
      "text/html": "<div>\n<style scoped>\n    .dataframe tbody tr th:only-of-type {\n        vertical-align: middle;\n    }\n\n    .dataframe tbody tr th {\n        vertical-align: top;\n    }\n\n    .dataframe thead th {\n        text-align: right;\n    }\n</style>\n<table border=\"1\" class=\"dataframe\">\n  <thead>\n    <tr style=\"text-align: right;\">\n      <th></th>\n      <th>impressions</th>\n      <th>likes</th>\n      <th>comments</th>\n    </tr>\n  </thead>\n  <tbody>\n    <tr>\n      <th>count</th>\n      <td>275.000000</td>\n      <td>275.000000</td>\n      <td>275.000000</td>\n    </tr>\n    <tr>\n      <th>mean</th>\n      <td>47285.458182</td>\n      <td>2405.549091</td>\n      <td>39.847273</td>\n    </tr>\n    <tr>\n      <th>std</th>\n      <td>18526.561475</td>\n      <td>1458.728443</td>\n      <td>47.901343</td>\n    </tr>\n    <tr>\n      <th>min</th>\n      <td>828.000000</td>\n      <td>23.000000</td>\n      <td>0.000000</td>\n    </tr>\n    <tr>\n      <th>25%</th>\n      <td>35947.500000</td>\n      <td>1433.000000</td>\n      <td>12.000000</td>\n    </tr>\n    <tr>\n      <th>50%</th>\n      <td>42587.000000</td>\n      <td>2062.000000</td>\n      <td>25.000000</td>\n    </tr>\n    <tr>\n      <th>75%</th>\n      <td>53478.500000</td>\n      <td>2948.000000</td>\n      <td>53.000000</td>\n    </tr>\n    <tr>\n      <th>max</th>\n      <td>127850.000000</td>\n      <td>10609.000000</td>\n      <td>346.000000</td>\n    </tr>\n  </tbody>\n</table>\n</div>"
     },
     "execution_count": 5,
     "metadata": {},
     "output_type": "execute_result"
    }
   ],
   "source": [
    "# rename columns\n",
    "df = df.rename(columns={\"Titel des Beitrags\":\"text\",\n",
    "                        \"Reichweite\":\"impressions\",\n",
    "                        \"_x001E_ Gefällt mir_x001C_ -Angaben und Reaktionen\":\"likes\",\n",
    "                        \"Kommentare\":\"comments\",\n",
    "                        })\n",
    "\n",
    "# slice the data set\n",
    "df = df.iloc[:,0:4]\n",
    "\n",
    "# Examine the data set\n",
    "df.describe()\n",
    "# no missing values"
   ]
  },
  {
   "cell_type": "code",
   "execution_count": 6,
   "id": "0e27198c-f58f-4ee6-8dc7-43140735cdc7",
   "metadata": {
    "ExecuteTime": {
     "end_time": "2024-02-02T13:04:29.796689700Z",
     "start_time": "2024-02-02T13:04:29.740984400Z"
    }
   },
   "outputs": [
    {
     "data": {
      "text/plain": "\"RAUM27 kommt aufs Elbenwald Festival! d' Das Duo macht Deutsch-Rock und -Pop. Sagen sie selbst. Fügen aber dazu, dass man sich auf kein Genre festlegen will. Weil jedes Lied für sich steht. Zum Nachdenken anregen soll. Am besten weit weg vom klassischen Radio-Entertainment. \\n\\nHey: Was ist das letzte Album, das ihr gehört habt? Und wie hat's euch gefallen?\\n\\nMehr Infos über RAUM27 (und ihre ziemlich geile Aktion bei einem Faber-Konzert) findet ihr in unserem Line-Up unterwww.elbenwald.de/Festival/ =Ø%Ý\\n\\n#elbenwaldfestival #ewf2021 #raum27\""
     },
     "execution_count": 6,
     "metadata": {},
     "output_type": "execute_result"
    }
   ],
   "source": [
    "df.at[0,\"text\"]"
   ]
  },
  {
   "cell_type": "code",
   "execution_count": 7,
   "id": "908be14c-a026-4c23-b3aa-76d57090162e",
   "metadata": {
    "ExecuteTime": {
     "end_time": "2024-02-02T13:04:29.837690Z",
     "start_time": "2024-02-02T13:04:29.748736900Z"
    }
   },
   "outputs": [
    {
     "data": {
      "text/plain": "                                                text  impressions  likes  \\\n0  RAUM27 kommt aufs Elbenwald Festival! d' Das D...        33053    912   \n1  Einmal wie Son Goku sein, nur ohne das ganze h...        36271   1727   \n2  Wir hoffen, ihr hattet ein tolles Wochenende >...        84666   5708   \n3  In Case of zu viele Fragezeichen im Kopf: Nehm...       101441   7563   \n4  Steht ihr auch so auf Cosplays wie wir? Rhetor...        83560   3274   \n\n   comments                                           hashtags  \n0         9                #elbenwaldfestival #ewf2021 #raum27  \n1        14                  #dragonball #dragonballz #songoku  \n2        12                         #elbenwald #shoutoutsunday  \n3        38  #supermario #questionmarkblock #gaming #ninten...  \n4        78  #elbenwald #elbenwaldfestival #ewf2021 #cospla...  ",
      "text/html": "<div>\n<style scoped>\n    .dataframe tbody tr th:only-of-type {\n        vertical-align: middle;\n    }\n\n    .dataframe tbody tr th {\n        vertical-align: top;\n    }\n\n    .dataframe thead th {\n        text-align: right;\n    }\n</style>\n<table border=\"1\" class=\"dataframe\">\n  <thead>\n    <tr style=\"text-align: right;\">\n      <th></th>\n      <th>text</th>\n      <th>impressions</th>\n      <th>likes</th>\n      <th>comments</th>\n      <th>hashtags</th>\n    </tr>\n  </thead>\n  <tbody>\n    <tr>\n      <th>0</th>\n      <td>RAUM27 kommt aufs Elbenwald Festival! d' Das D...</td>\n      <td>33053</td>\n      <td>912</td>\n      <td>9</td>\n      <td>#elbenwaldfestival #ewf2021 #raum27</td>\n    </tr>\n    <tr>\n      <th>1</th>\n      <td>Einmal wie Son Goku sein, nur ohne das ganze h...</td>\n      <td>36271</td>\n      <td>1727</td>\n      <td>14</td>\n      <td>#dragonball #dragonballz #songoku</td>\n    </tr>\n    <tr>\n      <th>2</th>\n      <td>Wir hoffen, ihr hattet ein tolles Wochenende &gt;...</td>\n      <td>84666</td>\n      <td>5708</td>\n      <td>12</td>\n      <td>#elbenwald #shoutoutsunday</td>\n    </tr>\n    <tr>\n      <th>3</th>\n      <td>In Case of zu viele Fragezeichen im Kopf: Nehm...</td>\n      <td>101441</td>\n      <td>7563</td>\n      <td>38</td>\n      <td>#supermario #questionmarkblock #gaming #ninten...</td>\n    </tr>\n    <tr>\n      <th>4</th>\n      <td>Steht ihr auch so auf Cosplays wie wir? Rhetor...</td>\n      <td>83560</td>\n      <td>3274</td>\n      <td>78</td>\n      <td>#elbenwald #elbenwaldfestival #ewf2021 #cospla...</td>\n    </tr>\n  </tbody>\n</table>\n</div>"
     },
     "execution_count": 7,
     "metadata": {},
     "output_type": "execute_result"
    }
   ],
   "source": [
    "# extract hashtags\n",
    "hashtags = df['text'].str.extractall(r'(#\\w+)')[0] \n",
    "# str.extractall extracts all hashtags from the text column. (multiindex Dataframe) --> see hashtags\n",
    "# \"#\\w+\" searches for words beginning with a \"#\"\n",
    "df['hashtags'] = hashtags.groupby(level=0).apply(' '.join)\n",
    "# hashtags.groupby(level=0) --> The hashtags found in each row (in column \"text\") are assigned to a group.\n",
    "# .apply(' '.join) --> merges all elements of the hashtag group (using groupby) into a single string.\n",
    "df.head()"
   ]
  },
  {
   "cell_type": "code",
   "execution_count": 7,
   "id": "35f38478-b2c9-4c3f-b4b4-d9e4568cb350",
   "metadata": {
    "ExecuteTime": {
     "end_time": "2024-02-02T13:04:29.839689400Z",
     "start_time": "2024-02-02T13:04:29.771431200Z"
    }
   },
   "outputs": [],
   "source": []
  },
  {
   "cell_type": "code",
   "execution_count": 8,
   "id": "431d934d-d527-4b0a-bc22-a7e16cc2536e",
   "metadata": {
    "ExecuteTime": {
     "end_time": "2024-02-02T13:04:30.305009200Z",
     "start_time": "2024-02-02T13:04:29.775437700Z"
    }
   },
   "outputs": [
    {
     "ename": "TypeError",
     "evalue": "object of type 'float' has no len()",
     "output_type": "error",
     "traceback": [
      "\u001B[1;31m---------------------------------------------------------------------------\u001B[0m",
      "\u001B[1;31mTypeError\u001B[0m                                 Traceback (most recent call last)",
      "Cell \u001B[1;32mIn[8], line 2\u001B[0m\n\u001B[0;32m      1\u001B[0m \u001B[38;5;66;03m# count hashtags\u001B[39;00m\n\u001B[1;32m----> 2\u001B[0m df[\u001B[38;5;124m'\u001B[39m\u001B[38;5;124mhashtag_count\u001B[39m\u001B[38;5;124m'\u001B[39m] \u001B[38;5;241m=\u001B[39m \u001B[43mdf\u001B[49m\u001B[43m[\u001B[49m\u001B[38;5;124;43m'\u001B[39;49m\u001B[38;5;124;43mhashtags\u001B[39;49m\u001B[38;5;124;43m'\u001B[39;49m\u001B[43m]\u001B[49m\u001B[38;5;241;43m.\u001B[39;49m\u001B[43mstr\u001B[49m\u001B[38;5;241;43m.\u001B[39;49m\u001B[43msplit\u001B[49m\u001B[43m(\u001B[49m\u001B[43m)\u001B[49m\u001B[38;5;241;43m.\u001B[39;49m\u001B[43mapply\u001B[49m\u001B[43m(\u001B[49m\u001B[38;5;28;43mlen\u001B[39;49m\u001B[43m)\u001B[49m\n\u001B[0;32m      3\u001B[0m df\u001B[38;5;241m.\u001B[39mhead()\n\u001B[0;32m      4\u001B[0m \u001B[38;5;66;03m# We seem to have empty values under hashtags\u001B[39;00m\n",
      "File \u001B[1;32m~\\PycharmProjects\\QuantitativeDataAnalysis\\.venv\\Lib\\site-packages\\pandas\\core\\series.py:4904\u001B[0m, in \u001B[0;36mSeries.apply\u001B[1;34m(self, func, convert_dtype, args, by_row, **kwargs)\u001B[0m\n\u001B[0;32m   4769\u001B[0m \u001B[38;5;28;01mdef\u001B[39;00m \u001B[38;5;21mapply\u001B[39m(\n\u001B[0;32m   4770\u001B[0m     \u001B[38;5;28mself\u001B[39m,\n\u001B[0;32m   4771\u001B[0m     func: AggFuncType,\n\u001B[1;32m   (...)\u001B[0m\n\u001B[0;32m   4776\u001B[0m     \u001B[38;5;241m*\u001B[39m\u001B[38;5;241m*\u001B[39mkwargs,\n\u001B[0;32m   4777\u001B[0m ) \u001B[38;5;241m-\u001B[39m\u001B[38;5;241m>\u001B[39m DataFrame \u001B[38;5;241m|\u001B[39m Series:\n\u001B[0;32m   4778\u001B[0m \u001B[38;5;250m    \u001B[39m\u001B[38;5;124;03m\"\"\"\u001B[39;00m\n\u001B[0;32m   4779\u001B[0m \u001B[38;5;124;03m    Invoke function on values of Series.\u001B[39;00m\n\u001B[0;32m   4780\u001B[0m \n\u001B[1;32m   (...)\u001B[0m\n\u001B[0;32m   4895\u001B[0m \u001B[38;5;124;03m    dtype: float64\u001B[39;00m\n\u001B[0;32m   4896\u001B[0m \u001B[38;5;124;03m    \"\"\"\u001B[39;00m\n\u001B[0;32m   4897\u001B[0m     \u001B[38;5;28;01mreturn\u001B[39;00m \u001B[43mSeriesApply\u001B[49m\u001B[43m(\u001B[49m\n\u001B[0;32m   4898\u001B[0m \u001B[43m        \u001B[49m\u001B[38;5;28;43mself\u001B[39;49m\u001B[43m,\u001B[49m\n\u001B[0;32m   4899\u001B[0m \u001B[43m        \u001B[49m\u001B[43mfunc\u001B[49m\u001B[43m,\u001B[49m\n\u001B[0;32m   4900\u001B[0m \u001B[43m        \u001B[49m\u001B[43mconvert_dtype\u001B[49m\u001B[38;5;241;43m=\u001B[39;49m\u001B[43mconvert_dtype\u001B[49m\u001B[43m,\u001B[49m\n\u001B[0;32m   4901\u001B[0m \u001B[43m        \u001B[49m\u001B[43mby_row\u001B[49m\u001B[38;5;241;43m=\u001B[39;49m\u001B[43mby_row\u001B[49m\u001B[43m,\u001B[49m\n\u001B[0;32m   4902\u001B[0m \u001B[43m        \u001B[49m\u001B[43margs\u001B[49m\u001B[38;5;241;43m=\u001B[39;49m\u001B[43margs\u001B[49m\u001B[43m,\u001B[49m\n\u001B[0;32m   4903\u001B[0m \u001B[43m        \u001B[49m\u001B[43mkwargs\u001B[49m\u001B[38;5;241;43m=\u001B[39;49m\u001B[43mkwargs\u001B[49m\u001B[43m,\u001B[49m\n\u001B[1;32m-> 4904\u001B[0m \u001B[43m    \u001B[49m\u001B[43m)\u001B[49m\u001B[38;5;241;43m.\u001B[39;49m\u001B[43mapply\u001B[49m\u001B[43m(\u001B[49m\u001B[43m)\u001B[49m\n",
      "File \u001B[1;32m~\\PycharmProjects\\QuantitativeDataAnalysis\\.venv\\Lib\\site-packages\\pandas\\core\\apply.py:1427\u001B[0m, in \u001B[0;36mSeriesApply.apply\u001B[1;34m(self)\u001B[0m\n\u001B[0;32m   1424\u001B[0m     \u001B[38;5;28;01mreturn\u001B[39;00m \u001B[38;5;28mself\u001B[39m\u001B[38;5;241m.\u001B[39mapply_compat()\n\u001B[0;32m   1426\u001B[0m \u001B[38;5;66;03m# self.func is Callable\u001B[39;00m\n\u001B[1;32m-> 1427\u001B[0m \u001B[38;5;28;01mreturn\u001B[39;00m \u001B[38;5;28;43mself\u001B[39;49m\u001B[38;5;241;43m.\u001B[39;49m\u001B[43mapply_standard\u001B[49m\u001B[43m(\u001B[49m\u001B[43m)\u001B[49m\n",
      "File \u001B[1;32m~\\PycharmProjects\\QuantitativeDataAnalysis\\.venv\\Lib\\site-packages\\pandas\\core\\apply.py:1507\u001B[0m, in \u001B[0;36mSeriesApply.apply_standard\u001B[1;34m(self)\u001B[0m\n\u001B[0;32m   1501\u001B[0m \u001B[38;5;66;03m# row-wise access\u001B[39;00m\n\u001B[0;32m   1502\u001B[0m \u001B[38;5;66;03m# apply doesn't have a `na_action` keyword and for backward compat reasons\u001B[39;00m\n\u001B[0;32m   1503\u001B[0m \u001B[38;5;66;03m# we need to give `na_action=\"ignore\"` for categorical data.\u001B[39;00m\n\u001B[0;32m   1504\u001B[0m \u001B[38;5;66;03m# TODO: remove the `na_action=\"ignore\"` when that default has been changed in\u001B[39;00m\n\u001B[0;32m   1505\u001B[0m \u001B[38;5;66;03m#  Categorical (GH51645).\u001B[39;00m\n\u001B[0;32m   1506\u001B[0m action \u001B[38;5;241m=\u001B[39m \u001B[38;5;124m\"\u001B[39m\u001B[38;5;124mignore\u001B[39m\u001B[38;5;124m\"\u001B[39m \u001B[38;5;28;01mif\u001B[39;00m \u001B[38;5;28misinstance\u001B[39m(obj\u001B[38;5;241m.\u001B[39mdtype, CategoricalDtype) \u001B[38;5;28;01melse\u001B[39;00m \u001B[38;5;28;01mNone\u001B[39;00m\n\u001B[1;32m-> 1507\u001B[0m mapped \u001B[38;5;241m=\u001B[39m \u001B[43mobj\u001B[49m\u001B[38;5;241;43m.\u001B[39;49m\u001B[43m_map_values\u001B[49m\u001B[43m(\u001B[49m\n\u001B[0;32m   1508\u001B[0m \u001B[43m    \u001B[49m\u001B[43mmapper\u001B[49m\u001B[38;5;241;43m=\u001B[39;49m\u001B[43mcurried\u001B[49m\u001B[43m,\u001B[49m\u001B[43m \u001B[49m\u001B[43mna_action\u001B[49m\u001B[38;5;241;43m=\u001B[39;49m\u001B[43maction\u001B[49m\u001B[43m,\u001B[49m\u001B[43m \u001B[49m\u001B[43mconvert\u001B[49m\u001B[38;5;241;43m=\u001B[39;49m\u001B[38;5;28;43mself\u001B[39;49m\u001B[38;5;241;43m.\u001B[39;49m\u001B[43mconvert_dtype\u001B[49m\n\u001B[0;32m   1509\u001B[0m \u001B[43m\u001B[49m\u001B[43m)\u001B[49m\n\u001B[0;32m   1511\u001B[0m \u001B[38;5;28;01mif\u001B[39;00m \u001B[38;5;28mlen\u001B[39m(mapped) \u001B[38;5;129;01mand\u001B[39;00m \u001B[38;5;28misinstance\u001B[39m(mapped[\u001B[38;5;241m0\u001B[39m], ABCSeries):\n\u001B[0;32m   1512\u001B[0m     \u001B[38;5;66;03m# GH#43986 Need to do list(mapped) in order to get treated as nested\u001B[39;00m\n\u001B[0;32m   1513\u001B[0m     \u001B[38;5;66;03m#  See also GH#25959 regarding EA support\u001B[39;00m\n\u001B[0;32m   1514\u001B[0m     \u001B[38;5;28;01mreturn\u001B[39;00m obj\u001B[38;5;241m.\u001B[39m_constructor_expanddim(\u001B[38;5;28mlist\u001B[39m(mapped), index\u001B[38;5;241m=\u001B[39mobj\u001B[38;5;241m.\u001B[39mindex)\n",
      "File \u001B[1;32m~\\PycharmProjects\\QuantitativeDataAnalysis\\.venv\\Lib\\site-packages\\pandas\\core\\base.py:921\u001B[0m, in \u001B[0;36mIndexOpsMixin._map_values\u001B[1;34m(self, mapper, na_action, convert)\u001B[0m\n\u001B[0;32m    918\u001B[0m \u001B[38;5;28;01mif\u001B[39;00m \u001B[38;5;28misinstance\u001B[39m(arr, ExtensionArray):\n\u001B[0;32m    919\u001B[0m     \u001B[38;5;28;01mreturn\u001B[39;00m arr\u001B[38;5;241m.\u001B[39mmap(mapper, na_action\u001B[38;5;241m=\u001B[39mna_action)\n\u001B[1;32m--> 921\u001B[0m \u001B[38;5;28;01mreturn\u001B[39;00m \u001B[43malgorithms\u001B[49m\u001B[38;5;241;43m.\u001B[39;49m\u001B[43mmap_array\u001B[49m\u001B[43m(\u001B[49m\u001B[43marr\u001B[49m\u001B[43m,\u001B[49m\u001B[43m \u001B[49m\u001B[43mmapper\u001B[49m\u001B[43m,\u001B[49m\u001B[43m \u001B[49m\u001B[43mna_action\u001B[49m\u001B[38;5;241;43m=\u001B[39;49m\u001B[43mna_action\u001B[49m\u001B[43m,\u001B[49m\u001B[43m \u001B[49m\u001B[43mconvert\u001B[49m\u001B[38;5;241;43m=\u001B[39;49m\u001B[43mconvert\u001B[49m\u001B[43m)\u001B[49m\n",
      "File \u001B[1;32m~\\PycharmProjects\\QuantitativeDataAnalysis\\.venv\\Lib\\site-packages\\pandas\\core\\algorithms.py:1743\u001B[0m, in \u001B[0;36mmap_array\u001B[1;34m(arr, mapper, na_action, convert)\u001B[0m\n\u001B[0;32m   1741\u001B[0m values \u001B[38;5;241m=\u001B[39m arr\u001B[38;5;241m.\u001B[39mastype(\u001B[38;5;28mobject\u001B[39m, copy\u001B[38;5;241m=\u001B[39m\u001B[38;5;28;01mFalse\u001B[39;00m)\n\u001B[0;32m   1742\u001B[0m \u001B[38;5;28;01mif\u001B[39;00m na_action \u001B[38;5;129;01mis\u001B[39;00m \u001B[38;5;28;01mNone\u001B[39;00m:\n\u001B[1;32m-> 1743\u001B[0m     \u001B[38;5;28;01mreturn\u001B[39;00m \u001B[43mlib\u001B[49m\u001B[38;5;241;43m.\u001B[39;49m\u001B[43mmap_infer\u001B[49m\u001B[43m(\u001B[49m\u001B[43mvalues\u001B[49m\u001B[43m,\u001B[49m\u001B[43m \u001B[49m\u001B[43mmapper\u001B[49m\u001B[43m,\u001B[49m\u001B[43m \u001B[49m\u001B[43mconvert\u001B[49m\u001B[38;5;241;43m=\u001B[39;49m\u001B[43mconvert\u001B[49m\u001B[43m)\u001B[49m\n\u001B[0;32m   1744\u001B[0m \u001B[38;5;28;01melse\u001B[39;00m:\n\u001B[0;32m   1745\u001B[0m     \u001B[38;5;28;01mreturn\u001B[39;00m lib\u001B[38;5;241m.\u001B[39mmap_infer_mask(\n\u001B[0;32m   1746\u001B[0m         values, mapper, mask\u001B[38;5;241m=\u001B[39misna(values)\u001B[38;5;241m.\u001B[39mview(np\u001B[38;5;241m.\u001B[39muint8), convert\u001B[38;5;241m=\u001B[39mconvert\n\u001B[0;32m   1747\u001B[0m     )\n",
      "File \u001B[1;32mlib.pyx:2972\u001B[0m, in \u001B[0;36mpandas._libs.lib.map_infer\u001B[1;34m()\u001B[0m\n",
      "\u001B[1;31mTypeError\u001B[0m: object of type 'float' has no len()"
     ]
    }
   ],
   "source": [
    "# count hashtags\n",
    "df['hashtag_count'] = df['hashtags'].str.split().apply(len)\n",
    "df.head()\n",
    "# We seem to have empty values under hashtags"
   ]
  },
  {
   "cell_type": "code",
   "execution_count": null,
   "id": "cf648df9-ddac-494e-85c8-f59a0d27e449",
   "metadata": {
    "ExecuteTime": {
     "start_time": "2024-02-02T13:04:30.246391600Z"
    }
   },
   "outputs": [],
   "source": [
    "# Fill the values with an empty string\n",
    "df['hashtags'] = df['hashtags'].fillna('')\n",
    "df['hashtag_count'] = df['hashtags'].str.split().apply(len)\n",
    "df.head()"
   ]
  },
  {
   "cell_type": "code",
   "execution_count": null,
   "id": "bbee6325-1304-4882-9a54-7cb1d7957d86",
   "metadata": {
    "ExecuteTime": {
     "start_time": "2024-02-02T13:04:30.248384500Z"
    }
   },
   "outputs": [],
   "source": [
    "# count the hashtag characters\n",
    "df['hashtag_char_count'] = df['hashtags'].apply(lambda x: len(x.replace(\" \", \"\").replace(\"#\", \"\")))\n",
    "df.head()"
   ]
  },
  {
   "cell_type": "code",
   "execution_count": null,
   "id": "92081644-630d-41e1-8dab-1c6ee992c7e8",
   "metadata": {
    "ExecuteTime": {
     "start_time": "2024-02-02T13:04:30.251385400Z"
    }
   },
   "outputs": [],
   "source": [
    "# Clean up text and extract emojis\n",
    "\n",
    "# clear \"\\n\"\n",
    "df['text_clear'] = df['text'].str.replace(r'\\n', ' ', regex=True)\n",
    "\n",
    "\n",
    "# clear links\n",
    "def remove_links(text):\n",
    "    link_pattern = re.compile(r'www\\.[^\\s]+')\n",
    "    text_without_links = re.sub(link_pattern, '', text)\n",
    "    return text_without_links\n",
    "\n",
    "df['text_clear'] = [remove_links(s) for s in df[\"text_clear\"]]\n",
    "\n",
    "\n",
    "# find and count emojis\n",
    "def fix_spacing(text):\n",
    "    # Replace \".\" with \". \"\n",
    "    text = re.sub(r'\\.(?!\\s)', '. ', text)\n",
    "    \n",
    "    # Replace \"(\" and \")\" with \" ( \" and \" ) \"\n",
    "    text = re.sub(r'(?<!\\s)\\((?!\\s)', ' ( ', text)\n",
    "    text = re.sub(r'(?<!\\s)\\)(?!\\s)', ' ) ', text)\n",
    "\n",
    "    \n",
    "    return text\n",
    "    \n",
    "df['text_clear'] = df['text_clear'].apply(fix_spacing)\n",
    "\n",
    "def process_text(text):\n",
    "    # Divide the text into sub-strings using spaces\n",
    "    substrings = text.split()\n",
    "\n",
    "    # Create a list to save the sub-strings\n",
    "    result_substrings = []\n",
    "\n",
    "    # Run through the sub-strings and check for the \"Ø\" and so on characters\n",
    "    for substring in substrings:\n",
    "        if 'Ø' in substring:\n",
    "            result_substrings.append(substring)\n",
    "        if \"_x\" in substring:\n",
    "            result_substrings.append(substring)        \n",
    "        if \"Þ\" in substring:\n",
    "            result_substrings.append(substring)\n",
    "            \n",
    "    # Merge the sub-strings found into one string, separated by spaces\n",
    "    result = ' '.join(result_substrings)\n",
    "\n",
    "    # Remove the sub-strings found from the original text\n",
    "    cleaned_text = ' '.join([substring for substring in substrings if substring not in result_substrings])\n",
    "\n",
    "    return result, cleaned_text\n",
    "\n",
    "df[['emojis', 'text_clear']] = df['text_clear'].apply(process_text).apply(pd.Series)\n",
    "\n",
    "df['emojis_count'] = df['emojis'].apply(lambda x: len(x.split()))\n",
    "df\n",
    "\n",
    "# Clear Hashtags\n",
    "df['text_clear'] = df['text_clear'].str.replace(r'#\\w+', '', regex=True)"
   ]
  },
  {
   "cell_type": "code",
   "execution_count": null,
   "id": "62aa7d92-699f-4afe-be0e-77168468cf7b",
   "metadata": {
    "ExecuteTime": {
     "start_time": "2024-02-02T13:04:30.253384500Z"
    }
   },
   "outputs": [],
   "source": [
    "df.at[12,\"text_clear\"]"
   ]
  },
  {
   "cell_type": "code",
   "execution_count": null,
   "id": "5f88bfa6-0489-4465-9a46-7a07677067f1",
   "metadata": {
    "ExecuteTime": {
     "start_time": "2024-02-02T13:04:30.256390Z"
    }
   },
   "outputs": [],
   "source": [
    "# count characters\n",
    "df['char_count'] = df['text_clear'].apply(lambda x: len(x.replace(\" \", \"\")))\n",
    "df.head()"
   ]
  },
  {
   "cell_type": "code",
   "execution_count": null,
   "id": "b83720c0-9272-44f1-99ac-a218f42ccba4",
   "metadata": {
    "ExecuteTime": {
     "start_time": "2024-02-02T13:04:30.258396900Z"
    }
   },
   "outputs": [],
   "source": [
    "df.to_excel(\"test.xlsx\", index=False, engine='openpyxl')"
   ]
  },
  {
   "cell_type": "code",
   "execution_count": null,
   "id": "a538b40b-5a93-4dc1-b1ec-257468f6c853",
   "metadata": {
    "ExecuteTime": {
     "start_time": "2024-02-02T13:04:30.260383600Z"
    }
   },
   "outputs": [],
   "source": []
  },
  {
   "cell_type": "code",
   "execution_count": null,
   "id": "2eb35266-f518-4a84-9419-1b1232f43d91",
   "metadata": {
    "ExecuteTime": {
     "start_time": "2024-02-02T13:04:30.262403400Z"
    }
   },
   "outputs": [],
   "source": []
  },
  {
   "cell_type": "code",
   "execution_count": null,
   "id": "83d9f215-8de0-4c39-b77f-9a82d9a6d9bc",
   "metadata": {
    "ExecuteTime": {
     "start_time": "2024-02-02T13:04:30.263409200Z"
    }
   },
   "outputs": [],
   "source": []
  },
  {
   "cell_type": "code",
   "execution_count": 8,
   "id": "82ad9a7f-724e-4a79-a6d7-b2739de4ef0e",
   "metadata": {
    "ExecuteTime": {
     "end_time": "2024-02-02T13:04:30.513330200Z",
     "start_time": "2024-02-02T13:04:30.306191700Z"
    }
   },
   "outputs": [],
   "source": []
  },
  {
   "cell_type": "code",
   "execution_count": 8,
   "id": "b61f30d2-bd7b-451a-bb62-a8fb76935a2f",
   "metadata": {
    "ExecuteTime": {
     "end_time": "2024-02-02T13:04:30.522332900Z",
     "start_time": "2024-02-02T13:04:30.410295500Z"
    }
   },
   "outputs": [],
   "source": []
  },
  {
   "cell_type": "code",
   "execution_count": 8,
   "id": "ecb21058-9f5e-46d2-bd9b-ec2aafd5b58d",
   "metadata": {
    "ExecuteTime": {
     "end_time": "2024-02-02T13:04:30.584850600Z",
     "start_time": "2024-02-02T13:04:30.524700300Z"
    }
   },
   "outputs": [],
   "source": []
  },
  {
   "cell_type": "code",
   "execution_count": 8,
   "id": "9fa81064-253c-4938-be1a-2134488a4a2c",
   "metadata": {
    "ExecuteTime": {
     "end_time": "2024-02-02T13:04:30.615925200Z",
     "start_time": "2024-02-02T13:04:30.586299Z"
    }
   },
   "outputs": [],
   "source": []
  },
  {
   "cell_type": "code",
   "execution_count": 8,
   "id": "647c1054-3467-47d7-a15c-bc7c9fdd4cf8",
   "metadata": {
    "ExecuteTime": {
     "end_time": "2024-02-02T13:04:30.686325400Z",
     "start_time": "2024-02-02T13:04:30.616559100Z"
    }
   },
   "outputs": [],
   "source": []
  },
  {
   "cell_type": "code",
   "execution_count": 8,
   "id": "60a8aef4-8c55-482b-83ef-eb5b346b0795",
   "metadata": {
    "ExecuteTime": {
     "end_time": "2024-02-02T13:04:30.709575Z",
     "start_time": "2024-02-02T13:04:30.688060400Z"
    }
   },
   "outputs": [],
   "source": [
    "\n"
   ]
  },
  {
   "cell_type": "code",
   "execution_count": 8,
   "id": "4618c7e7",
   "metadata": {
    "ExecuteTime": {
     "end_time": "2024-02-02T13:04:30.738988200Z",
     "start_time": "2024-02-02T13:04:30.711440Z"
    }
   },
   "outputs": [],
   "source": []
  },
  {
   "cell_type": "code",
   "execution_count": 8,
   "id": "e48dda49-64eb-4f1a-b6af-5316ae912a53",
   "metadata": {
    "ExecuteTime": {
     "end_time": "2024-02-02T13:04:30.781122300Z",
     "start_time": "2024-02-02T13:04:30.739990Z"
    }
   },
   "outputs": [],
   "source": []
  },
  {
   "cell_type": "code",
   "execution_count": 8,
   "id": "a1484706",
   "metadata": {
    "ExecuteTime": {
     "end_time": "2024-02-02T13:04:30.834558800Z",
     "start_time": "2024-02-02T13:04:30.763604700Z"
    }
   },
   "outputs": [],
   "source": []
  },
  {
   "cell_type": "code",
   "execution_count": 8,
   "id": "a5802ea6",
   "metadata": {
    "ExecuteTime": {
     "end_time": "2024-02-02T13:04:30.857560900Z",
     "start_time": "2024-02-02T13:04:30.815224300Z"
    }
   },
   "outputs": [],
   "source": []
  },
  {
   "cell_type": "code",
   "execution_count": 8,
   "id": "9469a9fd",
   "metadata": {
    "ExecuteTime": {
     "end_time": "2024-02-02T13:04:30.888503800Z",
     "start_time": "2024-02-02T13:04:30.859340200Z"
    }
   },
   "outputs": [],
   "source": []
  },
  {
   "cell_type": "code",
   "execution_count": 8,
   "id": "53492d3c",
   "metadata": {
    "ExecuteTime": {
     "end_time": "2024-02-02T13:04:30.936510Z",
     "start_time": "2024-02-02T13:04:30.887998100Z"
    }
   },
   "outputs": [],
   "source": []
  },
  {
   "cell_type": "code",
   "execution_count": 8,
   "id": "df5ce22f-e73a-4e37-beed-58e863fa1eea",
   "metadata": {
    "ExecuteTime": {
     "end_time": "2024-02-02T13:04:30.960043100Z",
     "start_time": "2024-02-02T13:04:30.937509400Z"
    }
   },
   "outputs": [],
   "source": []
  },
  {
   "cell_type": "code",
   "execution_count": 8,
   "id": "d0159d72",
   "metadata": {
    "ExecuteTime": {
     "end_time": "2024-02-02T13:04:31.013109700Z",
     "start_time": "2024-02-02T13:04:30.961043300Z"
    }
   },
   "outputs": [],
   "source": []
  },
  {
   "cell_type": "code",
   "execution_count": 8,
   "id": "b9717e1a-4e5b-4e1d-9e14-b0e602b4b382",
   "metadata": {
    "ExecuteTime": {
     "end_time": "2024-02-02T13:04:31.035109300Z",
     "start_time": "2024-02-02T13:04:30.994598400Z"
    }
   },
   "outputs": [],
   "source": []
  }
 ],
 "metadata": {
  "kernelspec": {
   "display_name": "Python 3 (ipykernel)",
   "language": "python",
   "name": "python3"
  },
  "language_info": {
   "codemirror_mode": {
    "name": "ipython",
    "version": 3
   },
   "file_extension": ".py",
   "mimetype": "text/x-python",
   "name": "python",
   "nbconvert_exporter": "python",
   "pygments_lexer": "ipython3",
   "version": "3.9.13"
  }
 },
 "nbformat": 4,
 "nbformat_minor": 5
}
